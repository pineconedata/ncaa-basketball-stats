{
 "cells": [
  {
   "cell_type": "markdown",
   "id": "019ec752-d121-41bc-bf79-915d92e4876f",
   "metadata": {},
   "source": [
    "# Evaluating a Machine Learning Model\n",
    "This notebook contains the code for the eigth part of this data science project - model evaluation. Section headings have been included for convenience and the full writeup is available [on my website](https://www.pineconedata.com/2024-09-13-basketball-train-ols/).\n",
    "\n",
    "## Project Overview\n",
    "This is part of a series that walks through the entire process of a data science project - from initial steps like data acquisition, preprocessing, and cleaning to more advanced steps like feature engineering, creating visualizations, and machine learning. The dataset used in this project contains individual basketball player statistics (such as total points scored and blocks made) for the 2023-2024 NCAA women’s basketball season.\n",
    "\n",
    "### Articles in this Series   \n",
    "1. [Acquiring and Combining the Datasets](https://www.pineconedata.com/2024-04-11-basketball-data-acquisition/)\n",
    "2. [Cleaning and Preprocessing the Data](https://www.pineconedata.com/2024-05-02-basketball-data-cleaning-preprocessing/)\n",
    "3. [Engineering New Features](https://www.pineconedata.com/2024-05-30-basketball-feature_engineering/)\n",
    "4. [Exploratory Data Analysis](https://www.pineconedata.com/2024-06-28-basketball-data-exploration/)\n",
    "5. [Visualizations, Charts, and Graphs](https://www.pineconedata.com/2024-07-29-basketball-visualizations/)\n",
    "6. [Selecting a Machine Learning Model](https://www.pineconedata.com/2024-08-12-basketball-select-ml-ols/)\n",
    "7. [Training the Machine Learning Model](https://www.pineconedata.com/2024-09-13-basketball-train-ols/)\n",
    "8. [Evaluating the Machine Learning Model](https://www.pineconedata.com/2024-11-27-basketball-evaluate-ols-model/) (This Notebook)"
   ]
  },
  {
   "cell_type": "markdown",
   "id": "addf9fbe-a633-4624-a015-3f8723673c14",
   "metadata": {},
   "source": [
    "# Getting Started\n",
    "Full requirements and environment setup information is detailed in the [first article of this series](https://www.pineconedata.com/2024-04-11-basketball-data-acquisition/).\n",
    "\n",
    "## Import Packages"
   ]
  },
  {
   "cell_type": "code",
   "execution_count": 1,
   "id": "f8b1322a-8aca-42f0-8176-eb2cd8f1f80e",
   "metadata": {
    "execution": {
     "iopub.execute_input": "2025-02-22T05:53:54.983075Z",
     "iopub.status.busy": "2025-02-22T05:53:54.982788Z",
     "iopub.status.idle": "2025-02-22T05:53:55.603381Z",
     "shell.execute_reply": "2025-02-22T05:53:55.602989Z",
     "shell.execute_reply.started": "2025-02-22T05:53:54.983052Z"
    },
    "tags": []
   },
   "outputs": [],
   "source": [
    "import joblib\n",
    "import pandas as pd\n",
    "import numpy as np\n",
    "from sklearn.metrics import mean_squared_error, r2_score, mean_absolute_error, root_mean_squared_error\n",
    "import seaborn as sns\n",
    "import matplotlib.pyplot as plt"
   ]
  },
  {
   "cell_type": "markdown",
   "id": "724989f2-eda6-4760-8e22-29298219a05b",
   "metadata": {},
   "source": [
    "## Import Data\n",
    "\n",
    "*Note: To reduce confusion, the variable names in this article are slightly different than in the previous notebook. Since the model initially trained used the full set of features, variable names for that model will be appended with `_full`. Since the alternate model trained used fewer features, variable names for that model will be appended with `_few` instead of `_alt`. For example, `X_test` is now `X_test_full` and `X_test_alt` is now `X_test_few`.* "
   ]
  },
  {
   "cell_type": "code",
   "execution_count": 2,
   "id": "33849ee7-0503-4008-acae-469594b14a71",
   "metadata": {
    "execution": {
     "iopub.execute_input": "2025-02-22T05:53:55.603938Z",
     "iopub.status.busy": "2025-02-22T05:53:55.603808Z",
     "iopub.status.idle": "2025-02-22T05:53:55.606118Z",
     "shell.execute_reply": "2025-02-22T05:53:55.605799Z",
     "shell.execute_reply.started": "2025-02-22T05:53:55.603928Z"
    },
    "tags": []
   },
   "outputs": [],
   "source": [
    "from pathlib import Path\n",
    "\n",
    "\n",
    "data_folder = Path.cwd().parent / 'data'\n",
    "model_folder = Path.cwd().parent / 'models'"
   ]
  },
  {
   "cell_type": "code",
   "execution_count": 3,
   "id": "08baea15-3370-4455-9e23-12848a23c034",
   "metadata": {
    "execution": {
     "iopub.execute_input": "2025-02-22T05:53:55.606606Z",
     "iopub.status.busy": "2025-02-22T05:53:55.606507Z",
     "iopub.status.idle": "2025-02-22T05:53:55.629732Z",
     "shell.execute_reply": "2025-02-22T05:53:55.629406Z",
     "shell.execute_reply.started": "2025-02-22T05:53:55.606596Z"
    },
    "tags": []
   },
   "outputs": [
    {
     "data": {
      "text/html": [
       "<div>\n",
       "<style scoped>\n",
       "    .dataframe tbody tr th:only-of-type {\n",
       "        vertical-align: middle;\n",
       "    }\n",
       "\n",
       "    .dataframe tbody tr th {\n",
       "        vertical-align: top;\n",
       "    }\n",
       "\n",
       "    .dataframe thead th {\n",
       "        text-align: right;\n",
       "    }\n",
       "</style>\n",
       "<table border=\"1\" class=\"dataframe\">\n",
       "  <thead>\n",
       "    <tr style=\"text-align: right;\">\n",
       "      <th></th>\n",
       "      <th>Height</th>\n",
       "      <th>MINUTES_PLAYED</th>\n",
       "      <th>FIELD_GOALS_MADE</th>\n",
       "      <th>THREE_POINTS_MADE</th>\n",
       "      <th>TWO_POINTS_MADE</th>\n",
       "      <th>FREE_THROWS_MADE</th>\n",
       "      <th>TOTAL_REBOUNDS</th>\n",
       "      <th>ASSISTS</th>\n",
       "      <th>TURNOVERS</th>\n",
       "      <th>STEALS</th>\n",
       "      <th>BLOCKS</th>\n",
       "      <th>FOULS</th>\n",
       "      <th>POINTS</th>\n",
       "    </tr>\n",
       "  </thead>\n",
       "  <tbody>\n",
       "    <tr>\n",
       "      <th>0</th>\n",
       "      <td>71</td>\n",
       "      <td>821</td>\n",
       "      <td>184</td>\n",
       "      <td>43</td>\n",
       "      <td>141</td>\n",
       "      <td>80</td>\n",
       "      <td>155</td>\n",
       "      <td>36</td>\n",
       "      <td>90</td>\n",
       "      <td>51</td>\n",
       "      <td>5</td>\n",
       "      <td>46</td>\n",
       "      <td>491</td>\n",
       "    </tr>\n",
       "    <tr>\n",
       "      <th>1</th>\n",
       "      <td>71</td>\n",
       "      <td>840</td>\n",
       "      <td>61</td>\n",
       "      <td>7</td>\n",
       "      <td>54</td>\n",
       "      <td>45</td>\n",
       "      <td>221</td>\n",
       "      <td>40</td>\n",
       "      <td>41</td>\n",
       "      <td>34</td>\n",
       "      <td>9</td>\n",
       "      <td>63</td>\n",
       "      <td>174</td>\n",
       "    </tr>\n",
       "    <tr>\n",
       "      <th>2</th>\n",
       "      <td>68</td>\n",
       "      <td>961</td>\n",
       "      <td>100</td>\n",
       "      <td>36</td>\n",
       "      <td>64</td>\n",
       "      <td>75</td>\n",
       "      <td>120</td>\n",
       "      <td>107</td>\n",
       "      <td>84</td>\n",
       "      <td>27</td>\n",
       "      <td>1</td>\n",
       "      <td>79</td>\n",
       "      <td>311</td>\n",
       "    </tr>\n",
       "    <tr>\n",
       "      <th>3</th>\n",
       "      <td>73</td>\n",
       "      <td>1060</td>\n",
       "      <td>231</td>\n",
       "      <td>77</td>\n",
       "      <td>154</td>\n",
       "      <td>105</td>\n",
       "      <td>167</td>\n",
       "      <td>59</td>\n",
       "      <td>105</td>\n",
       "      <td>26</td>\n",
       "      <td>45</td>\n",
       "      <td>56</td>\n",
       "      <td>644</td>\n",
       "    </tr>\n",
       "    <tr>\n",
       "      <th>4</th>\n",
       "      <td>74</td>\n",
       "      <td>814</td>\n",
       "      <td>112</td>\n",
       "      <td>2</td>\n",
       "      <td>110</td>\n",
       "      <td>42</td>\n",
       "      <td>208</td>\n",
       "      <td>33</td>\n",
       "      <td>60</td>\n",
       "      <td>33</td>\n",
       "      <td>24</td>\n",
       "      <td>37</td>\n",
       "      <td>268</td>\n",
       "    </tr>\n",
       "  </tbody>\n",
       "</table>\n",
       "</div>"
      ],
      "text/plain": [
       "   Height  MINUTES_PLAYED  FIELD_GOALS_MADE  THREE_POINTS_MADE  \\\n",
       "0      71             821               184                 43   \n",
       "1      71             840                61                  7   \n",
       "2      68             961               100                 36   \n",
       "3      73            1060               231                 77   \n",
       "4      74             814               112                  2   \n",
       "\n",
       "   TWO_POINTS_MADE  FREE_THROWS_MADE  TOTAL_REBOUNDS  ASSISTS  TURNOVERS  \\\n",
       "0              141                80             155       36         90   \n",
       "1               54                45             221       40         41   \n",
       "2               64                75             120      107         84   \n",
       "3              154               105             167       59        105   \n",
       "4              110                42             208       33         60   \n",
       "\n",
       "   STEALS  BLOCKS  FOULS  POINTS  \n",
       "0      51       5     46     491  \n",
       "1      34       9     63     174  \n",
       "2      27       1     79     311  \n",
       "3      26      45     56     644  \n",
       "4      33      24     37     268  "
      ]
     },
     "execution_count": 3,
     "metadata": {},
     "output_type": "execute_result"
    }
   ],
   "source": [
    "X_test_full = pd.read_csv(data_folder / 'X_test_full.csv')\n",
    "X_test_full.head()"
   ]
  },
  {
   "cell_type": "code",
   "execution_count": 4,
   "id": "719c02fe-6eba-4a75-a37c-6525a1892ebf",
   "metadata": {
    "execution": {
     "iopub.execute_input": "2025-02-22T05:53:55.630786Z",
     "iopub.status.busy": "2025-02-22T05:53:55.630678Z",
     "iopub.status.idle": "2025-02-22T05:53:55.636193Z",
     "shell.execute_reply": "2025-02-22T05:53:55.635903Z",
     "shell.execute_reply.started": "2025-02-22T05:53:55.630776Z"
    },
    "tags": []
   },
   "outputs": [
    {
     "data": {
      "text/html": [
       "<div>\n",
       "<style scoped>\n",
       "    .dataframe tbody tr th:only-of-type {\n",
       "        vertical-align: middle;\n",
       "    }\n",
       "\n",
       "    .dataframe tbody tr th {\n",
       "        vertical-align: top;\n",
       "    }\n",
       "\n",
       "    .dataframe thead th {\n",
       "        text-align: right;\n",
       "    }\n",
       "</style>\n",
       "<table border=\"1\" class=\"dataframe\">\n",
       "  <thead>\n",
       "    <tr style=\"text-align: right;\">\n",
       "      <th></th>\n",
       "      <th>Height</th>\n",
       "      <th>MINUTES_PLAYED</th>\n",
       "      <th>THREE_POINTS_MADE</th>\n",
       "      <th>FREE_THROWS_MADE</th>\n",
       "      <th>TOTAL_REBOUNDS</th>\n",
       "      <th>ASSISTS</th>\n",
       "      <th>TURNOVERS</th>\n",
       "      <th>STEALS</th>\n",
       "      <th>BLOCKS</th>\n",
       "      <th>FOULS</th>\n",
       "    </tr>\n",
       "  </thead>\n",
       "  <tbody>\n",
       "    <tr>\n",
       "      <th>0</th>\n",
       "      <td>71</td>\n",
       "      <td>821</td>\n",
       "      <td>43</td>\n",
       "      <td>80</td>\n",
       "      <td>155</td>\n",
       "      <td>36</td>\n",
       "      <td>90</td>\n",
       "      <td>51</td>\n",
       "      <td>5</td>\n",
       "      <td>46</td>\n",
       "    </tr>\n",
       "    <tr>\n",
       "      <th>1</th>\n",
       "      <td>71</td>\n",
       "      <td>840</td>\n",
       "      <td>7</td>\n",
       "      <td>45</td>\n",
       "      <td>221</td>\n",
       "      <td>40</td>\n",
       "      <td>41</td>\n",
       "      <td>34</td>\n",
       "      <td>9</td>\n",
       "      <td>63</td>\n",
       "    </tr>\n",
       "    <tr>\n",
       "      <th>2</th>\n",
       "      <td>68</td>\n",
       "      <td>961</td>\n",
       "      <td>36</td>\n",
       "      <td>75</td>\n",
       "      <td>120</td>\n",
       "      <td>107</td>\n",
       "      <td>84</td>\n",
       "      <td>27</td>\n",
       "      <td>1</td>\n",
       "      <td>79</td>\n",
       "    </tr>\n",
       "    <tr>\n",
       "      <th>3</th>\n",
       "      <td>73</td>\n",
       "      <td>1060</td>\n",
       "      <td>77</td>\n",
       "      <td>105</td>\n",
       "      <td>167</td>\n",
       "      <td>59</td>\n",
       "      <td>105</td>\n",
       "      <td>26</td>\n",
       "      <td>45</td>\n",
       "      <td>56</td>\n",
       "    </tr>\n",
       "    <tr>\n",
       "      <th>4</th>\n",
       "      <td>74</td>\n",
       "      <td>814</td>\n",
       "      <td>2</td>\n",
       "      <td>42</td>\n",
       "      <td>208</td>\n",
       "      <td>33</td>\n",
       "      <td>60</td>\n",
       "      <td>33</td>\n",
       "      <td>24</td>\n",
       "      <td>37</td>\n",
       "    </tr>\n",
       "  </tbody>\n",
       "</table>\n",
       "</div>"
      ],
      "text/plain": [
       "   Height  MINUTES_PLAYED  THREE_POINTS_MADE  FREE_THROWS_MADE  \\\n",
       "0      71             821                 43                80   \n",
       "1      71             840                  7                45   \n",
       "2      68             961                 36                75   \n",
       "3      73            1060                 77               105   \n",
       "4      74             814                  2                42   \n",
       "\n",
       "   TOTAL_REBOUNDS  ASSISTS  TURNOVERS  STEALS  BLOCKS  FOULS  \n",
       "0             155       36         90      51       5     46  \n",
       "1             221       40         41      34       9     63  \n",
       "2             120      107         84      27       1     79  \n",
       "3             167       59        105      26      45     56  \n",
       "4             208       33         60      33      24     37  "
      ]
     },
     "execution_count": 4,
     "metadata": {},
     "output_type": "execute_result"
    }
   ],
   "source": [
    "X_test_few = pd.read_csv(data_folder / 'X_test_few.csv')\n",
    "X_test_few.head()"
   ]
  },
  {
   "cell_type": "code",
   "execution_count": 5,
   "id": "342c0978-413d-4be2-8404-d469b69576dd",
   "metadata": {
    "execution": {
     "iopub.execute_input": "2025-02-22T05:53:55.636678Z",
     "iopub.status.busy": "2025-02-22T05:53:55.636578Z",
     "iopub.status.idle": "2025-02-22T05:53:55.643596Z",
     "shell.execute_reply": "2025-02-22T05:53:55.643295Z",
     "shell.execute_reply.started": "2025-02-22T05:53:55.636669Z"
    },
    "tags": []
   },
   "outputs": [
    {
     "data": {
      "text/plain": [
       "array([ 753. ,  544.2,  587.5,  969.9,  621.1,  594.4,  554.5,  808. ,\n",
       "        884.2,  838.2,  901.6,  797.2, 1314.6,  474.1,  552.4,  687. ,\n",
       "        514.9,  499. ,  886.9,  189.9,  697.1,  325.8,  465.8,  569.9,\n",
       "        793.6,  691.4,  590.6,  661.2,  920. ,  643.1,  557.4,  634.1,\n",
       "        562. ,  542.6,  848.8,  283. , 1218.9,  698.5,  476.1,  694. ,\n",
       "        675.5,  638.8,  634.4,  646.9,  696.2,  611.3,  777.1,  335.3,\n",
       "        430.7,  664.6,  604.9,  534.5,  860.9,  655.1,  478.8,  584. ,\n",
       "        636.9,  787.2,  375.1,  622.7,  465.6,  545.4,  712.7,  398. ,\n",
       "        538.5,  742.9,  559. ,  476.5,  395. ,  463.3,  568.3,  890.3,\n",
       "        619. ,  582.4,  705.7,  690.6, 1027.6,  602.5,  540.3,  560.9,\n",
       "        423.4,  653.3, 1171.8,  868.5,  526.8,  730. ,  834. ,  547.4,\n",
       "        719.2,  765.3,  676.5,  826.8,  845. ,  361. ,  723.3,  372.7,\n",
       "        876.9,  570.1,  708.8,  720.2,  780.5,  901.9,  489.8,  583.7,\n",
       "        702. ,  769.6,  557.1,  595.5,  417.6,  799.9,  727.5,  960.4,\n",
       "        430.6,  659.7,  499.6,  327.8,  870.2,  806.4,  550.4,  396.3,\n",
       "        521.2,  447.3,  809.9,  561.6,  680.2,  446.6,  332.9,  495.2,\n",
       "        823. ,  820.7,  706.4,  811.6, 1119. ,  329. ,  783.7,  787.9,\n",
       "        737.3,  494.5,  508.3,  478. , 1182.3,  672.5,  733.2,  733.1,\n",
       "        615.6,  559.6,  807.1,  728.8,  751.1,  864.1,  543.3,  737.3,\n",
       "        986.7,  494.9,  639.8,  597.6,  612.5,  572.7,  709.4,  487.6,\n",
       "        523.5,  484.3,  686.7,  815.9,  699.4,  614. ,  651.1,  576. ,\n",
       "        832.7,  802. ,  974.1,  365.3,  656.1,  578.1,  444.2,  813.7,\n",
       "        670.3,  746. ,  714.4,  473.9,  635.3,  435.9,  635.1,  773.5,\n",
       "        412.3,  723.1,  464. ,  760.4,  532. ,  723.9,  514.2,  790.7,\n",
       "        392.3,  649.4,  814.3,  951.3,  336.1,  714.6,  602.2,  429.6,\n",
       "        652.1,  698.3,  577.1,  708.4,  966.5,  770.1,  638.1,  641.9,\n",
       "        671.8, 1267.4,  757.2,  908.6,  646.3,  797.9,  758.8,  624. ,\n",
       "        639.1,  769. ,  451.1,  643.5,  734.2,  545.7,  603.6,  858.6])"
      ]
     },
     "execution_count": 5,
     "metadata": {},
     "output_type": "execute_result"
    }
   ],
   "source": [
    "y_actual = np.genfromtxt(data_folder / 'y_actual.csv', delimiter=',', skip_header=True)\n",
    "y_actual"
   ]
  },
  {
   "cell_type": "markdown",
   "id": "f11eb7a3-8e17-490c-b8f3-82e32bec18be",
   "metadata": {},
   "source": [
    "## Import Models\n"
   ]
  },
  {
   "cell_type": "code",
   "execution_count": 6,
   "id": "fa81f466-4a0f-4e78-8682-ecbd24382c05",
   "metadata": {
    "execution": {
     "iopub.execute_input": "2025-02-22T05:53:55.644063Z",
     "iopub.status.busy": "2025-02-22T05:53:55.643963Z",
     "iopub.status.idle": "2025-02-22T05:53:55.673616Z",
     "shell.execute_reply": "2025-02-22T05:53:55.673238Z",
     "shell.execute_reply.started": "2025-02-22T05:53:55.644054Z"
    },
    "tags": []
   },
   "outputs": [],
   "source": [
    "model_full = joblib.load(model_folder / 'model_full.sav')\n",
    "model_few = joblib.load(model_folder / 'model_few.sav')"
   ]
  },
  {
   "cell_type": "markdown",
   "id": "8cd722eb-1361-4d2b-8165-e65d516e1814",
   "metadata": {},
   "source": [
    "## Set Graph Preferences [Optional]"
   ]
  },
  {
   "cell_type": "code",
   "execution_count": 7,
   "id": "41ba6b11-edf6-41ea-b31c-37123016e5f4",
   "metadata": {
    "execution": {
     "iopub.execute_input": "2025-02-22T05:53:55.674223Z",
     "iopub.status.busy": "2025-02-22T05:53:55.674050Z",
     "iopub.status.idle": "2025-02-22T05:53:55.676354Z",
     "shell.execute_reply": "2025-02-22T05:53:55.676061Z",
     "shell.execute_reply.started": "2025-02-22T05:53:55.674212Z"
    }
   },
   "outputs": [],
   "source": [
    "graph_colors = ['#615EEA', '#339E7A', '#ff8c6c']\n",
    "plt.rcParams['axes.prop_cycle'] = plt.cycler(color=graph_colors)\n",
    "sns.set_palette(graph_colors)"
   ]
  },
  {
   "cell_type": "code",
   "execution_count": 8,
   "id": "6515e906-b627-426d-aa64-9755ad6ccd7f",
   "metadata": {
    "execution": {
     "iopub.execute_input": "2025-02-22T05:53:55.676804Z",
     "iopub.status.busy": "2025-02-22T05:53:55.676705Z",
     "iopub.status.idle": "2025-02-22T05:53:55.685216Z",
     "shell.execute_reply": "2025-02-22T05:53:55.684919Z",
     "shell.execute_reply.started": "2025-02-22T05:53:55.676795Z"
    }
   },
   "outputs": [],
   "source": [
    "plt.style.use('seaborn-v0_8-white')"
   ]
  },
  {
   "cell_type": "markdown",
   "id": "57562533-59f2-41a2-acbc-e1fcc3b94d16",
   "metadata": {
    "tags": []
   },
   "source": [
    "## Basics of Machine Learning"
   ]
  },
  {
   "cell_type": "markdown",
   "id": "958bd37e-d8fd-4698-9999-e6d51923e3ab",
   "metadata": {},
   "source": [
    "# Generate Predictions\n"
   ]
  },
  {
   "cell_type": "markdown",
   "id": "be32f780-8b76-48ee-9e1e-df372e17032f",
   "metadata": {},
   "source": [
    "## Calculate Predictions Manually"
   ]
  },
  {
   "cell_type": "raw",
   "id": "d3a52311-3f27-4023-903b-93a60b8daf23",
   "metadata": {},
   "source": [
    "FANTASY_POINTS = 1.3779112764770156e-14*Height\n",
    " + 1.1934897514720433e-15*MINUTES_PLAYED\n",
    " + 1.6666666666666634*FIELD_GOALS_MADE\n",
    " + 1.333333333333333*THREE_POINTS_MADE\n",
    " + 0.33333333333333315*TWO_POINTS_MADE\n",
    " + 1.0000000000000009*FREE_THROWS_MADE\n",
    " + 1.1999999999999982*TOTAL_REBOUNDS\n",
    " + 1.499999999999999*ASSISTS\n",
    " + -0.9999999999999992*TURNOVERS\n",
    " + 1.999999999999999*STEALS\n",
    " + 2.000000000000001*BLOCKS\n",
    " + -1.201296007113939e-15*FOULS\n",
    " + -7.233796894823286e-16*POINTS + -6.821210263296962e-13"
   ]
  },
  {
   "cell_type": "code",
   "execution_count": 9,
   "id": "3133483e-2e10-420c-873c-0e1ec7cd2ca0",
   "metadata": {
    "execution": {
     "iopub.execute_input": "2025-02-22T05:53:55.685650Z",
     "iopub.status.busy": "2025-02-22T05:53:55.685554Z",
     "iopub.status.idle": "2025-02-22T05:53:55.695307Z",
     "shell.execute_reply": "2025-02-22T05:53:55.695029Z",
     "shell.execute_reply.started": "2025-02-22T05:53:55.685641Z"
    },
    "tags": []
   },
   "outputs": [
    {
     "data": {
      "text/plain": [
       "Height                71\n",
       "MINUTES_PLAYED       821\n",
       "FIELD_GOALS_MADE     184\n",
       "THREE_POINTS_MADE     43\n",
       "TWO_POINTS_MADE      141\n",
       "FREE_THROWS_MADE      80\n",
       "TOTAL_REBOUNDS       155\n",
       "ASSISTS               36\n",
       "TURNOVERS             90\n",
       "STEALS                51\n",
       "BLOCKS                 5\n",
       "FOULS                 46\n",
       "POINTS               491\n",
       "Name: 0, dtype: int64"
      ]
     },
     "execution_count": 9,
     "metadata": {},
     "output_type": "execute_result"
    }
   ],
   "source": [
    "X_row = X_test_full.iloc[0][model_full.feature_names_in_]\n",
    "X_row"
   ]
  },
  {
   "cell_type": "code",
   "execution_count": 10,
   "id": "bb40aa1e-dab0-414f-98cf-28f150df1c82",
   "metadata": {
    "execution": {
     "iopub.execute_input": "2025-02-22T05:53:55.695744Z",
     "iopub.status.busy": "2025-02-22T05:53:55.695646Z",
     "iopub.status.idle": "2025-02-22T05:53:55.710117Z",
     "shell.execute_reply": "2025-02-22T05:53:55.709800Z",
     "shell.execute_reply.started": "2025-02-22T05:53:55.695735Z"
    },
    "tags": []
   },
   "outputs": [
    {
     "data": {
      "text/plain": [
       "753.0"
      ]
     },
     "execution_count": 10,
     "metadata": {},
     "output_type": "execute_result"
    }
   ],
   "source": [
    "row_pred = model_full.intercept_\n",
    "for feature, coef in zip(X_row, model_full.coef_):\n",
    "    row_pred += feature * coef\n",
    "row_pred"
   ]
  },
  {
   "cell_type": "markdown",
   "id": "ba194caf-9403-4230-9945-ede9ae772ab9",
   "metadata": {},
   "source": [
    "## Calculate Predictions with .dot()"
   ]
  },
  {
   "cell_type": "code",
   "execution_count": 11,
   "id": "c1a9e30c-f7b0-44f3-8489-1e11156f6cd6",
   "metadata": {
    "execution": {
     "iopub.execute_input": "2025-02-22T05:53:55.710610Z",
     "iopub.status.busy": "2025-02-22T05:53:55.710512Z",
     "iopub.status.idle": "2025-02-22T05:53:55.719079Z",
     "shell.execute_reply": "2025-02-22T05:53:55.718811Z",
     "shell.execute_reply.started": "2025-02-22T05:53:55.710601Z"
    },
    "tags": []
   },
   "outputs": [
    {
     "data": {
      "text/plain": [
       "753.0"
      ]
     },
     "execution_count": 11,
     "metadata": {},
     "output_type": "execute_result"
    }
   ],
   "source": [
    "row_pred = model_full.intercept_ + np.dot(X_row, model_full.coef_)\n",
    "row_pred"
   ]
  },
  {
   "cell_type": "markdown",
   "id": "0e98f6bc-c079-45e4-a60e-8fc505de333e",
   "metadata": {},
   "source": [
    "## Calculate Predictions with .predict()\n"
   ]
  },
  {
   "cell_type": "code",
   "execution_count": 12,
   "id": "24e0c5d3-1e9b-4b54-aa7d-ed46f0b1d249",
   "metadata": {
    "execution": {
     "iopub.execute_input": "2025-02-22T05:53:55.719497Z",
     "iopub.status.busy": "2025-02-22T05:53:55.719403Z",
     "iopub.status.idle": "2025-02-22T05:53:55.735335Z",
     "shell.execute_reply": "2025-02-22T05:53:55.734879Z",
     "shell.execute_reply.started": "2025-02-22T05:53:55.719488Z"
    },
    "tags": []
   },
   "outputs": [
    {
     "data": {
      "text/plain": [
       "753.0"
      ]
     },
     "execution_count": 12,
     "metadata": {},
     "output_type": "execute_result"
    }
   ],
   "source": [
    "row_pred = model_full.predict(X_test_full.iloc[[0]])\n",
    "row_pred[0]"
   ]
  },
  {
   "cell_type": "code",
   "execution_count": 13,
   "id": "53c36502-6f15-431b-b88c-9a08c832d068",
   "metadata": {
    "execution": {
     "iopub.execute_input": "2025-02-22T05:53:55.738538Z",
     "iopub.status.busy": "2025-02-22T05:53:55.738185Z",
     "iopub.status.idle": "2025-02-22T05:53:55.746437Z",
     "shell.execute_reply": "2025-02-22T05:53:55.745893Z",
     "shell.execute_reply.started": "2025-02-22T05:53:55.738521Z"
    },
    "tags": []
   },
   "outputs": [
    {
     "data": {
      "text/plain": [
       "array([753. , 544.2, 587.5, 969.9, 621.1])"
      ]
     },
     "execution_count": 13,
     "metadata": {},
     "output_type": "execute_result"
    }
   ],
   "source": [
    "y_pred_full = model_full.predict(X_test_full)\n",
    "y_pred_full[:5]"
   ]
  },
  {
   "cell_type": "code",
   "execution_count": 14,
   "id": "156be792-a875-49a1-8d43-e48bcc521964",
   "metadata": {
    "execution": {
     "iopub.execute_input": "2025-02-22T05:53:55.747356Z",
     "iopub.status.busy": "2025-02-22T05:53:55.747134Z",
     "iopub.status.idle": "2025-02-22T05:53:55.756903Z",
     "shell.execute_reply": "2025-02-22T05:53:55.756346Z",
     "shell.execute_reply.started": "2025-02-22T05:53:55.747337Z"
    },
    "tags": []
   },
   "outputs": [
    {
     "data": {
      "text/plain": [
       "array([689.05242335, 629.09942281, 640.65898995, 934.3165614 ,\n",
       "       617.45450647])"
      ]
     },
     "execution_count": 14,
     "metadata": {},
     "output_type": "execute_result"
    }
   ],
   "source": [
    "y_pred_few = model_few.predict(X_test_few)\n",
    "y_pred_few[:5]"
   ]
  },
  {
   "cell_type": "markdown",
   "id": "c1b96878-065b-40ab-b19e-62c84ea475e2",
   "metadata": {},
   "source": [
    "## Create Baseline Model"
   ]
  },
  {
   "cell_type": "code",
   "execution_count": 15,
   "id": "4b396792-1a25-4523-b96b-500a02fe3590",
   "metadata": {
    "execution": {
     "iopub.execute_input": "2025-02-22T05:53:55.757527Z",
     "iopub.status.busy": "2025-02-22T05:53:55.757412Z",
     "iopub.status.idle": "2025-02-22T05:53:55.765589Z",
     "shell.execute_reply": "2025-02-22T05:53:55.765254Z",
     "shell.execute_reply.started": "2025-02-22T05:53:55.757516Z"
    },
    "tags": []
   },
   "outputs": [
    {
     "data": {
      "text/plain": [
       "array([658.009375, 658.009375, 658.009375, 658.009375, 658.009375])"
      ]
     },
     "execution_count": 15,
     "metadata": {},
     "output_type": "execute_result"
    }
   ],
   "source": [
    "y_pred_base = np.full_like(y_actual, np.mean(y_actual))\n",
    "y_pred_base[:5]"
   ]
  },
  {
   "cell_type": "markdown",
   "id": "cc04ad7f-d532-42a1-8763-649b42afba0c",
   "metadata": {},
   "source": [
    "## Floating Point Errors"
   ]
  },
  {
   "cell_type": "code",
   "execution_count": 16,
   "id": "9ef74ce6-4495-4ed2-b491-55b5a54bb384",
   "metadata": {
    "execution": {
     "iopub.execute_input": "2025-02-22T05:53:55.766307Z",
     "iopub.status.busy": "2025-02-22T05:53:55.766030Z",
     "iopub.status.idle": "2025-02-22T05:53:55.775063Z",
     "shell.execute_reply": "2025-02-22T05:53:55.774527Z",
     "shell.execute_reply.started": "2025-02-22T05:53:55.766296Z"
    },
    "tags": []
   },
   "outputs": [
    {
     "data": {
      "text/plain": [
       "753.0"
      ]
     },
     "execution_count": 16,
     "metadata": {},
     "output_type": "execute_result"
    }
   ],
   "source": [
    "y_actual[0]"
   ]
  },
  {
   "cell_type": "code",
   "execution_count": 17,
   "id": "1a0953bd-62fe-4bbd-afea-00fa7eb4fea2",
   "metadata": {
    "execution": {
     "iopub.execute_input": "2025-02-22T05:53:55.776207Z",
     "iopub.status.busy": "2025-02-22T05:53:55.775787Z",
     "iopub.status.idle": "2025-02-22T05:53:55.784150Z",
     "shell.execute_reply": "2025-02-22T05:53:55.783621Z",
     "shell.execute_reply.started": "2025-02-22T05:53:55.776180Z"
    },
    "tags": []
   },
   "outputs": [
    {
     "data": {
      "text/plain": [
       "753.0000000000001"
      ]
     },
     "execution_count": 17,
     "metadata": {},
     "output_type": "execute_result"
    }
   ],
   "source": [
    "y_pred_full[0]"
   ]
  },
  {
   "cell_type": "code",
   "execution_count": 18,
   "id": "6bb0ef15-1830-4429-9294-87dde55a84e0",
   "metadata": {
    "execution": {
     "iopub.execute_input": "2025-02-22T05:53:55.785032Z",
     "iopub.status.busy": "2025-02-22T05:53:55.784822Z",
     "iopub.status.idle": "2025-02-22T05:53:55.793293Z",
     "shell.execute_reply": "2025-02-22T05:53:55.792765Z",
     "shell.execute_reply.started": "2025-02-22T05:53:55.785013Z"
    },
    "tags": []
   },
   "outputs": [
    {
     "data": {
      "text/plain": [
       "False"
      ]
     },
     "execution_count": 18,
     "metadata": {},
     "output_type": "execute_result"
    }
   ],
   "source": [
    "y_actual[0] == y_pred_full[0]"
   ]
  },
  {
   "cell_type": "code",
   "execution_count": 19,
   "id": "dc450539-2d92-4279-bdca-e1d24a31c52d",
   "metadata": {
    "execution": {
     "iopub.execute_input": "2025-02-22T05:53:55.794364Z",
     "iopub.status.busy": "2025-02-22T05:53:55.793976Z",
     "iopub.status.idle": "2025-02-22T05:53:55.806911Z",
     "shell.execute_reply": "2025-02-22T05:53:55.806391Z",
     "shell.execute_reply.started": "2025-02-22T05:53:55.794343Z"
    },
    "tags": []
   },
   "outputs": [
    {
     "data": {
      "text/plain": [
       "True"
      ]
     },
     "execution_count": 19,
     "metadata": {},
     "output_type": "execute_result"
    }
   ],
   "source": [
    "np.isclose(y_pred_full[0], y_actual[0])"
   ]
  },
  {
   "cell_type": "code",
   "execution_count": 20,
   "id": "ab18e818-0f74-4b64-a1da-dac6b0ebf3b2",
   "metadata": {
    "execution": {
     "iopub.execute_input": "2025-02-22T05:53:55.808168Z",
     "iopub.status.busy": "2025-02-22T05:53:55.807613Z",
     "iopub.status.idle": "2025-02-22T05:53:55.816790Z",
     "shell.execute_reply": "2025-02-22T05:53:55.816241Z",
     "shell.execute_reply.started": "2025-02-22T05:53:55.808132Z"
    },
    "tags": []
   },
   "outputs": [
    {
     "data": {
      "text/plain": [
       "True"
      ]
     },
     "execution_count": 20,
     "metadata": {},
     "output_type": "execute_result"
    }
   ],
   "source": [
    "np.allclose(y_pred_full, y_actual)"
   ]
  },
  {
   "cell_type": "code",
   "execution_count": 21,
   "id": "052e0f60-243e-4da5-b222-5eefbc2c7ead",
   "metadata": {
    "execution": {
     "iopub.execute_input": "2025-02-22T05:53:55.817911Z",
     "iopub.status.busy": "2025-02-22T05:53:55.817544Z",
     "iopub.status.idle": "2025-02-22T05:53:55.826155Z",
     "shell.execute_reply": "2025-02-22T05:53:55.825590Z",
     "shell.execute_reply.started": "2025-02-22T05:53:55.817890Z"
    },
    "tags": []
   },
   "outputs": [
    {
     "data": {
      "text/plain": [
       "False"
      ]
     },
     "execution_count": 21,
     "metadata": {},
     "output_type": "execute_result"
    }
   ],
   "source": [
    "np.allclose(y_pred_few, y_actual)"
   ]
  },
  {
   "cell_type": "markdown",
   "id": "9b654bba-3245-4dbf-bc08-a7313685f021",
   "metadata": {},
   "source": [
    "# Evaluate the Model"
   ]
  },
  {
   "cell_type": "markdown",
   "id": "5d38c7de-d4e2-4483-b6a4-f3091d18c829",
   "metadata": {},
   "source": [
    "## Evaluation Metrics\n"
   ]
  },
  {
   "cell_type": "markdown",
   "id": "522e7a4e-730d-43b9-bb00-8241609954ed",
   "metadata": {},
   "source": [
    "## Define Variables"
   ]
  },
  {
   "cell_type": "markdown",
   "id": "fed48823-9b8f-4b5c-ad3b-a3a223a01d9f",
   "metadata": {},
   "source": [
    "### Calculate n"
   ]
  },
  {
   "cell_type": "code",
   "execution_count": 22,
   "id": "0c76e7e0-8d86-4755-997b-bfd8b3d90580",
   "metadata": {
    "execution": {
     "iopub.execute_input": "2025-02-22T05:53:55.827067Z",
     "iopub.status.busy": "2025-02-22T05:53:55.826858Z",
     "iopub.status.idle": "2025-02-22T05:53:55.835692Z",
     "shell.execute_reply": "2025-02-22T05:53:55.835164Z",
     "shell.execute_reply.started": "2025-02-22T05:53:55.827048Z"
    },
    "tags": []
   },
   "outputs": [
    {
     "data": {
      "text/plain": [
       "224"
      ]
     },
     "execution_count": 22,
     "metadata": {},
     "output_type": "execute_result"
    }
   ],
   "source": [
    "n = len(y_actual)\n",
    "n"
   ]
  },
  {
   "cell_type": "markdown",
   "id": "5b3770da-3f07-452d-8fd6-06d0cc5dc25e",
   "metadata": {},
   "source": [
    "### Calculate the Mean\n",
    "\n",
    "#### Equation\n",
    "\n",
    "#### Calculate Manually"
   ]
  },
  {
   "cell_type": "code",
   "execution_count": 23,
   "id": "1a744416-ff69-43e8-b7fb-04f9fc1b2394",
   "metadata": {
    "execution": {
     "iopub.execute_input": "2025-02-22T05:53:55.836571Z",
     "iopub.status.busy": "2025-02-22T05:53:55.836369Z",
     "iopub.status.idle": "2025-02-22T05:53:55.845228Z",
     "shell.execute_reply": "2025-02-22T05:53:55.844654Z",
     "shell.execute_reply.started": "2025-02-22T05:53:55.836552Z"
    },
    "tags": []
   },
   "outputs": [
    {
     "data": {
      "text/plain": [
       "658.009375"
      ]
     },
     "execution_count": 23,
     "metadata": {},
     "output_type": "execute_result"
    }
   ],
   "source": [
    "y_mean = np.sum(y_actual) / n\n",
    "y_mean"
   ]
  },
  {
   "cell_type": "markdown",
   "id": "9c3ce6e6-7937-4950-a786-4d19dfb9c448",
   "metadata": {},
   "source": [
    "#### Calculate with NumPy"
   ]
  },
  {
   "cell_type": "code",
   "execution_count": 24,
   "id": "f11e4e59-fb7a-4041-b1c6-aaa41d139385",
   "metadata": {
    "execution": {
     "iopub.execute_input": "2025-02-22T05:53:55.846168Z",
     "iopub.status.busy": "2025-02-22T05:53:55.845946Z",
     "iopub.status.idle": "2025-02-22T05:53:55.854643Z",
     "shell.execute_reply": "2025-02-22T05:53:55.854072Z",
     "shell.execute_reply.started": "2025-02-22T05:53:55.846147Z"
    },
    "tags": []
   },
   "outputs": [
    {
     "data": {
      "text/plain": [
       "658.009375"
      ]
     },
     "execution_count": 24,
     "metadata": {},
     "output_type": "execute_result"
    }
   ],
   "source": [
    "y_mean = np.mean(y_actual)\n",
    "y_mean"
   ]
  },
  {
   "cell_type": "markdown",
   "id": "3ffa3098-9a09-48fc-9368-9dc29e01f05e",
   "metadata": {},
   "source": [
    "### Calculate Residuals\n",
    "\n",
    "#### Equation\n",
    "\n",
    "#### Calculate Manually"
   ]
  },
  {
   "cell_type": "code",
   "execution_count": 25,
   "id": "5508c327-539a-4f7f-93bb-14fd8441534a",
   "metadata": {
    "execution": {
     "iopub.execute_input": "2025-02-22T05:53:55.855570Z",
     "iopub.status.busy": "2025-02-22T05:53:55.855364Z",
     "iopub.status.idle": "2025-02-22T05:53:55.864036Z",
     "shell.execute_reply": "2025-02-22T05:53:55.863521Z",
     "shell.execute_reply.started": "2025-02-22T05:53:55.855551Z"
    },
    "tags": []
   },
   "outputs": [
    {
     "data": {
      "text/plain": [
       "array([-1.13686838e-13,  0.00000000e+00, -1.13686838e-13, -2.27373675e-13,\n",
       "       -2.27373675e-13])"
      ]
     },
     "execution_count": 25,
     "metadata": {},
     "output_type": "execute_result"
    }
   ],
   "source": [
    "residuals_full = y_actual - y_pred_full\n",
    "residuals_full[:5]"
   ]
  },
  {
   "cell_type": "code",
   "execution_count": 26,
   "id": "24c8f97b-37db-4b94-8a37-b434fc0d1189",
   "metadata": {
    "execution": {
     "iopub.execute_input": "2025-02-22T05:53:55.864935Z",
     "iopub.status.busy": "2025-02-22T05:53:55.864738Z",
     "iopub.status.idle": "2025-02-22T05:53:55.873738Z",
     "shell.execute_reply": "2025-02-22T05:53:55.873161Z",
     "shell.execute_reply.started": "2025-02-22T05:53:55.864917Z"
    },
    "tags": []
   },
   "outputs": [
    {
     "data": {
      "text/plain": [
       "array([ 63.94757665, -84.89942281, -53.15898995,  35.5834386 ,\n",
       "         3.64549353])"
      ]
     },
     "execution_count": 26,
     "metadata": {},
     "output_type": "execute_result"
    }
   ],
   "source": [
    "residuals_few = y_actual - y_pred_few\n",
    "residuals_few[:5]"
   ]
  },
  {
   "cell_type": "code",
   "execution_count": 27,
   "id": "8ff75a64-7244-417d-bebb-eefde6c9a3fe",
   "metadata": {
    "execution": {
     "iopub.execute_input": "2025-02-22T05:53:55.874816Z",
     "iopub.status.busy": "2025-02-22T05:53:55.874435Z",
     "iopub.status.idle": "2025-02-22T05:53:55.882412Z",
     "shell.execute_reply": "2025-02-22T05:53:55.882005Z",
     "shell.execute_reply.started": "2025-02-22T05:53:55.874797Z"
    },
    "tags": []
   },
   "outputs": [
    {
     "data": {
      "text/plain": [
       "array([  94.990625, -113.809375,  -70.509375,  311.890625,  -36.909375])"
      ]
     },
     "execution_count": 27,
     "metadata": {},
     "output_type": "execute_result"
    }
   ],
   "source": [
    "residuals_base = y_actual - y_pred_base\n",
    "residuals_base[:5]"
   ]
  },
  {
   "cell_type": "markdown",
   "id": "723117cd-ae61-44f0-8b9f-c1bfbf3d495c",
   "metadata": {},
   "source": [
    "#### Evaluation\n"
   ]
  },
  {
   "cell_type": "markdown",
   "id": "8010b09c-aa3a-456e-ae2d-9d8f99c87183",
   "metadata": {},
   "source": [
    "## $R^2$\n"
   ]
  },
  {
   "cell_type": "markdown",
   "id": "32a95f91-50ff-41c7-a1fa-67d79888d5ae",
   "metadata": {},
   "source": [
    "### Equation"
   ]
  },
  {
   "cell_type": "markdown",
   "id": "a0924a9d-d00f-423c-b847-9b9235519d0a",
   "metadata": {},
   "source": [
    "### Calculate Manually"
   ]
  },
  {
   "cell_type": "code",
   "execution_count": 28,
   "id": "864a57ab-c375-4eff-b453-cf361694f242",
   "metadata": {
    "execution": {
     "iopub.execute_input": "2025-02-22T05:53:55.883497Z",
     "iopub.status.busy": "2025-02-22T05:53:55.883096Z",
     "iopub.status.idle": "2025-02-22T05:53:55.890910Z",
     "shell.execute_reply": "2025-02-22T05:53:55.890378Z",
     "shell.execute_reply.started": "2025-02-22T05:53:55.883477Z"
    },
    "tags": []
   },
   "outputs": [],
   "source": [
    "tss = np.sum(np.square(residuals_base))"
   ]
  },
  {
   "cell_type": "code",
   "execution_count": 29,
   "id": "9250d2d9-18f5-4681-94d9-0c63b7394039",
   "metadata": {
    "execution": {
     "iopub.execute_input": "2025-02-22T05:53:55.891982Z",
     "iopub.status.busy": "2025-02-22T05:53:55.891566Z",
     "iopub.status.idle": "2025-02-22T05:53:55.900804Z",
     "shell.execute_reply": "2025-02-22T05:53:55.900296Z",
     "shell.execute_reply.started": "2025-02-22T05:53:55.891963Z"
    },
    "tags": []
   },
   "outputs": [
    {
     "data": {
      "text/plain": [
       "8.766983582068369e-24"
      ]
     },
     "execution_count": 29,
     "metadata": {},
     "output_type": "execute_result"
    }
   ],
   "source": [
    "rss_full = np.sum(np.square(residuals_full))\n",
    "rss_full"
   ]
  },
  {
   "cell_type": "code",
   "execution_count": 30,
   "id": "093f044e-21b0-4d88-ac36-c4fe83f6bb38",
   "metadata": {
    "execution": {
     "iopub.execute_input": "2025-02-22T05:53:55.901800Z",
     "iopub.status.busy": "2025-02-22T05:53:55.901461Z",
     "iopub.status.idle": "2025-02-22T05:53:55.910070Z",
     "shell.execute_reply": "2025-02-22T05:53:55.909576Z",
     "shell.execute_reply.started": "2025-02-22T05:53:55.901781Z"
    },
    "tags": []
   },
   "outputs": [
    {
     "data": {
      "text/plain": [
       "580028.3960045542"
      ]
     },
     "execution_count": 30,
     "metadata": {},
     "output_type": "execute_result"
    }
   ],
   "source": [
    "rss_few = np.sum(np.square(residuals_few))\n",
    "rss_few"
   ]
  },
  {
   "cell_type": "code",
   "execution_count": 31,
   "id": "51aa04e9-a893-46c9-8b6e-6209470c53d1",
   "metadata": {
    "execution": {
     "iopub.execute_input": "2025-02-22T05:53:55.911176Z",
     "iopub.status.busy": "2025-02-22T05:53:55.910755Z",
     "iopub.status.idle": "2025-02-22T05:53:55.919975Z",
     "shell.execute_reply": "2025-02-22T05:53:55.919349Z",
     "shell.execute_reply.started": "2025-02-22T05:53:55.911155Z"
    },
    "tags": []
   },
   "outputs": [
    {
     "data": {
      "text/plain": [
       "7316716.2503125"
      ]
     },
     "execution_count": 31,
     "metadata": {},
     "output_type": "execute_result"
    }
   ],
   "source": [
    "rss_base = np.sum(np.square(residuals_base))\n",
    "rss_base"
   ]
  },
  {
   "cell_type": "code",
   "execution_count": 32,
   "id": "0f6a69c7-375f-453a-b4b1-4c1cf50a9fea",
   "metadata": {
    "execution": {
     "iopub.execute_input": "2025-02-22T05:53:55.920981Z",
     "iopub.status.busy": "2025-02-22T05:53:55.920644Z",
     "iopub.status.idle": "2025-02-22T05:53:55.929300Z",
     "shell.execute_reply": "2025-02-22T05:53:55.928762Z",
     "shell.execute_reply.started": "2025-02-22T05:53:55.920963Z"
    },
    "tags": []
   },
   "outputs": [
    {
     "data": {
      "text/plain": [
       "1.0"
      ]
     },
     "execution_count": 32,
     "metadata": {},
     "output_type": "execute_result"
    }
   ],
   "source": [
    "r2_full = 1 - (rss_full / tss)\n",
    "r2_full"
   ]
  },
  {
   "cell_type": "code",
   "execution_count": 33,
   "id": "9871b700-61fe-4205-a9ad-534d3b420108",
   "metadata": {
    "execution": {
     "iopub.execute_input": "2025-02-22T05:53:55.930371Z",
     "iopub.status.busy": "2025-02-22T05:53:55.929970Z",
     "iopub.status.idle": "2025-02-22T05:53:55.938670Z",
     "shell.execute_reply": "2025-02-22T05:53:55.938144Z",
     "shell.execute_reply.started": "2025-02-22T05:53:55.930350Z"
    },
    "tags": []
   },
   "outputs": [
    {
     "data": {
      "text/plain": [
       "0.920725585609558"
      ]
     },
     "execution_count": 33,
     "metadata": {},
     "output_type": "execute_result"
    }
   ],
   "source": [
    "r2_few = 1 - (rss_few / tss)\n",
    "r2_few"
   ]
  },
  {
   "cell_type": "code",
   "execution_count": 34,
   "id": "50393649-f5be-4239-816b-f7c73828d323",
   "metadata": {
    "execution": {
     "iopub.execute_input": "2025-02-22T05:53:55.939544Z",
     "iopub.status.busy": "2025-02-22T05:53:55.939341Z",
     "iopub.status.idle": "2025-02-22T05:53:55.947540Z",
     "shell.execute_reply": "2025-02-22T05:53:55.947001Z",
     "shell.execute_reply.started": "2025-02-22T05:53:55.939525Z"
    },
    "tags": []
   },
   "outputs": [
    {
     "data": {
      "text/plain": [
       "0.0"
      ]
     },
     "execution_count": 34,
     "metadata": {},
     "output_type": "execute_result"
    }
   ],
   "source": [
    "r2_base = 1 - (rss_base / tss)\n",
    "r2_base"
   ]
  },
  {
   "cell_type": "markdown",
   "id": "024aa823-2ee1-47bc-aa69-e5dc01eb6618",
   "metadata": {},
   "source": [
    "### Calculate with scikit-learn"
   ]
  },
  {
   "cell_type": "code",
   "execution_count": 35,
   "id": "c9040ef4-3285-4772-b010-08d620b5d976",
   "metadata": {
    "execution": {
     "iopub.execute_input": "2025-02-22T05:53:55.948422Z",
     "iopub.status.busy": "2025-02-22T05:53:55.948215Z",
     "iopub.status.idle": "2025-02-22T05:53:55.957591Z",
     "shell.execute_reply": "2025-02-22T05:53:55.957060Z",
     "shell.execute_reply.started": "2025-02-22T05:53:55.948404Z"
    },
    "tags": []
   },
   "outputs": [
    {
     "data": {
      "text/plain": [
       "1.0"
      ]
     },
     "execution_count": 35,
     "metadata": {},
     "output_type": "execute_result"
    }
   ],
   "source": [
    "r2_full = r2_score(y_actual, y_pred_full)\n",
    "r2_full"
   ]
  },
  {
   "cell_type": "code",
   "execution_count": 36,
   "id": "3acbcb79-4582-4462-8932-395ff49b3c70",
   "metadata": {
    "execution": {
     "iopub.execute_input": "2025-02-22T05:53:55.958500Z",
     "iopub.status.busy": "2025-02-22T05:53:55.958295Z",
     "iopub.status.idle": "2025-02-22T05:53:55.967222Z",
     "shell.execute_reply": "2025-02-22T05:53:55.966684Z",
     "shell.execute_reply.started": "2025-02-22T05:53:55.958481Z"
    },
    "tags": []
   },
   "outputs": [
    {
     "data": {
      "text/plain": [
       "0.920725585609558"
      ]
     },
     "execution_count": 36,
     "metadata": {},
     "output_type": "execute_result"
    }
   ],
   "source": [
    "r2_few = r2_score(y_actual, y_pred_few)\n",
    "r2_few"
   ]
  },
  {
   "cell_type": "code",
   "execution_count": 37,
   "id": "69363d7c-f694-417d-a67c-93421e1cd43c",
   "metadata": {
    "execution": {
     "iopub.execute_input": "2025-02-22T05:53:55.968345Z",
     "iopub.status.busy": "2025-02-22T05:53:55.967953Z",
     "iopub.status.idle": "2025-02-22T05:53:55.976948Z",
     "shell.execute_reply": "2025-02-22T05:53:55.976415Z",
     "shell.execute_reply.started": "2025-02-22T05:53:55.968324Z"
    },
    "tags": []
   },
   "outputs": [
    {
     "data": {
      "text/plain": [
       "0.0"
      ]
     },
     "execution_count": 37,
     "metadata": {},
     "output_type": "execute_result"
    }
   ],
   "source": [
    "r2_base = r2_score(y_actual, y_pred_base)\n",
    "r2_base"
   ]
  },
  {
   "cell_type": "markdown",
   "id": "b0d7ead0-a11b-4549-afa3-1fe90853d39b",
   "metadata": {},
   "source": [
    "### Evaluation"
   ]
  },
  {
   "cell_type": "markdown",
   "id": "cd3c3ad3-c653-4cd5-96da-1e8cb4ba6644",
   "metadata": {},
   "source": [
    "## Adjusted \\\\(R^{2}\\\\)"
   ]
  },
  {
   "cell_type": "markdown",
   "id": "cd646752-b322-4fdf-bc22-5639ee5775c8",
   "metadata": {},
   "source": [
    "### Equation"
   ]
  },
  {
   "cell_type": "markdown",
   "id": "62ca8c4b-bbd8-4bd2-9779-5dbc1b2b9de6",
   "metadata": {},
   "source": [
    "### Calculate Manually"
   ]
  },
  {
   "cell_type": "code",
   "execution_count": 38,
   "id": "837f80c0-cbe9-41be-9552-1adff903e5a0",
   "metadata": {
    "execution": {
     "iopub.execute_input": "2025-02-22T05:53:55.978000Z",
     "iopub.status.busy": "2025-02-22T05:53:55.977651Z",
     "iopub.status.idle": "2025-02-22T05:53:55.985897Z",
     "shell.execute_reply": "2025-02-22T05:53:55.985373Z",
     "shell.execute_reply.started": "2025-02-22T05:53:55.977980Z"
    },
    "tags": []
   },
   "outputs": [
    {
     "data": {
      "text/plain": [
       "13"
      ]
     },
     "execution_count": 38,
     "metadata": {},
     "output_type": "execute_result"
    }
   ],
   "source": [
    "p_full = model_full.n_features_in_\n",
    "p_full"
   ]
  },
  {
   "cell_type": "code",
   "execution_count": 39,
   "id": "c340e656-1c95-468b-bb04-3c3cf97260e1",
   "metadata": {
    "execution": {
     "iopub.execute_input": "2025-02-22T05:53:55.987005Z",
     "iopub.status.busy": "2025-02-22T05:53:55.986597Z",
     "iopub.status.idle": "2025-02-22T05:53:55.994939Z",
     "shell.execute_reply": "2025-02-22T05:53:55.994386Z",
     "shell.execute_reply.started": "2025-02-22T05:53:55.986985Z"
    },
    "tags": []
   },
   "outputs": [
    {
     "data": {
      "text/plain": [
       "10"
      ]
     },
     "execution_count": 39,
     "metadata": {},
     "output_type": "execute_result"
    }
   ],
   "source": [
    "p_few = model_few.n_features_in_\n",
    "p_few"
   ]
  },
  {
   "cell_type": "code",
   "execution_count": 40,
   "id": "5e3ae1aa-9333-4ad7-990e-250cedea5db6",
   "metadata": {
    "execution": {
     "iopub.execute_input": "2025-02-22T05:53:56.001134Z",
     "iopub.status.busy": "2025-02-22T05:53:56.000756Z",
     "iopub.status.idle": "2025-02-22T05:53:56.004697Z",
     "shell.execute_reply": "2025-02-22T05:53:56.004165Z",
     "shell.execute_reply.started": "2025-02-22T05:53:56.001112Z"
    },
    "tags": []
   },
   "outputs": [
    {
     "data": {
      "text/plain": [
       "0"
      ]
     },
     "execution_count": 40,
     "metadata": {},
     "output_type": "execute_result"
    }
   ],
   "source": [
    "p_base = 0\n",
    "p_base"
   ]
  },
  {
   "cell_type": "code",
   "execution_count": 41,
   "id": "d4cbf9ca-6216-4a5d-b756-90a1f0f03d51",
   "metadata": {
    "execution": {
     "iopub.execute_input": "2025-02-22T05:53:56.005532Z",
     "iopub.status.busy": "2025-02-22T05:53:56.005328Z",
     "iopub.status.idle": "2025-02-22T05:53:56.013984Z",
     "shell.execute_reply": "2025-02-22T05:53:56.013451Z",
     "shell.execute_reply.started": "2025-02-22T05:53:56.005513Z"
    },
    "tags": []
   },
   "outputs": [
    {
     "data": {
      "text/plain": [
       "1.0"
      ]
     },
     "execution_count": 41,
     "metadata": {},
     "output_type": "execute_result"
    }
   ],
   "source": [
    "adj_r2_full = 1 - ((1 - r2_full) * (n - 1)) / (n - p_full - 1)\n",
    "adj_r2_full"
   ]
  },
  {
   "cell_type": "code",
   "execution_count": 42,
   "id": "1fd91c52-71c0-4944-a9f7-88c4fb4775db",
   "metadata": {
    "execution": {
     "iopub.execute_input": "2025-02-22T05:53:56.015031Z",
     "iopub.status.busy": "2025-02-22T05:53:56.014698Z",
     "iopub.status.idle": "2025-02-22T05:53:56.023114Z",
     "shell.execute_reply": "2025-02-22T05:53:56.022585Z",
     "shell.execute_reply.started": "2025-02-22T05:53:56.015010Z"
    },
    "tags": []
   },
   "outputs": [
    {
     "data": {
      "text/plain": [
       "0.9170037821170489"
      ]
     },
     "execution_count": 42,
     "metadata": {},
     "output_type": "execute_result"
    }
   ],
   "source": [
    "adj_r2_few = 1 - ((1 - r2_few) * (n - 1)) / (n - p_few - 1)\n",
    "adj_r2_few"
   ]
  },
  {
   "cell_type": "code",
   "execution_count": 43,
   "id": "40f1c555-20a4-4d6d-bae0-81ff60d78cf2",
   "metadata": {
    "execution": {
     "iopub.execute_input": "2025-02-22T05:53:56.024232Z",
     "iopub.status.busy": "2025-02-22T05:53:56.023804Z",
     "iopub.status.idle": "2025-02-22T05:53:56.032395Z",
     "shell.execute_reply": "2025-02-22T05:53:56.031856Z",
     "shell.execute_reply.started": "2025-02-22T05:53:56.024211Z"
    },
    "tags": []
   },
   "outputs": [
    {
     "data": {
      "text/plain": [
       "0.0"
      ]
     },
     "execution_count": 43,
     "metadata": {},
     "output_type": "execute_result"
    }
   ],
   "source": [
    "adj_r2_base = 1 - ((1 - r2_base) * (n - 1)) / (n - p_base - 1)\n",
    "adj_r2_base"
   ]
  },
  {
   "cell_type": "markdown",
   "id": "fec2a319-b15b-476b-b140-0680c916f767",
   "metadata": {},
   "source": [
    "### Calculate with scikit-learn"
   ]
  },
  {
   "cell_type": "markdown",
   "id": "09c23906-5d9c-476e-aba4-25f2198e647e",
   "metadata": {},
   "source": [
    "### Evaluation"
   ]
  },
  {
   "cell_type": "markdown",
   "id": "0462f6de-9e76-424a-a004-a7bcb3689213",
   "metadata": {},
   "source": [
    "## Mean Squared Error (MSE)"
   ]
  },
  {
   "cell_type": "markdown",
   "id": "ed175c82-10bd-474d-ba05-9e09cb2eb411",
   "metadata": {},
   "source": [
    "### Equation"
   ]
  },
  {
   "cell_type": "markdown",
   "id": "badee4ef-f7b4-440c-8086-0bb243ae5760",
   "metadata": {},
   "source": [
    "### Calculate Manually"
   ]
  },
  {
   "cell_type": "code",
   "execution_count": 44,
   "id": "103fdadb-8e01-4060-9fe3-99d876d19826",
   "metadata": {
    "execution": {
     "iopub.execute_input": "2025-02-22T05:53:56.033488Z",
     "iopub.status.busy": "2025-02-22T05:53:56.033068Z",
     "iopub.status.idle": "2025-02-22T05:53:56.041063Z",
     "shell.execute_reply": "2025-02-22T05:53:56.040677Z",
     "shell.execute_reply.started": "2025-02-22T05:53:56.033466Z"
    },
    "tags": []
   },
   "outputs": [
    {
     "data": {
      "text/plain": [
       "3.9138319562805214e-26"
      ]
     },
     "execution_count": 44,
     "metadata": {},
     "output_type": "execute_result"
    }
   ],
   "source": [
    "mse_full = np.sum(np.square(residuals_full)) / n\n",
    "mse_full"
   ]
  },
  {
   "cell_type": "code",
   "execution_count": 45,
   "id": "cd8bd87b-c2dd-4c1b-9144-a2c9f401cb20",
   "metadata": {
    "execution": {
     "iopub.execute_input": "2025-02-22T05:53:56.041740Z",
     "iopub.status.busy": "2025-02-22T05:53:56.041587Z",
     "iopub.status.idle": "2025-02-22T05:53:56.050739Z",
     "shell.execute_reply": "2025-02-22T05:53:56.050216Z",
     "shell.execute_reply.started": "2025-02-22T05:53:56.041726Z"
    },
    "tags": []
   },
   "outputs": [
    {
     "data": {
      "text/plain": [
       "2589.4124821631885"
      ]
     },
     "execution_count": 45,
     "metadata": {},
     "output_type": "execute_result"
    }
   ],
   "source": [
    "mse_few = np.sum(np.square(residuals_few)) / n\n",
    "mse_few"
   ]
  },
  {
   "cell_type": "code",
   "execution_count": 46,
   "id": "46a8a2b8-f561-4fd4-bb54-b348fedbfa7e",
   "metadata": {
    "execution": {
     "iopub.execute_input": "2025-02-22T05:53:56.051790Z",
     "iopub.status.busy": "2025-02-22T05:53:56.051430Z",
     "iopub.status.idle": "2025-02-22T05:53:56.060216Z",
     "shell.execute_reply": "2025-02-22T05:53:56.059675Z",
     "shell.execute_reply.started": "2025-02-22T05:53:56.051770Z"
    },
    "tags": []
   },
   "outputs": [
    {
     "data": {
      "text/plain": [
       "32663.91183175223"
      ]
     },
     "execution_count": 46,
     "metadata": {},
     "output_type": "execute_result"
    }
   ],
   "source": [
    "mse_base = np.sum(np.square(residuals_base)) / n\n",
    "mse_base"
   ]
  },
  {
   "cell_type": "markdown",
   "id": "7e6c936e-6500-468b-8446-21434cbfa218",
   "metadata": {},
   "source": [
    "### Calculate Manually (Alternate Method)"
   ]
  },
  {
   "cell_type": "code",
   "execution_count": 47,
   "id": "8af13b6a-7522-4c9f-8ea5-f71d8c2d5add",
   "metadata": {
    "execution": {
     "iopub.execute_input": "2025-02-22T05:53:56.061117Z",
     "iopub.status.busy": "2025-02-22T05:53:56.060913Z",
     "iopub.status.idle": "2025-02-22T05:53:56.069371Z",
     "shell.execute_reply": "2025-02-22T05:53:56.068837Z",
     "shell.execute_reply.started": "2025-02-22T05:53:56.061098Z"
    },
    "tags": []
   },
   "outputs": [
    {
     "data": {
      "text/plain": [
       "3.9138319562805214e-26"
      ]
     },
     "execution_count": 47,
     "metadata": {},
     "output_type": "execute_result"
    }
   ],
   "source": [
    "mse_full = rss_full / n\n",
    "mse_full"
   ]
  },
  {
   "cell_type": "code",
   "execution_count": 48,
   "id": "ffd6aacf-ec53-4723-b229-6496c30236f0",
   "metadata": {
    "execution": {
     "iopub.execute_input": "2025-02-22T05:53:56.070485Z",
     "iopub.status.busy": "2025-02-22T05:53:56.070057Z",
     "iopub.status.idle": "2025-02-22T05:53:56.078325Z",
     "shell.execute_reply": "2025-02-22T05:53:56.077801Z",
     "shell.execute_reply.started": "2025-02-22T05:53:56.070464Z"
    },
    "tags": []
   },
   "outputs": [
    {
     "data": {
      "text/plain": [
       "2589.4124821631885"
      ]
     },
     "execution_count": 48,
     "metadata": {},
     "output_type": "execute_result"
    }
   ],
   "source": [
    "mse_few = rss_few / n\n",
    "mse_few"
   ]
  },
  {
   "cell_type": "code",
   "execution_count": 49,
   "id": "389e96fa-f9f3-4b99-8549-9f1be70629c7",
   "metadata": {
    "execution": {
     "iopub.execute_input": "2025-02-22T05:53:56.079368Z",
     "iopub.status.busy": "2025-02-22T05:53:56.078997Z",
     "iopub.status.idle": "2025-02-22T05:53:56.087480Z",
     "shell.execute_reply": "2025-02-22T05:53:56.086928Z",
     "shell.execute_reply.started": "2025-02-22T05:53:56.079347Z"
    },
    "tags": []
   },
   "outputs": [
    {
     "data": {
      "text/plain": [
       "32663.91183175223"
      ]
     },
     "execution_count": 49,
     "metadata": {},
     "output_type": "execute_result"
    }
   ],
   "source": [
    "mse_base = rss_base / n\n",
    "mse_base"
   ]
  },
  {
   "cell_type": "markdown",
   "id": "80f185ce-1370-4b71-856c-cda2c83d1711",
   "metadata": {},
   "source": [
    "### Calculate with scikit-learn"
   ]
  },
  {
   "cell_type": "code",
   "execution_count": 50,
   "id": "30fb58ad-2367-494c-b4ec-8ccac4daff52",
   "metadata": {
    "execution": {
     "iopub.execute_input": "2025-02-22T05:53:56.088504Z",
     "iopub.status.busy": "2025-02-22T05:53:56.088166Z",
     "iopub.status.idle": "2025-02-22T05:53:56.097114Z",
     "shell.execute_reply": "2025-02-22T05:53:56.096593Z",
     "shell.execute_reply.started": "2025-02-22T05:53:56.088483Z"
    },
    "tags": []
   },
   "outputs": [
    {
     "data": {
      "text/plain": [
       "3.9138319562805214e-26"
      ]
     },
     "execution_count": 50,
     "metadata": {},
     "output_type": "execute_result"
    }
   ],
   "source": [
    "mse_full = mean_squared_error(y_actual, y_pred_full)\n",
    "mse_full"
   ]
  },
  {
   "cell_type": "code",
   "execution_count": 51,
   "id": "6e607466-7fe6-49c3-8de3-759f35b85d9e",
   "metadata": {
    "execution": {
     "iopub.execute_input": "2025-02-22T05:53:56.098185Z",
     "iopub.status.busy": "2025-02-22T05:53:56.097820Z",
     "iopub.status.idle": "2025-02-22T05:53:56.106916Z",
     "shell.execute_reply": "2025-02-22T05:53:56.106371Z",
     "shell.execute_reply.started": "2025-02-22T05:53:56.098165Z"
    },
    "tags": []
   },
   "outputs": [
    {
     "data": {
      "text/plain": [
       "2589.4124821631885"
      ]
     },
     "execution_count": 51,
     "metadata": {},
     "output_type": "execute_result"
    }
   ],
   "source": [
    "mse_few = mean_squared_error(y_actual, y_pred_few)\n",
    "mse_few"
   ]
  },
  {
   "cell_type": "code",
   "execution_count": 52,
   "id": "69b13195-2ce9-4ca3-bf1a-30402ab5fd31",
   "metadata": {
    "execution": {
     "iopub.execute_input": "2025-02-22T05:53:56.107992Z",
     "iopub.status.busy": "2025-02-22T05:53:56.107618Z",
     "iopub.status.idle": "2025-02-22T05:53:56.116623Z",
     "shell.execute_reply": "2025-02-22T05:53:56.116086Z",
     "shell.execute_reply.started": "2025-02-22T05:53:56.107972Z"
    },
    "tags": []
   },
   "outputs": [
    {
     "data": {
      "text/plain": [
       "32663.91183175223"
      ]
     },
     "execution_count": 52,
     "metadata": {},
     "output_type": "execute_result"
    }
   ],
   "source": [
    "mse_base = mean_squared_error(y_actual, y_pred_base)\n",
    "mse_base"
   ]
  },
  {
   "cell_type": "markdown",
   "id": "9bcd3469-b3f7-49fc-8265-0f1213faf106",
   "metadata": {},
   "source": [
    "### Evaluation"
   ]
  },
  {
   "cell_type": "markdown",
   "id": "f2ffd55c-f0d8-4eac-9590-6d474b0baeb0",
   "metadata": {},
   "source": [
    "## Root Mean Squared Error (RMSE) "
   ]
  },
  {
   "cell_type": "markdown",
   "id": "577f9560-e67e-4a3a-ba4a-806a0adb0fdb",
   "metadata": {},
   "source": [
    "### Equation"
   ]
  },
  {
   "cell_type": "markdown",
   "id": "010242a1-f5fb-4a29-8328-ae217d8e62e3",
   "metadata": {},
   "source": [
    "### Calculate Manually"
   ]
  },
  {
   "cell_type": "code",
   "execution_count": 53,
   "id": "383d08f3-5178-47ec-9e71-8c4ec8463c57",
   "metadata": {
    "execution": {
     "iopub.execute_input": "2025-02-22T05:53:56.117492Z",
     "iopub.status.busy": "2025-02-22T05:53:56.117286Z",
     "iopub.status.idle": "2025-02-22T05:53:56.125799Z",
     "shell.execute_reply": "2025-02-22T05:53:56.125259Z",
     "shell.execute_reply.started": "2025-02-22T05:53:56.117473Z"
    },
    "tags": []
   },
   "outputs": [
    {
     "data": {
      "text/plain": [
       "1.9783407078358676e-13"
      ]
     },
     "execution_count": 53,
     "metadata": {},
     "output_type": "execute_result"
    }
   ],
   "source": [
    "rmse_full = np.sqrt(mse_full)\n",
    "rmse_full"
   ]
  },
  {
   "cell_type": "code",
   "execution_count": 54,
   "id": "61bdafbf-45f2-4f7f-866d-1023919e708b",
   "metadata": {
    "execution": {
     "iopub.execute_input": "2025-02-22T05:53:56.126947Z",
     "iopub.status.busy": "2025-02-22T05:53:56.126523Z",
     "iopub.status.idle": "2025-02-22T05:53:56.134796Z",
     "shell.execute_reply": "2025-02-22T05:53:56.134278Z",
     "shell.execute_reply.started": "2025-02-22T05:53:56.126926Z"
    },
    "tags": []
   },
   "outputs": [
    {
     "data": {
      "text/plain": [
       "50.88627007517046"
      ]
     },
     "execution_count": 54,
     "metadata": {},
     "output_type": "execute_result"
    }
   ],
   "source": [
    "rmse_few = np.sqrt(mse_few)\n",
    "rmse_few"
   ]
  },
  {
   "cell_type": "code",
   "execution_count": 55,
   "id": "ef233250-0d56-4cc4-af20-b85edfcf005a",
   "metadata": {
    "execution": {
     "iopub.execute_input": "2025-02-22T05:53:56.135841Z",
     "iopub.status.busy": "2025-02-22T05:53:56.135496Z",
     "iopub.status.idle": "2025-02-22T05:53:56.143949Z",
     "shell.execute_reply": "2025-02-22T05:53:56.143430Z",
     "shell.execute_reply.started": "2025-02-22T05:53:56.135821Z"
    },
    "tags": []
   },
   "outputs": [
    {
     "data": {
      "text/plain": [
       "180.7316016410861"
      ]
     },
     "execution_count": 55,
     "metadata": {},
     "output_type": "execute_result"
    }
   ],
   "source": [
    "rmse_base = np.sqrt(mse_base)\n",
    "rmse_base"
   ]
  },
  {
   "cell_type": "markdown",
   "id": "b772a0cd-06fa-4cea-8d27-769a97214c6a",
   "metadata": {},
   "source": [
    "### Calculate with scikit-learn "
   ]
  },
  {
   "cell_type": "code",
   "execution_count": 56,
   "id": "a5cb0ed0-f2e8-41d1-9fa1-b2503e35b034",
   "metadata": {
    "execution": {
     "iopub.execute_input": "2025-02-22T05:53:56.144967Z",
     "iopub.status.busy": "2025-02-22T05:53:56.144622Z",
     "iopub.status.idle": "2025-02-22T05:53:56.153634Z",
     "shell.execute_reply": "2025-02-22T05:53:56.153097Z",
     "shell.execute_reply.started": "2025-02-22T05:53:56.144947Z"
    },
    "tags": []
   },
   "outputs": [
    {
     "data": {
      "text/plain": [
       "1.9783407078358676e-13"
      ]
     },
     "execution_count": 56,
     "metadata": {},
     "output_type": "execute_result"
    }
   ],
   "source": [
    "rmse_full = root_mean_squared_error(y_actual, y_pred_full)\n",
    "rmse_full"
   ]
  },
  {
   "cell_type": "code",
   "execution_count": 57,
   "id": "48d7ed24-0890-431e-bb83-b45698ea32a6",
   "metadata": {
    "execution": {
     "iopub.execute_input": "2025-02-22T05:53:56.154686Z",
     "iopub.status.busy": "2025-02-22T05:53:56.154318Z",
     "iopub.status.idle": "2025-02-22T05:53:56.167092Z",
     "shell.execute_reply": "2025-02-22T05:53:56.166582Z",
     "shell.execute_reply.started": "2025-02-22T05:53:56.154667Z"
    },
    "tags": []
   },
   "outputs": [
    {
     "data": {
      "text/plain": [
       "50.88627007517046"
      ]
     },
     "execution_count": 57,
     "metadata": {},
     "output_type": "execute_result"
    }
   ],
   "source": [
    "rmse_few = root_mean_squared_error(y_actual, y_pred_few)\n",
    "rmse_few"
   ]
  },
  {
   "cell_type": "code",
   "execution_count": 58,
   "id": "36408123-4c97-4d0a-9b96-9977803272b2",
   "metadata": {
    "execution": {
     "iopub.execute_input": "2025-02-22T05:53:56.167968Z",
     "iopub.status.busy": "2025-02-22T05:53:56.167763Z",
     "iopub.status.idle": "2025-02-22T05:53:56.176549Z",
     "shell.execute_reply": "2025-02-22T05:53:56.176019Z",
     "shell.execute_reply.started": "2025-02-22T05:53:56.167948Z"
    },
    "tags": []
   },
   "outputs": [
    {
     "data": {
      "text/plain": [
       "180.7316016410861"
      ]
     },
     "execution_count": 58,
     "metadata": {},
     "output_type": "execute_result"
    }
   ],
   "source": [
    "rmse_base = root_mean_squared_error(y_actual, y_pred_base)\n",
    "rmse_base"
   ]
  },
  {
   "cell_type": "markdown",
   "id": "877c8a67-95ce-4de1-b8b3-5a68b6253a9d",
   "metadata": {},
   "source": [
    "### Evaluation"
   ]
  },
  {
   "cell_type": "code",
   "execution_count": 59,
   "id": "c367ab1c-54e7-4374-8489-13c40d9b2163",
   "metadata": {
    "execution": {
     "iopub.execute_input": "2025-02-22T05:53:56.177403Z",
     "iopub.status.busy": "2025-02-22T05:53:56.177200Z",
     "iopub.status.idle": "2025-02-22T05:53:56.185376Z",
     "shell.execute_reply": "2025-02-22T05:53:56.184798Z",
     "shell.execute_reply.started": "2025-02-22T05:53:56.177385Z"
    },
    "tags": []
   },
   "outputs": [
    {
     "name": "stdout",
     "output_type": "stream",
     "text": [
      "y_actual values range from 189.9 to 1314.6\n"
     ]
    }
   ],
   "source": [
    "print(f'y_actual values range from {np.amin(y_actual)} to {np.amax(y_actual)}')"
   ]
  },
  {
   "cell_type": "code",
   "execution_count": 60,
   "id": "49e586bb-df7e-457e-8aca-3f9967a8741e",
   "metadata": {
    "execution": {
     "iopub.execute_input": "2025-02-22T05:53:56.186418Z",
     "iopub.status.busy": "2025-02-22T05:53:56.186066Z",
     "iopub.status.idle": "2025-02-22T05:53:56.195209Z",
     "shell.execute_reply": "2025-02-22T05:53:56.194662Z",
     "shell.execute_reply.started": "2025-02-22T05:53:56.186398Z"
    },
    "tags": []
   },
   "outputs": [
    {
     "data": {
      "text/plain": [
       "658.009375"
      ]
     },
     "execution_count": 60,
     "metadata": {},
     "output_type": "execute_result"
    }
   ],
   "source": [
    "np.mean(y_actual)"
   ]
  },
  {
   "cell_type": "markdown",
   "id": "b1b5055f-96bb-4c3b-bc0e-0540eb9e550d",
   "metadata": {},
   "source": [
    "## Mean Absolute Error (MAE)"
   ]
  },
  {
   "cell_type": "markdown",
   "id": "de6bba32-804b-4ff7-b188-f63481d841e8",
   "metadata": {},
   "source": [
    "### Equation"
   ]
  },
  {
   "cell_type": "markdown",
   "id": "4a5bbd06-f5c7-42b9-85c6-a31a5a28571e",
   "metadata": {},
   "source": [
    "### Calculate Manually"
   ]
  },
  {
   "cell_type": "code",
   "execution_count": 61,
   "id": "6bdbbe61-a0f3-439f-9b59-b781ea738962",
   "metadata": {
    "execution": {
     "iopub.execute_input": "2025-02-22T05:53:56.196255Z",
     "iopub.status.busy": "2025-02-22T05:53:56.195903Z",
     "iopub.status.idle": "2025-02-22T05:53:56.204326Z",
     "shell.execute_reply": "2025-02-22T05:53:56.203782Z",
     "shell.execute_reply.started": "2025-02-22T05:53:56.196234Z"
    },
    "tags": []
   },
   "outputs": [
    {
     "data": {
      "text/plain": [
       "1.6634312974669488e-13"
      ]
     },
     "execution_count": 61,
     "metadata": {},
     "output_type": "execute_result"
    }
   ],
   "source": [
    "mae_full = np.sum(np.abs(residuals_full)) / n\n",
    "mae_full"
   ]
  },
  {
   "cell_type": "code",
   "execution_count": 62,
   "id": "607c6d4e-bb52-463a-8a71-ab073c0483db",
   "metadata": {
    "execution": {
     "iopub.execute_input": "2025-02-22T05:53:56.205484Z",
     "iopub.status.busy": "2025-02-22T05:53:56.205066Z",
     "iopub.status.idle": "2025-02-22T05:53:56.213767Z",
     "shell.execute_reply": "2025-02-22T05:53:56.213225Z",
     "shell.execute_reply.started": "2025-02-22T05:53:56.205464Z"
    },
    "tags": []
   },
   "outputs": [
    {
     "data": {
      "text/plain": [
       "39.83435011538076"
      ]
     },
     "execution_count": 62,
     "metadata": {},
     "output_type": "execute_result"
    }
   ],
   "source": [
    "mae_few = np.sum(np.abs(residuals_few)) / n\n",
    "mae_few"
   ]
  },
  {
   "cell_type": "code",
   "execution_count": 63,
   "id": "51bb3b17-d940-437a-aa37-6587df2f5fc5",
   "metadata": {
    "execution": {
     "iopub.execute_input": "2025-02-22T05:53:56.214804Z",
     "iopub.status.busy": "2025-02-22T05:53:56.214451Z",
     "iopub.status.idle": "2025-02-22T05:53:56.222911Z",
     "shell.execute_reply": "2025-02-22T05:53:56.222396Z",
     "shell.execute_reply.started": "2025-02-22T05:53:56.214784Z"
    },
    "tags": []
   },
   "outputs": [
    {
     "data": {
      "text/plain": [
       "139.73130580357142"
      ]
     },
     "execution_count": 63,
     "metadata": {},
     "output_type": "execute_result"
    }
   ],
   "source": [
    "mae_base = np.sum(np.abs(residuals_base)) / n\n",
    "mae_base"
   ]
  },
  {
   "cell_type": "markdown",
   "id": "18de441d-fff5-4c29-a2c5-263401186a84",
   "metadata": {},
   "source": [
    "### Calculate with scikit-learn"
   ]
  },
  {
   "cell_type": "code",
   "execution_count": 64,
   "id": "d453a6b5-3756-4ca8-b810-ec217e2186f2",
   "metadata": {
    "execution": {
     "iopub.execute_input": "2025-02-22T05:53:56.224011Z",
     "iopub.status.busy": "2025-02-22T05:53:56.223594Z",
     "iopub.status.idle": "2025-02-22T05:53:56.232667Z",
     "shell.execute_reply": "2025-02-22T05:53:56.232113Z",
     "shell.execute_reply.started": "2025-02-22T05:53:56.223990Z"
    },
    "tags": []
   },
   "outputs": [
    {
     "data": {
      "text/plain": [
       "1.6634312974669488e-13"
      ]
     },
     "execution_count": 64,
     "metadata": {},
     "output_type": "execute_result"
    }
   ],
   "source": [
    "mae_full = mean_absolute_error(y_actual, y_pred_full)\n",
    "mae_full"
   ]
  },
  {
   "cell_type": "code",
   "execution_count": 65,
   "id": "ceedca71-7243-4df0-b7f3-635ed2dad632",
   "metadata": {
    "execution": {
     "iopub.execute_input": "2025-02-22T05:53:56.233527Z",
     "iopub.status.busy": "2025-02-22T05:53:56.233321Z",
     "iopub.status.idle": "2025-02-22T05:53:56.242237Z",
     "shell.execute_reply": "2025-02-22T05:53:56.241693Z",
     "shell.execute_reply.started": "2025-02-22T05:53:56.233508Z"
    },
    "tags": []
   },
   "outputs": [
    {
     "data": {
      "text/plain": [
       "39.83435011538076"
      ]
     },
     "execution_count": 65,
     "metadata": {},
     "output_type": "execute_result"
    }
   ],
   "source": [
    "mae_few = mean_absolute_error(y_actual, y_pred_few)\n",
    "mae_few"
   ]
  },
  {
   "cell_type": "code",
   "execution_count": 66,
   "id": "175ca548-2dc1-4ab0-8a2d-2d6470feadb9",
   "metadata": {
    "execution": {
     "iopub.execute_input": "2025-02-22T05:53:56.243376Z",
     "iopub.status.busy": "2025-02-22T05:53:56.242980Z",
     "iopub.status.idle": "2025-02-22T05:53:56.251263Z",
     "shell.execute_reply": "2025-02-22T05:53:56.250858Z",
     "shell.execute_reply.started": "2025-02-22T05:53:56.243356Z"
    },
    "tags": []
   },
   "outputs": [
    {
     "data": {
      "text/plain": [
       "139.73130580357142"
      ]
     },
     "execution_count": 66,
     "metadata": {},
     "output_type": "execute_result"
    }
   ],
   "source": [
    "mae_base = mean_absolute_error(y_actual, y_pred_base)\n",
    "mae_base"
   ]
  },
  {
   "cell_type": "markdown",
   "id": "9158291c-1c83-4f11-b655-d0e6f498d45a",
   "metadata": {},
   "source": [
    "### Evaluation"
   ]
  },
  {
   "cell_type": "markdown",
   "id": "31c3d19e-d134-423b-8efc-aeca63785926",
   "metadata": {},
   "source": [
    "## Residuals Plots\n",
    "\n",
    "### Evaluating Scatterplot of Residuals "
   ]
  },
  {
   "cell_type": "code",
   "execution_count": 67,
   "id": "7c47ca0e-cb6a-40d3-b65b-408e3d909178",
   "metadata": {
    "execution": {
     "iopub.execute_input": "2025-02-22T05:53:56.251951Z",
     "iopub.status.busy": "2025-02-22T05:53:56.251782Z",
     "iopub.status.idle": "2025-02-22T05:53:56.358948Z",
     "shell.execute_reply": "2025-02-22T05:53:56.358642Z",
     "shell.execute_reply.started": "2025-02-22T05:53:56.251935Z"
    },
    "tags": []
   },
   "outputs": [
    {
     "data": {
      "image/png": "[encoded data removed]",
      "text/plain": [
       "<Figure size 640x480 with 1 Axes>"
      ]
     },
     "metadata": {},
     "output_type": "display_data"
    }
   ],
   "source": [
    "plt.scatter(y_pred_full, residuals_full)\n",
    "plt.xlabel('Predicted values')\n",
    "plt.ylabel('Residuals')\n",
    "plt.title('Residual Plot for model_full')\n",
    "plt.show()"
   ]
  },
  {
   "cell_type": "code",
   "execution_count": 68,
   "id": "a2f2a3ca-ded2-4c17-b106-fa0c8b938a93",
   "metadata": {
    "execution": {
     "iopub.execute_input": "2025-02-22T05:53:56.359487Z",
     "iopub.status.busy": "2025-02-22T05:53:56.359383Z",
     "iopub.status.idle": "2025-02-22T05:53:56.438804Z",
     "shell.execute_reply": "2025-02-22T05:53:56.438498Z",
     "shell.execute_reply.started": "2025-02-22T05:53:56.359477Z"
    },
    "tags": []
   },
   "outputs": [
    {
     "data": {
      "image/png": "[encoded data removed]",
      "text/plain": [
       "<Figure size 640x480 with 1 Axes>"
      ]
     },
     "metadata": {},
     "output_type": "display_data"
    }
   ],
   "source": [
    "plt.scatter(y_pred_few, residuals_few)\n",
    "plt.xlabel('Predicted values')\n",
    "plt.ylabel('Residuals')\n",
    "plt.title('Residual Plot for model_few')\n",
    "plt.show()"
   ]
  },
  {
   "cell_type": "code",
   "execution_count": 69,
   "id": "289c2025-37bf-4c0e-9575-057642355dcb",
   "metadata": {
    "execution": {
     "iopub.execute_input": "2025-02-22T05:53:56.439366Z",
     "iopub.status.busy": "2025-02-22T05:53:56.439259Z",
     "iopub.status.idle": "2025-02-22T05:53:56.517401Z",
     "shell.execute_reply": "2025-02-22T05:53:56.517069Z",
     "shell.execute_reply.started": "2025-02-22T05:53:56.439356Z"
    },
    "tags": []
   },
   "outputs": [
    {
     "data": {
      "image/png": "[encoded data removed]",
      "text/plain": [
       "<Figure size 640x480 with 1 Axes>"
      ]
     },
     "metadata": {},
     "output_type": "display_data"
    }
   ],
   "source": [
    "plt.scatter(y_pred_base, residuals_base)\n",
    "plt.xlabel('Predicted values')\n",
    "plt.ylabel('Residuals')\n",
    "plt.title('Residual Plot for model_base')\n",
    "plt.show()"
   ]
  },
  {
   "cell_type": "markdown",
   "id": "528109eb-95d4-4e67-acbe-4388ff64e9e4",
   "metadata": {},
   "source": [
    "### Evaluating Histogram of Residuals"
   ]
  },
  {
   "cell_type": "code",
   "execution_count": 70,
   "id": "a7340af1-04a6-4d76-9e07-9ff84c32548f",
   "metadata": {
    "execution": {
     "iopub.execute_input": "2025-02-22T05:53:56.517937Z",
     "iopub.status.busy": "2025-02-22T05:53:56.517834Z",
     "iopub.status.idle": "2025-02-22T05:53:56.647391Z",
     "shell.execute_reply": "2025-02-22T05:53:56.647078Z",
     "shell.execute_reply.started": "2025-02-22T05:53:56.517926Z"
    },
    "tags": []
   },
   "outputs": [
    {
     "data": {
      "image/png": "[encoded data removed]",
      "text/plain": [
       "<Figure size 640x480 with 1 Axes>"
      ]
     },
     "metadata": {},
     "output_type": "display_data"
    }
   ],
   "source": [
    "sns.histplot(residuals_full, bins=15, kde=True)\n",
    "plt.title('Histogram of Residuals for model_full')\n",
    "plt.xlabel('Residuals')\n",
    "plt.ylabel('Frequency')\n",
    "plt.show()"
   ]
  },
  {
   "cell_type": "code",
   "execution_count": 71,
   "id": "37b6f988-a3b2-44e6-8c49-bf8298da3adf",
   "metadata": {
    "execution": {
     "iopub.execute_input": "2025-02-22T05:53:56.647950Z",
     "iopub.status.busy": "2025-02-22T05:53:56.647840Z",
     "iopub.status.idle": "2025-02-22T05:53:56.771713Z",
     "shell.execute_reply": "2025-02-22T05:53:56.771405Z",
     "shell.execute_reply.started": "2025-02-22T05:53:56.647939Z"
    },
    "tags": []
   },
   "outputs": [
    {
     "data": {
      "image/png": "[encoded data removed]",
      "text/plain": [
       "<Figure size 640x480 with 1 Axes>"
      ]
     },
     "metadata": {},
     "output_type": "display_data"
    }
   ],
   "source": [
    "sns.histplot(residuals_few, bins=15, kde=True)\n",
    "plt.title('Histogram of Residuals for model_few')\n",
    "plt.xlabel('Residuals')\n",
    "plt.ylabel('Frequency')\n",
    "plt.show()"
   ]
  },
  {
   "cell_type": "code",
   "execution_count": 72,
   "id": "a6fae2c0-95b9-4fda-a8a8-50d0a90bd70d",
   "metadata": {
    "execution": {
     "iopub.execute_input": "2025-02-22T05:53:56.772279Z",
     "iopub.status.busy": "2025-02-22T05:53:56.772166Z",
     "iopub.status.idle": "2025-02-22T05:53:56.891231Z",
     "shell.execute_reply": "2025-02-22T05:53:56.890880Z",
     "shell.execute_reply.started": "2025-02-22T05:53:56.772268Z"
    },
    "tags": []
   },
   "outputs": [
    {
     "data": {
      "image/png": "[encoded data removed]",
      "text/plain": [
       "<Figure size 640x480 with 1 Axes>"
      ]
     },
     "metadata": {},
     "output_type": "display_data"
    }
   ],
   "source": [
    "sns.histplot(residuals_base, bins=15, kde=True)\n",
    "plt.title('Histogram of Residuals for model_base')\n",
    "plt.xlabel('Residuals')\n",
    "plt.ylabel('Frequency')\n",
    "plt.show()"
   ]
  },
  {
   "cell_type": "markdown",
   "id": "00f79ad8-7241-40cf-aba0-f0114c6221b7",
   "metadata": {},
   "source": [
    "## Feature Importance"
   ]
  },
  {
   "cell_type": "code",
   "execution_count": 73,
   "id": "a206a48b-c787-464e-868d-8fd2aec6412f",
   "metadata": {
    "execution": {
     "iopub.execute_input": "2025-02-22T05:53:56.891839Z",
     "iopub.status.busy": "2025-02-22T05:53:56.891724Z",
     "iopub.status.idle": "2025-02-22T05:53:56.895602Z",
     "shell.execute_reply": "2025-02-22T05:53:56.895334Z",
     "shell.execute_reply.started": "2025-02-22T05:53:56.891828Z"
    },
    "tags": []
   },
   "outputs": [
    {
     "data": {
      "text/plain": [
       "Height              -3.352062e-15\n",
       "MINUTES_PLAYED      -2.775558e-17\n",
       "FIELD_GOALS_MADE     1.666667e+00\n",
       "THREE_POINTS_MADE    1.333333e+00\n",
       "TWO_POINTS_MADE      3.333333e-01\n",
       "FREE_THROWS_MADE     1.000000e+00\n",
       "TOTAL_REBOUNDS       1.200000e+00\n",
       "ASSISTS              1.500000e+00\n",
       "TURNOVERS           -1.000000e+00\n",
       "STEALS               2.000000e+00\n",
       "BLOCKS               2.000000e+00\n",
       "FOULS               -1.280226e-15\n",
       "POINTS               1.319604e-14\n",
       "dtype: float64"
      ]
     },
     "execution_count": 73,
     "metadata": {},
     "output_type": "execute_result"
    }
   ],
   "source": [
    "coef_full = pd.Series(data=model_full.coef_, index=model_full.feature_names_in_)\n",
    "coef_full"
   ]
  },
  {
   "cell_type": "code",
   "execution_count": 74,
   "id": "75848b5a-6a40-4638-9832-2c68c5a593d2",
   "metadata": {
    "execution": {
     "iopub.execute_input": "2025-02-22T05:53:56.896067Z",
     "iopub.status.busy": "2025-02-22T05:53:56.895964Z",
     "iopub.status.idle": "2025-02-22T05:53:56.906121Z",
     "shell.execute_reply": "2025-02-22T05:53:56.905813Z",
     "shell.execute_reply.started": "2025-02-22T05:53:56.896057Z"
    },
    "tags": []
   },
   "outputs": [
    {
     "data": {
      "text/plain": [
       "Height               0.000000\n",
       "MINUTES_PLAYED       0.000000\n",
       "FIELD_GOALS_MADE     1.666667\n",
       "THREE_POINTS_MADE    1.333333\n",
       "TWO_POINTS_MADE      0.333333\n",
       "FREE_THROWS_MADE     1.000000\n",
       "TOTAL_REBOUNDS       1.200000\n",
       "ASSISTS              1.500000\n",
       "TURNOVERS           -1.000000\n",
       "STEALS               2.000000\n",
       "BLOCKS               2.000000\n",
       "FOULS                0.000000\n",
       "POINTS               0.000000\n",
       "dtype: float64"
      ]
     },
     "execution_count": 74,
     "metadata": {},
     "output_type": "execute_result"
    }
   ],
   "source": [
    "coef_full[abs(coef_full) < 1e-10] = 0\n",
    "coef_full"
   ]
  },
  {
   "cell_type": "code",
   "execution_count": 75,
   "id": "921badc3-07d3-41f3-81e7-9cfbfc4a9e08",
   "metadata": {
    "execution": {
     "iopub.execute_input": "2025-02-22T05:53:56.906633Z",
     "iopub.status.busy": "2025-02-22T05:53:56.906530Z",
     "iopub.status.idle": "2025-02-22T05:53:56.915537Z",
     "shell.execute_reply": "2025-02-22T05:53:56.915255Z",
     "shell.execute_reply.started": "2025-02-22T05:53:56.906623Z"
    },
    "tags": []
   },
   "outputs": [
    {
     "data": {
      "text/plain": [
       "Height               2.453177\n",
       "MINUTES_PLAYED       0.103874\n",
       "THREE_POINTS_MADE    2.203725\n",
       "FREE_THROWS_MADE     2.391730\n",
       "TOTAL_REBOUNDS       1.521916\n",
       "ASSISTS              1.323135\n",
       "TURNOVERS           -0.570632\n",
       "STEALS               2.239326\n",
       "BLOCKS               2.481790\n",
       "FOULS               -0.261209\n",
       "dtype: float64"
      ]
     },
     "execution_count": 75,
     "metadata": {},
     "output_type": "execute_result"
    }
   ],
   "source": [
    "coef_few = pd.Series(data=model_few.coef_, index=model_few.feature_names_in_)\n",
    "coef_few"
   ]
  },
  {
   "cell_type": "code",
   "execution_count": 76,
   "id": "b7e77961-2382-45df-9e97-5ba5c6a8c83e",
   "metadata": {
    "execution": {
     "iopub.execute_input": "2025-02-22T05:53:56.915998Z",
     "iopub.status.busy": "2025-02-22T05:53:56.915900Z",
     "iopub.status.idle": "2025-02-22T05:53:56.927429Z",
     "shell.execute_reply": "2025-02-22T05:53:56.927149Z",
     "shell.execute_reply.started": "2025-02-22T05:53:56.915988Z"
    },
    "tags": []
   },
   "outputs": [
    {
     "data": {
      "text/html": [
       "<div>\n",
       "<style scoped>\n",
       "    .dataframe tbody tr th:only-of-type {\n",
       "        vertical-align: middle;\n",
       "    }\n",
       "\n",
       "    .dataframe tbody tr th {\n",
       "        vertical-align: top;\n",
       "    }\n",
       "\n",
       "    .dataframe thead th {\n",
       "        text-align: right;\n",
       "    }\n",
       "</style>\n",
       "<table border=\"1\" class=\"dataframe\">\n",
       "  <thead>\n",
       "    <tr style=\"text-align: right;\">\n",
       "      <th></th>\n",
       "      <th>model_full</th>\n",
       "      <th>model_few</th>\n",
       "      <th>difference</th>\n",
       "    </tr>\n",
       "  </thead>\n",
       "  <tbody>\n",
       "    <tr>\n",
       "      <th>ASSISTS</th>\n",
       "      <td>1.500000</td>\n",
       "      <td>1.323135</td>\n",
       "      <td>-0.176865</td>\n",
       "    </tr>\n",
       "    <tr>\n",
       "      <th>BLOCKS</th>\n",
       "      <td>2.000000</td>\n",
       "      <td>2.481790</td>\n",
       "      <td>0.481790</td>\n",
       "    </tr>\n",
       "    <tr>\n",
       "      <th>FIELD_GOALS_MADE</th>\n",
       "      <td>1.666667</td>\n",
       "      <td>0.000000</td>\n",
       "      <td>-1.666667</td>\n",
       "    </tr>\n",
       "    <tr>\n",
       "      <th>FOULS</th>\n",
       "      <td>0.000000</td>\n",
       "      <td>-0.261209</td>\n",
       "      <td>-0.261209</td>\n",
       "    </tr>\n",
       "    <tr>\n",
       "      <th>FREE_THROWS_MADE</th>\n",
       "      <td>1.000000</td>\n",
       "      <td>2.391730</td>\n",
       "      <td>1.391730</td>\n",
       "    </tr>\n",
       "    <tr>\n",
       "      <th>Height</th>\n",
       "      <td>0.000000</td>\n",
       "      <td>2.453177</td>\n",
       "      <td>2.453177</td>\n",
       "    </tr>\n",
       "    <tr>\n",
       "      <th>MINUTES_PLAYED</th>\n",
       "      <td>0.000000</td>\n",
       "      <td>0.103874</td>\n",
       "      <td>0.103874</td>\n",
       "    </tr>\n",
       "    <tr>\n",
       "      <th>POINTS</th>\n",
       "      <td>0.000000</td>\n",
       "      <td>0.000000</td>\n",
       "      <td>0.000000</td>\n",
       "    </tr>\n",
       "    <tr>\n",
       "      <th>STEALS</th>\n",
       "      <td>2.000000</td>\n",
       "      <td>2.239326</td>\n",
       "      <td>0.239326</td>\n",
       "    </tr>\n",
       "    <tr>\n",
       "      <th>THREE_POINTS_MADE</th>\n",
       "      <td>1.333333</td>\n",
       "      <td>2.203725</td>\n",
       "      <td>0.870391</td>\n",
       "    </tr>\n",
       "    <tr>\n",
       "      <th>TOTAL_REBOUNDS</th>\n",
       "      <td>1.200000</td>\n",
       "      <td>1.521916</td>\n",
       "      <td>0.321916</td>\n",
       "    </tr>\n",
       "    <tr>\n",
       "      <th>TURNOVERS</th>\n",
       "      <td>-1.000000</td>\n",
       "      <td>-0.570632</td>\n",
       "      <td>0.429368</td>\n",
       "    </tr>\n",
       "    <tr>\n",
       "      <th>TWO_POINTS_MADE</th>\n",
       "      <td>0.333333</td>\n",
       "      <td>0.000000</td>\n",
       "      <td>-0.333333</td>\n",
       "    </tr>\n",
       "  </tbody>\n",
       "</table>\n",
       "</div>"
      ],
      "text/plain": [
       "                   model_full  model_few  difference\n",
       "ASSISTS              1.500000   1.323135   -0.176865\n",
       "BLOCKS               2.000000   2.481790    0.481790\n",
       "FIELD_GOALS_MADE     1.666667   0.000000   -1.666667\n",
       "FOULS                0.000000  -0.261209   -0.261209\n",
       "FREE_THROWS_MADE     1.000000   2.391730    1.391730\n",
       "Height               0.000000   2.453177    2.453177\n",
       "MINUTES_PLAYED       0.000000   0.103874    0.103874\n",
       "POINTS               0.000000   0.000000    0.000000\n",
       "STEALS               2.000000   2.239326    0.239326\n",
       "THREE_POINTS_MADE    1.333333   2.203725    0.870391\n",
       "TOTAL_REBOUNDS       1.200000   1.521916    0.321916\n",
       "TURNOVERS           -1.000000  -0.570632    0.429368\n",
       "TWO_POINTS_MADE      0.333333   0.000000   -0.333333"
      ]
     },
     "execution_count": 76,
     "metadata": {},
     "output_type": "execute_result"
    }
   ],
   "source": [
    "df = pd.DataFrame({'model_full': coef_full, 'model_few': coef_few}).fillna(0)\n",
    "df['difference'] = df.model_few - df.model_full\n",
    "df"
   ]
  },
  {
   "cell_type": "markdown",
   "id": "17d1a98b-798d-4ef5-a7d0-7d124f8b8087",
   "metadata": {},
   "source": [
    "# Export Data"
   ]
  },
  {
   "cell_type": "code",
   "execution_count": 77,
   "id": "2f1300f3-fa53-4131-ac58-0a5823def94a",
   "metadata": {
    "execution": {
     "iopub.execute_input": "2025-02-22T05:53:56.927895Z",
     "iopub.status.busy": "2025-02-22T05:53:56.927798Z",
     "iopub.status.idle": "2025-02-22T05:53:56.941228Z",
     "shell.execute_reply": "2025-02-22T05:53:56.940884Z",
     "shell.execute_reply.started": "2025-02-22T05:53:56.927886Z"
    },
    "tags": []
   },
   "outputs": [],
   "source": [
    "np.savetxt(data_folder / 'y_pred_full.csv', y_pred_full, delimiter=',', fmt='%f', header='y_pred_full')\n",
    "np.savetxt(data_folder / 'y_pred_few.csv', y_pred_few, delimiter=',', fmt='%f', header='y_pred_few')\n",
    "np.savetxt(data_folder / 'y_pred_base.csv', y_pred_base, delimiter=',', fmt='%f', header='y_pred_base')"
   ]
  }
 ],
 "metadata": {
  "kernelspec": {
   "display_name": "venv",
   "language": "python",
   "name": "venv"
  },
  "language_info": {
   "codemirror_mode": {
    "name": "ipython",
    "version": 3
   },
   "file_extension": ".py",
   "mimetype": "text/x-python",
   "name": "python",
   "nbconvert_exporter": "python",
   "pygments_lexer": "ipython3",
   "version": "3.10.12"
  }
 },
 "nbformat": 4,
 "nbformat_minor": 5
}
