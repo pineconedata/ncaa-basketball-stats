{
 "cells": [
  {
   "cell_type": "markdown",
   "id": "9fa3df10-4c44-4d96-b75f-a5289a0a4325",
   "metadata": {},
   "source": [
    "# Feature Engineering\n",
    "\n",
    "This notebook contains the code for the third part of this data science project - feature engineering. Section headings have been included for convenience and the full writeup is available [on my website](https://www.pineconedata.com/2024-05-30-basketball-feature_engineering/).\n",
    "\n",
    "## Project Overview\n",
    "This is part of a series that walks through the entire process of a data science project - from initial steps like data acquisition, preprocessing, and cleaning to more advanced steps like feature engineering, creating visualizations, and machine learning. The dataset used in this project contains individual basketball player statistics (such as total points scored and blocks made) for the 2023-2024 NCAA women’s basketball season.\n",
    "\n",
    "### Articles in this Series   \n",
    "1. [Acquiring and Combining the Datasets](https://www.pineconedata.com/2024-04-11-basketball-data-acquisition/)\n",
    "2. [Cleaning and Preprocessing the Data](https://www.pineconedata.com/2024-05-02-basketball-data-cleaning-preprocessing/)\n",
    "3. [Engineering New Features](https://www.pineconedata.com/2024-05-30-basketball-feature_engineering/) (This Notebook)\n",
    "4. [Exploratory Data Analysis](https://www.pineconedata.com/2024-06-28-basketball-data-exploration/)\n",
    "5. [Visualizations, Charts, and Graphs](https://www.pineconedata.com/2024-07-29-basketball-visualizations/)\n",
    "6. [Selecting a Machine Learning Model](https://www.pineconedata.com/2024-08-12-basketball-select-ml-ols/)\n",
    "7. [Training the Machine Learning Model](https://www.pineconedata.com/2024-09-13-basketball-train-ols/)\n",
    "8. [Evaluating the Machine Learning Model](https://www.pineconedata.com/)\n"
   ]
  },
  {
   "cell_type": "markdown",
   "id": "477eaf25-3900-499d-9d12-a5ebbf02a1a6",
   "metadata": {},
   "source": [
    "# Getting Started\n",
    "Full requirements and environment setup information is detailed in the [first article of this series](https://www.pineconedata.com/2024-04-11-basketball-data-acquisition/).\n",
    "\n",
    "## Import Packages"
   ]
  },
  {
   "cell_type": "code",
   "execution_count": 1,
   "id": "6113023a-9aba-43a9-bcdb-1a00ec091b0c",
   "metadata": {
    "execution": {
     "iopub.execute_input": "2025-01-23T19:37:58.278502Z",
     "iopub.status.busy": "2025-01-23T19:37:58.278277Z",
     "iopub.status.idle": "2025-01-23T19:37:58.462424Z",
     "shell.execute_reply": "2025-01-23T19:37:58.462025Z",
     "shell.execute_reply.started": "2025-01-23T19:37:58.278481Z"
    },
    "tags": []
   },
   "outputs": [],
   "source": [
    "import pandas as pd\n",
    "import numpy as np"
   ]
  },
  {
   "cell_type": "markdown",
   "id": "4d8bd388-0b54-4ab8-9916-4f55963dd784",
   "metadata": {},
   "source": [
    "# Import Data"
   ]
  },
  {
   "cell_type": "code",
   "execution_count": 2,
   "id": "f624dd1c-920b-49a9-8b60-79bd1b8642bc",
   "metadata": {
    "execution": {
     "iopub.execute_input": "2025-01-23T19:37:58.463060Z",
     "iopub.status.busy": "2025-01-23T19:37:58.462905Z",
     "iopub.status.idle": "2025-01-23T19:37:58.465169Z",
     "shell.execute_reply": "2025-01-23T19:37:58.464845Z",
     "shell.execute_reply.started": "2025-01-23T19:37:58.463049Z"
    }
   },
   "outputs": [],
   "source": [
    "from pathlib import Path\n",
    "\n",
    "\n",
    "data_folder = Path.cwd().parent / 'data'"
   ]
  },
  {
   "cell_type": "code",
   "execution_count": 3,
   "id": "9dccdae5-1d99-41e2-945f-11a6a105a176",
   "metadata": {
    "execution": {
     "iopub.execute_input": "2025-01-23T19:37:58.465869Z",
     "iopub.status.busy": "2025-01-23T19:37:58.465616Z",
     "iopub.status.idle": "2025-01-23T19:37:58.710377Z",
     "shell.execute_reply": "2025-01-23T19:37:58.710042Z",
     "shell.execute_reply.started": "2025-01-23T19:37:58.465856Z"
    },
    "tags": []
   },
   "outputs": [
    {
     "data": {
      "text/html": [
       "<div>\n",
       "<style scoped>\n",
       "    .dataframe tbody tr th:only-of-type {\n",
       "        vertical-align: middle;\n",
       "    }\n",
       "\n",
       "    .dataframe tbody tr th {\n",
       "        vertical-align: top;\n",
       "    }\n",
       "\n",
       "    .dataframe thead th {\n",
       "        text-align: right;\n",
       "    }\n",
       "</style>\n",
       "<table border=\"1\" class=\"dataframe\">\n",
       "  <thead>\n",
       "    <tr style=\"text-align: right;\">\n",
       "      <th></th>\n",
       "      <th>PLAYER_NAME</th>\n",
       "      <th>Team</th>\n",
       "      <th>Class</th>\n",
       "      <th>Height</th>\n",
       "      <th>Position</th>\n",
       "      <th>PLAYER_ID</th>\n",
       "      <th>TEAM_NAME</th>\n",
       "      <th>GAMES</th>\n",
       "      <th>MINUTES_PLAYED</th>\n",
       "      <th>FIELD_GOALS_MADE</th>\n",
       "      <th>...</th>\n",
       "      <th>FREE_THROW_PERCENTAGE</th>\n",
       "      <th>OFFENSIVE_REBOUNDS</th>\n",
       "      <th>DEFENSIVE_REBOUNDS</th>\n",
       "      <th>TOTAL_REBOUNDS</th>\n",
       "      <th>ASSISTS</th>\n",
       "      <th>TURNOVERS</th>\n",
       "      <th>STEALS</th>\n",
       "      <th>BLOCKS</th>\n",
       "      <th>FOULS</th>\n",
       "      <th>POINTS</th>\n",
       "    </tr>\n",
       "  </thead>\n",
       "  <tbody>\n",
       "    <tr>\n",
       "      <th>0</th>\n",
       "      <td>Kiara Jackson</td>\n",
       "      <td>UNLV (Mountain West)</td>\n",
       "      <td>Junior</td>\n",
       "      <td>67</td>\n",
       "      <td>Guard</td>\n",
       "      <td>ncaaw.p.67149</td>\n",
       "      <td>UNLV</td>\n",
       "      <td>29</td>\n",
       "      <td>895</td>\n",
       "      <td>128</td>\n",
       "      <td>...</td>\n",
       "      <td>75.0</td>\n",
       "      <td>27</td>\n",
       "      <td>102</td>\n",
       "      <td>129</td>\n",
       "      <td>135</td>\n",
       "      <td>42</td>\n",
       "      <td>31</td>\n",
       "      <td>5</td>\n",
       "      <td>47</td>\n",
       "      <td>323</td>\n",
       "    </tr>\n",
       "    <tr>\n",
       "      <th>1</th>\n",
       "      <td>Raven Johnson</td>\n",
       "      <td>South Carolina (SEC)</td>\n",
       "      <td>Sophomore</td>\n",
       "      <td>68</td>\n",
       "      <td>Guard</td>\n",
       "      <td>ncaaw.p.67515</td>\n",
       "      <td>South Carolina</td>\n",
       "      <td>30</td>\n",
       "      <td>823</td>\n",
       "      <td>98</td>\n",
       "      <td>...</td>\n",
       "      <td>64.3</td>\n",
       "      <td>33</td>\n",
       "      <td>128</td>\n",
       "      <td>161</td>\n",
       "      <td>148</td>\n",
       "      <td>53</td>\n",
       "      <td>60</td>\n",
       "      <td>5</td>\n",
       "      <td>34</td>\n",
       "      <td>243</td>\n",
       "    </tr>\n",
       "    <tr>\n",
       "      <th>2</th>\n",
       "      <td>Gina Marxen</td>\n",
       "      <td>Montana (Big Sky)</td>\n",
       "      <td>Senior</td>\n",
       "      <td>68</td>\n",
       "      <td>Guard</td>\n",
       "      <td>ncaaw.p.57909</td>\n",
       "      <td>Montana</td>\n",
       "      <td>29</td>\n",
       "      <td>778</td>\n",
       "      <td>88</td>\n",
       "      <td>...</td>\n",
       "      <td>72.4</td>\n",
       "      <td>6</td>\n",
       "      <td>54</td>\n",
       "      <td>60</td>\n",
       "      <td>111</td>\n",
       "      <td>38</td>\n",
       "      <td>16</td>\n",
       "      <td>2</td>\n",
       "      <td>26</td>\n",
       "      <td>297</td>\n",
       "    </tr>\n",
       "    <tr>\n",
       "      <th>3</th>\n",
       "      <td>McKenna Hofschild</td>\n",
       "      <td>Colorado St. (Mountain West)</td>\n",
       "      <td>Senior</td>\n",
       "      <td>62</td>\n",
       "      <td>Guard</td>\n",
       "      <td>ncaaw.p.60402</td>\n",
       "      <td>Colorado St.</td>\n",
       "      <td>29</td>\n",
       "      <td>1046</td>\n",
       "      <td>231</td>\n",
       "      <td>...</td>\n",
       "      <td>83.5</td>\n",
       "      <td>6</td>\n",
       "      <td>109</td>\n",
       "      <td>115</td>\n",
       "      <td>211</td>\n",
       "      <td>71</td>\n",
       "      <td>36</td>\n",
       "      <td>4</td>\n",
       "      <td>34</td>\n",
       "      <td>654</td>\n",
       "    </tr>\n",
       "    <tr>\n",
       "      <th>4</th>\n",
       "      <td>Kaylah Ivey</td>\n",
       "      <td>Boston College (ACC)</td>\n",
       "      <td>Junior</td>\n",
       "      <td>68</td>\n",
       "      <td>Guard</td>\n",
       "      <td>ncaaw.p.64531</td>\n",
       "      <td>Boston Coll.</td>\n",
       "      <td>33</td>\n",
       "      <td>995</td>\n",
       "      <td>47</td>\n",
       "      <td>...</td>\n",
       "      <td>60.7</td>\n",
       "      <td>12</td>\n",
       "      <td>45</td>\n",
       "      <td>57</td>\n",
       "      <td>186</td>\n",
       "      <td>64</td>\n",
       "      <td>36</td>\n",
       "      <td>1</td>\n",
       "      <td>48</td>\n",
       "      <td>143</td>\n",
       "    </tr>\n",
       "  </tbody>\n",
       "</table>\n",
       "<p>5 rows × 27 columns</p>\n",
       "</div>"
      ],
      "text/plain": [
       "         PLAYER_NAME                           Team      Class  Height  \\\n",
       "0      Kiara Jackson           UNLV (Mountain West)     Junior      67   \n",
       "1      Raven Johnson           South Carolina (SEC)  Sophomore      68   \n",
       "2        Gina Marxen              Montana (Big Sky)     Senior      68   \n",
       "3  McKenna Hofschild   Colorado St. (Mountain West)     Senior      62   \n",
       "4        Kaylah Ivey           Boston College (ACC)     Junior      68   \n",
       "\n",
       "  Position      PLAYER_ID       TEAM_NAME  GAMES  MINUTES_PLAYED  \\\n",
       "0    Guard  ncaaw.p.67149            UNLV     29             895   \n",
       "1    Guard  ncaaw.p.67515  South Carolina     30             823   \n",
       "2    Guard  ncaaw.p.57909         Montana     29             778   \n",
       "3    Guard  ncaaw.p.60402    Colorado St.     29            1046   \n",
       "4    Guard  ncaaw.p.64531    Boston Coll.     33             995   \n",
       "\n",
       "   FIELD_GOALS_MADE  ...  FREE_THROW_PERCENTAGE  OFFENSIVE_REBOUNDS  \\\n",
       "0               128  ...                   75.0                  27   \n",
       "1                98  ...                   64.3                  33   \n",
       "2                88  ...                   72.4                   6   \n",
       "3               231  ...                   83.5                   6   \n",
       "4                47  ...                   60.7                  12   \n",
       "\n",
       "   DEFENSIVE_REBOUNDS  TOTAL_REBOUNDS  ASSISTS  TURNOVERS  STEALS  BLOCKS  \\\n",
       "0                 102             129      135         42      31       5   \n",
       "1                 128             161      148         53      60       5   \n",
       "2                  54              60      111         38      16       2   \n",
       "3                 109             115      211         71      36       4   \n",
       "4                  45              57      186         64      36       1   \n",
       "\n",
       "   FOULS  POINTS  \n",
       "0     47     323  \n",
       "1     34     243  \n",
       "2     26     297  \n",
       "3     34     654  \n",
       "4     48     143  \n",
       "\n",
       "[5 rows x 27 columns]"
      ]
     },
     "execution_count": 3,
     "metadata": {},
     "output_type": "execute_result"
    }
   ],
   "source": [
    "player_data = pd.read_excel(data_folder / 'player_data_clean.xlsx')\n",
    "player_data.head()"
   ]
  },
  {
   "cell_type": "markdown",
   "id": "c2f72676-1ae8-4d19-a3c9-5d0db6fc67e1",
   "metadata": {},
   "source": [
    "# Feature Engineering\n",
    "\n",
    "## Calculate Two-Point Basket Metrics"
   ]
  },
  {
   "cell_type": "code",
   "execution_count": 4,
   "id": "6a1d8de4-204d-4ae1-a873-ff2b6a3c3610",
   "metadata": {
    "execution": {
     "iopub.execute_input": "2025-01-23T19:37:58.711613Z",
     "iopub.status.busy": "2025-01-23T19:37:58.711375Z",
     "iopub.status.idle": "2025-01-23T19:37:58.716224Z",
     "shell.execute_reply": "2025-01-23T19:37:58.715921Z",
     "shell.execute_reply.started": "2025-01-23T19:37:58.711601Z"
    },
    "tags": []
   },
   "outputs": [
    {
     "data": {
      "text/plain": [
       "PLAYER_NAME                object\n",
       "Team                       object\n",
       "Class                      object\n",
       "Height                      int64\n",
       "Position                   object\n",
       "PLAYER_ID                  object\n",
       "TEAM_NAME                  object\n",
       "GAMES                       int64\n",
       "MINUTES_PLAYED              int64\n",
       "FIELD_GOALS_MADE            int64\n",
       "FIELD_GOAL_ATTEMPTS         int64\n",
       "FIELD_GOAL_PERCENTAGE     float64\n",
       "THREE_POINTS_MADE           int64\n",
       "THREE_POINT_ATTEMPTS        int64\n",
       "THREE_POINT_PERCENTAGE    float64\n",
       "FREE_THROWS_MADE            int64\n",
       "FREE_THROW_ATTEMPTS         int64\n",
       "FREE_THROW_PERCENTAGE     float64\n",
       "OFFENSIVE_REBOUNDS          int64\n",
       "DEFENSIVE_REBOUNDS          int64\n",
       "TOTAL_REBOUNDS              int64\n",
       "ASSISTS                     int64\n",
       "TURNOVERS                   int64\n",
       "STEALS                      int64\n",
       "BLOCKS                      int64\n",
       "FOULS                       int64\n",
       "POINTS                      int64\n",
       "TWO_POINTS_MADE             int64\n",
       "TWO_POINT_ATTEMPTS          int64\n",
       "TWO_POINT_PERCENTAGE      float64\n",
       "dtype: object"
      ]
     },
     "execution_count": 4,
     "metadata": {},
     "output_type": "execute_result"
    }
   ],
   "source": [
    "# Calculate two-pointers made\n",
    "player_data['TWO_POINTS_MADE'] = player_data['FIELD_GOALS_MADE'] - player_data['THREE_POINTS_MADE']\n",
    "\n",
    "# Calculate two-point attempts\n",
    "player_data['TWO_POINT_ATTEMPTS'] = player_data['FIELD_GOAL_ATTEMPTS'] - player_data['THREE_POINT_ATTEMPTS']\n",
    "\n",
    "# Calculate two-point percentage\n",
    "player_data['TWO_POINT_PERCENTAGE'] = (player_data['TWO_POINTS_MADE'] / player_data['TWO_POINT_ATTEMPTS']) * 100\n",
    "\n",
    "player_data.dtypes"
   ]
  },
  {
   "cell_type": "markdown",
   "id": "bda5015c-d25e-4ef7-9695-79b48a94f4c8",
   "metadata": {},
   "source": [
    "## Extract Conference from Team Name"
   ]
  },
  {
   "cell_type": "code",
   "execution_count": 5,
   "id": "fe97ade3-ed67-4132-b975-54598854cd7c",
   "metadata": {
    "execution": {
     "iopub.execute_input": "2025-01-23T19:37:58.716717Z",
     "iopub.status.busy": "2025-01-23T19:37:58.716616Z",
     "iopub.status.idle": "2025-01-23T19:37:58.735242Z",
     "shell.execute_reply": "2025-01-23T19:37:58.734923Z",
     "shell.execute_reply.started": "2025-01-23T19:37:58.716707Z"
    },
    "tags": []
   },
   "outputs": [
    {
     "data": {
      "text/html": [
       "<div>\n",
       "<style scoped>\n",
       "    .dataframe tbody tr th:only-of-type {\n",
       "        vertical-align: middle;\n",
       "    }\n",
       "\n",
       "    .dataframe tbody tr th {\n",
       "        vertical-align: top;\n",
       "    }\n",
       "\n",
       "    .dataframe thead th {\n",
       "        text-align: right;\n",
       "    }\n",
       "</style>\n",
       "<table border=\"1\" class=\"dataframe\">\n",
       "  <thead>\n",
       "    <tr style=\"text-align: right;\">\n",
       "      <th></th>\n",
       "      <th>TEAM_NAME</th>\n",
       "      <th>Team</th>\n",
       "    </tr>\n",
       "  </thead>\n",
       "  <tbody>\n",
       "    <tr>\n",
       "      <th>339</th>\n",
       "      <td>Alabama A&amp;M</td>\n",
       "      <td>Ark.-Pine Bluff (SWAC)</td>\n",
       "    </tr>\n",
       "    <tr>\n",
       "      <th>730</th>\n",
       "      <td>St. Mary's</td>\n",
       "      <td>Idaho (Big Sky)</td>\n",
       "    </tr>\n",
       "    <tr>\n",
       "      <th>647</th>\n",
       "      <td>UC Davis</td>\n",
       "      <td>UC Davis (Big West)</td>\n",
       "    </tr>\n",
       "    <tr>\n",
       "      <th>376</th>\n",
       "      <td>E. Tennessee St.</td>\n",
       "      <td>ETSU (SoCon)</td>\n",
       "    </tr>\n",
       "    <tr>\n",
       "      <th>527</th>\n",
       "      <td>SMU</td>\n",
       "      <td>SMU (AAC)</td>\n",
       "    </tr>\n",
       "    <tr>\n",
       "      <th>334</th>\n",
       "      <td>Georgetown</td>\n",
       "      <td>Georgetown (Big East)</td>\n",
       "    </tr>\n",
       "    <tr>\n",
       "      <th>688</th>\n",
       "      <td>Northern Iowa</td>\n",
       "      <td>UNI (MVC)</td>\n",
       "    </tr>\n",
       "    <tr>\n",
       "      <th>412</th>\n",
       "      <td>Washington St.</td>\n",
       "      <td>Washington St. (Pac-12)</td>\n",
       "    </tr>\n",
       "    <tr>\n",
       "      <th>648</th>\n",
       "      <td>Tulane</td>\n",
       "      <td>Tulane (AAC)</td>\n",
       "    </tr>\n",
       "    <tr>\n",
       "      <th>229</th>\n",
       "      <td>Tenn-Martin</td>\n",
       "      <td>UT Martin (OVC)</td>\n",
       "    </tr>\n",
       "  </tbody>\n",
       "</table>\n",
       "</div>"
      ],
      "text/plain": [
       "            TEAM_NAME                      Team\n",
       "339       Alabama A&M    Ark.-Pine Bluff (SWAC)\n",
       "730        St. Mary's           Idaho (Big Sky)\n",
       "647          UC Davis       UC Davis (Big West)\n",
       "376  E. Tennessee St.              ETSU (SoCon)\n",
       "527               SMU                 SMU (AAC)\n",
       "334        Georgetown     Georgetown (Big East)\n",
       "688     Northern Iowa                 UNI (MVC)\n",
       "412    Washington St.   Washington St. (Pac-12)\n",
       "648            Tulane              Tulane (AAC)\n",
       "229       Tenn-Martin           UT Martin (OVC)"
      ]
     },
     "execution_count": 5,
     "metadata": {},
     "output_type": "execute_result"
    }
   ],
   "source": [
    "player_data[['TEAM_NAME', 'Team']].sample(10)"
   ]
  },
  {
   "cell_type": "code",
   "execution_count": 6,
   "id": "5926d772-e00f-4ef1-a71c-57314bdb9021",
   "metadata": {
    "execution": {
     "iopub.execute_input": "2025-01-23T19:37:58.735745Z",
     "iopub.status.busy": "2025-01-23T19:37:58.735640Z",
     "iopub.status.idle": "2025-01-23T19:37:58.746137Z",
     "shell.execute_reply": "2025-01-23T19:37:58.745836Z",
     "shell.execute_reply.started": "2025-01-23T19:37:58.735735Z"
    },
    "tags": []
   },
   "outputs": [
    {
     "data": {
      "text/plain": [
       "0      Mountain West\n",
       "1                SEC\n",
       "2            Big Sky\n",
       "3      Mountain West\n",
       "4                ACC\n",
       "           ...      \n",
       "890             MAAC\n",
       "891              AAC\n",
       "892            SoCon\n",
       "893             SWAC\n",
       "894             ASUN\n",
       "Name: 0, Length: 895, dtype: object"
      ]
     },
     "execution_count": 6,
     "metadata": {},
     "output_type": "execute_result"
    }
   ],
   "source": [
    "player_data['Team'].str.split('\\(', expand=True)[1].str.split('\\)', expand=True)[0]"
   ]
  },
  {
   "cell_type": "code",
   "execution_count": 7,
   "id": "5f082c4d-0682-4a67-8a35-b71a1b6c903a",
   "metadata": {
    "execution": {
     "iopub.execute_input": "2025-01-23T19:37:58.746629Z",
     "iopub.status.busy": "2025-01-23T19:37:58.746532Z",
     "iopub.status.idle": "2025-01-23T19:37:58.755943Z",
     "shell.execute_reply": "2025-01-23T19:37:58.755578Z",
     "shell.execute_reply.started": "2025-01-23T19:37:58.746620Z"
    },
    "tags": []
   },
   "outputs": [
    {
     "data": {
      "text/plain": [
       "76      St. John's (NY) (Big East)\n",
       "101               Miami (FL) (ACC)\n",
       "124                 LMU (CA) (WCC)\n",
       "197       Saint Francis (PA) (NEC)\n",
       "316     St. John's (NY) (Big East)\n",
       "342               Miami (FL) (ACC)\n",
       "389               Miami (OH) (MAC)\n",
       "483     St. John's (NY) (Big East)\n",
       "701                 LMU (CA) (WCC)\n",
       "753               Miami (OH) (MAC)\n",
       "770        Saint Mary's (CA) (WCC)\n",
       "802                 LMU (CA) (WCC)\n",
       "814        Saint Mary's (CA) (WCC)\n",
       "820               Miami (FL) (ACC)\n",
       "Name: Team, dtype: object"
      ]
     },
     "execution_count": 7,
     "metadata": {},
     "output_type": "execute_result"
    }
   ],
   "source": [
    "player_data[player_data['Team'].str.count('\\(') == 2]['Team']"
   ]
  },
  {
   "cell_type": "code",
   "execution_count": 8,
   "id": "ed0907f1-4602-4ffa-9092-1a58f6c2b825",
   "metadata": {
    "execution": {
     "iopub.execute_input": "2025-01-23T19:37:58.756630Z",
     "iopub.status.busy": "2025-01-23T19:37:58.756489Z",
     "iopub.status.idle": "2025-01-23T19:37:58.767517Z",
     "shell.execute_reply": "2025-01-23T19:37:58.767233Z",
     "shell.execute_reply.started": "2025-01-23T19:37:58.756617Z"
    },
    "tags": []
   },
   "outputs": [
    {
     "data": {
      "text/plain": [
       "124    CA\n",
       "820    FL\n",
       "Name: 0, dtype: object"
      ]
     },
     "execution_count": 8,
     "metadata": {},
     "output_type": "execute_result"
    }
   ],
   "source": [
    "player_data['Team'].str.split('\\(', expand=True)[1].str.split('\\)', expand=True)[0].iloc[[124, 820]]"
   ]
  },
  {
   "cell_type": "code",
   "execution_count": 9,
   "id": "4df404fd-fb86-4139-9469-fa8ab318acb9",
   "metadata": {
    "execution": {
     "iopub.execute_input": "2025-01-23T19:37:58.768004Z",
     "iopub.status.busy": "2025-01-23T19:37:58.767897Z",
     "iopub.status.idle": "2025-01-23T19:37:58.778485Z",
     "shell.execute_reply": "2025-01-23T19:37:58.778204Z",
     "shell.execute_reply.started": "2025-01-23T19:37:58.767994Z"
    },
    "tags": []
   },
   "outputs": [
    {
     "data": {
      "text/html": [
       "<div>\n",
       "<style scoped>\n",
       "    .dataframe tbody tr th:only-of-type {\n",
       "        vertical-align: middle;\n",
       "    }\n",
       "\n",
       "    .dataframe tbody tr th {\n",
       "        vertical-align: top;\n",
       "    }\n",
       "\n",
       "    .dataframe thead th {\n",
       "        text-align: right;\n",
       "    }\n",
       "</style>\n",
       "<table border=\"1\" class=\"dataframe\">\n",
       "  <thead>\n",
       "    <tr style=\"text-align: right;\">\n",
       "      <th></th>\n",
       "      <th>0</th>\n",
       "    </tr>\n",
       "  </thead>\n",
       "  <tbody>\n",
       "    <tr>\n",
       "      <th>0</th>\n",
       "      <td>Mountain West</td>\n",
       "    </tr>\n",
       "    <tr>\n",
       "      <th>1</th>\n",
       "      <td>SEC</td>\n",
       "    </tr>\n",
       "    <tr>\n",
       "      <th>2</th>\n",
       "      <td>Big Sky</td>\n",
       "    </tr>\n",
       "    <tr>\n",
       "      <th>3</th>\n",
       "      <td>Mountain West</td>\n",
       "    </tr>\n",
       "    <tr>\n",
       "      <th>4</th>\n",
       "      <td>ACC</td>\n",
       "    </tr>\n",
       "    <tr>\n",
       "      <th>...</th>\n",
       "      <td>...</td>\n",
       "    </tr>\n",
       "    <tr>\n",
       "      <th>890</th>\n",
       "      <td>MAAC</td>\n",
       "    </tr>\n",
       "    <tr>\n",
       "      <th>891</th>\n",
       "      <td>AAC</td>\n",
       "    </tr>\n",
       "    <tr>\n",
       "      <th>892</th>\n",
       "      <td>SoCon</td>\n",
       "    </tr>\n",
       "    <tr>\n",
       "      <th>893</th>\n",
       "      <td>SWAC</td>\n",
       "    </tr>\n",
       "    <tr>\n",
       "      <th>894</th>\n",
       "      <td>ASUN</td>\n",
       "    </tr>\n",
       "  </tbody>\n",
       "</table>\n",
       "<p>895 rows × 1 columns</p>\n",
       "</div>"
      ],
      "text/plain": [
       "                 0\n",
       "0    Mountain West\n",
       "1              SEC\n",
       "2          Big Sky\n",
       "3    Mountain West\n",
       "4              ACC\n",
       "..             ...\n",
       "890           MAAC\n",
       "891            AAC\n",
       "892          SoCon\n",
       "893           SWAC\n",
       "894           ASUN\n",
       "\n",
       "[895 rows x 1 columns]"
      ]
     },
     "execution_count": 9,
     "metadata": {},
     "output_type": "execute_result"
    }
   ],
   "source": [
    "player_data['Team'].str.extract(r'\\(([^)]+)\\)$')"
   ]
  },
  {
   "cell_type": "code",
   "execution_count": 10,
   "id": "d49d3107-5dd6-4c39-b40e-406eedda9190",
   "metadata": {
    "execution": {
     "iopub.execute_input": "2025-01-23T19:37:58.778954Z",
     "iopub.status.busy": "2025-01-23T19:37:58.778846Z",
     "iopub.status.idle": "2025-01-23T19:37:58.789032Z",
     "shell.execute_reply": "2025-01-23T19:37:58.788751Z",
     "shell.execute_reply.started": "2025-01-23T19:37:58.778944Z"
    },
    "tags": []
   },
   "outputs": [
    {
     "data": {
      "text/html": [
       "<div>\n",
       "<style scoped>\n",
       "    .dataframe tbody tr th:only-of-type {\n",
       "        vertical-align: middle;\n",
       "    }\n",
       "\n",
       "    .dataframe tbody tr th {\n",
       "        vertical-align: top;\n",
       "    }\n",
       "\n",
       "    .dataframe thead th {\n",
       "        text-align: right;\n",
       "    }\n",
       "</style>\n",
       "<table border=\"1\" class=\"dataframe\">\n",
       "  <thead>\n",
       "    <tr style=\"text-align: right;\">\n",
       "      <th></th>\n",
       "      <th>0</th>\n",
       "    </tr>\n",
       "  </thead>\n",
       "  <tbody>\n",
       "    <tr>\n",
       "      <th>124</th>\n",
       "      <td>WCC</td>\n",
       "    </tr>\n",
       "    <tr>\n",
       "      <th>820</th>\n",
       "      <td>ACC</td>\n",
       "    </tr>\n",
       "  </tbody>\n",
       "</table>\n",
       "</div>"
      ],
      "text/plain": [
       "       0\n",
       "124  WCC\n",
       "820  ACC"
      ]
     },
     "execution_count": 10,
     "metadata": {},
     "output_type": "execute_result"
    }
   ],
   "source": [
    "player_data['Team'].str.extract(r'\\(([^)]+)\\)$').iloc[[124, 820]]"
   ]
  },
  {
   "cell_type": "code",
   "execution_count": 11,
   "id": "5d052b0c-b1d0-4372-9afa-89b0a6c65144",
   "metadata": {
    "execution": {
     "iopub.execute_input": "2025-01-23T19:37:58.789492Z",
     "iopub.status.busy": "2025-01-23T19:37:58.789392Z",
     "iopub.status.idle": "2025-01-23T19:37:58.798071Z",
     "shell.execute_reply": "2025-01-23T19:37:58.797789Z",
     "shell.execute_reply.started": "2025-01-23T19:37:58.789483Z"
    },
    "tags": []
   },
   "outputs": [],
   "source": [
    "player_data['Conference'] = player_data['Team'].str.extract(r'\\(([^)]+)\\)$')"
   ]
  },
  {
   "cell_type": "code",
   "execution_count": 12,
   "id": "2426c1c5-9ab5-493b-9eaa-c5e7580ba9c8",
   "metadata": {
    "execution": {
     "iopub.execute_input": "2025-01-23T19:37:58.798504Z",
     "iopub.status.busy": "2025-01-23T19:37:58.798407Z",
     "iopub.status.idle": "2025-01-23T19:37:58.808714Z",
     "shell.execute_reply": "2025-01-23T19:37:58.808235Z",
     "shell.execute_reply.started": "2025-01-23T19:37:58.798495Z"
    },
    "tags": []
   },
   "outputs": [
    {
     "data": {
      "text/plain": [
       "['AAC',\n",
       " 'ACC',\n",
       " 'ASUN',\n",
       " 'America East',\n",
       " 'Atlantic 10',\n",
       " 'Big 12',\n",
       " 'Big East',\n",
       " 'Big Sky',\n",
       " 'Big South',\n",
       " 'Big Ten',\n",
       " 'Big West',\n",
       " 'CAA',\n",
       " 'CUSA',\n",
       " 'DI Independent',\n",
       " 'Horizon',\n",
       " 'Ivy League',\n",
       " 'MAAC',\n",
       " 'MAC',\n",
       " 'MEAC',\n",
       " 'MVC',\n",
       " 'Mountain West',\n",
       " 'NEC',\n",
       " 'OVC',\n",
       " 'Pac-12',\n",
       " 'Patriot',\n",
       " 'SEC',\n",
       " 'SWAC',\n",
       " 'SoCon',\n",
       " 'Southland',\n",
       " 'Summit League',\n",
       " 'Sun Belt',\n",
       " 'WAC',\n",
       " 'WCC']"
      ]
     },
     "execution_count": 12,
     "metadata": {},
     "output_type": "execute_result"
    }
   ],
   "source": [
    "sorted(player_data['Conference'].unique())"
   ]
  },
  {
   "cell_type": "markdown",
   "id": "da9ba3d6-9865-4e93-a328-6fea6ebb68d3",
   "metadata": {},
   "source": [
    "## Calculate per-Game Metrics"
   ]
  },
  {
   "cell_type": "code",
   "execution_count": 13,
   "id": "69af9a61-1d96-46ca-9d52-2ec2e35afc01",
   "metadata": {
    "execution": {
     "iopub.execute_input": "2025-01-23T19:37:58.810682Z",
     "iopub.status.busy": "2025-01-23T19:37:58.810497Z",
     "iopub.status.idle": "2025-01-23T19:37:58.825044Z",
     "shell.execute_reply": "2025-01-23T19:37:58.824745Z",
     "shell.execute_reply.started": "2025-01-23T19:37:58.810665Z"
    },
    "tags": []
   },
   "outputs": [
    {
     "data": {
      "text/html": [
       "<div>\n",
       "<style scoped>\n",
       "    .dataframe tbody tr th:only-of-type {\n",
       "        vertical-align: middle;\n",
       "    }\n",
       "\n",
       "    .dataframe tbody tr th {\n",
       "        vertical-align: top;\n",
       "    }\n",
       "\n",
       "    .dataframe thead th {\n",
       "        text-align: right;\n",
       "    }\n",
       "</style>\n",
       "<table border=\"1\" class=\"dataframe\">\n",
       "  <thead>\n",
       "    <tr style=\"text-align: right;\">\n",
       "      <th></th>\n",
       "      <th>PLAYER_NAME</th>\n",
       "      <th>MINUTES_PER_GAME</th>\n",
       "      <th>FOULS_PER_GAME</th>\n",
       "      <th>POINTS_PER_GAME</th>\n",
       "      <th>ASSISTS_PER_GAME</th>\n",
       "      <th>STEALS_PER_GAME</th>\n",
       "      <th>BLOCKS_PER_GAME</th>\n",
       "      <th>REBOUNDS_PER_GAME</th>\n",
       "    </tr>\n",
       "  </thead>\n",
       "  <tbody>\n",
       "    <tr>\n",
       "      <th>162</th>\n",
       "      <td>Chloe Hodges</td>\n",
       "      <td>27.931034</td>\n",
       "      <td>1.827586</td>\n",
       "      <td>8.931034</td>\n",
       "      <td>3.275862</td>\n",
       "      <td>1.241379</td>\n",
       "      <td>0.344828</td>\n",
       "      <td>5.206897</td>\n",
       "    </tr>\n",
       "    <tr>\n",
       "      <th>77</th>\n",
       "      <td>Caitlin Clark</td>\n",
       "      <td>34.000000</td>\n",
       "      <td>1.906250</td>\n",
       "      <td>31.875000</td>\n",
       "      <td>8.812500</td>\n",
       "      <td>1.718750</td>\n",
       "      <td>0.531250</td>\n",
       "      <td>7.312500</td>\n",
       "    </tr>\n",
       "    <tr>\n",
       "      <th>568</th>\n",
       "      <td>Kiki Jefferson</td>\n",
       "      <td>24.575758</td>\n",
       "      <td>1.757576</td>\n",
       "      <td>12.515152</td>\n",
       "      <td>2.363636</td>\n",
       "      <td>1.090909</td>\n",
       "      <td>0.212121</td>\n",
       "      <td>4.606061</td>\n",
       "    </tr>\n",
       "    <tr>\n",
       "      <th>148</th>\n",
       "      <td>Eleyana Tafisi</td>\n",
       "      <td>25.586207</td>\n",
       "      <td>3.551724</td>\n",
       "      <td>6.724138</td>\n",
       "      <td>3.620690</td>\n",
       "      <td>1.620690</td>\n",
       "      <td>0.275862</td>\n",
       "      <td>3.448276</td>\n",
       "    </tr>\n",
       "    <tr>\n",
       "      <th>787</th>\n",
       "      <td>Jayda McNabb</td>\n",
       "      <td>28.193548</td>\n",
       "      <td>2.709677</td>\n",
       "      <td>6.193548</td>\n",
       "      <td>1.741935</td>\n",
       "      <td>1.806452</td>\n",
       "      <td>0.645161</td>\n",
       "      <td>6.290323</td>\n",
       "    </tr>\n",
       "  </tbody>\n",
       "</table>\n",
       "</div>"
      ],
      "text/plain": [
       "        PLAYER_NAME  MINUTES_PER_GAME  FOULS_PER_GAME  POINTS_PER_GAME  \\\n",
       "162    Chloe Hodges         27.931034        1.827586         8.931034   \n",
       "77    Caitlin Clark         34.000000        1.906250        31.875000   \n",
       "568  Kiki Jefferson         24.575758        1.757576        12.515152   \n",
       "148  Eleyana Tafisi         25.586207        3.551724         6.724138   \n",
       "787    Jayda McNabb         28.193548        2.709677         6.193548   \n",
       "\n",
       "     ASSISTS_PER_GAME  STEALS_PER_GAME  BLOCKS_PER_GAME  REBOUNDS_PER_GAME  \n",
       "162          3.275862         1.241379         0.344828           5.206897  \n",
       "77           8.812500         1.718750         0.531250           7.312500  \n",
       "568          2.363636         1.090909         0.212121           4.606061  \n",
       "148          3.620690         1.620690         0.275862           3.448276  \n",
       "787          1.741935         1.806452         0.645161           6.290323  "
      ]
     },
     "execution_count": 13,
     "metadata": {},
     "output_type": "execute_result"
    }
   ],
   "source": [
    "player_data['MINUTES_PER_GAME'] = player_data['MINUTES_PLAYED'] / player_data['GAMES']\n",
    "player_data['FOULS_PER_GAME'] = player_data['FOULS'] / player_data['GAMES']\n",
    "player_data['POINTS_PER_GAME'] = player_data['POINTS'] / player_data['GAMES']\n",
    "player_data['ASSISTS_PER_GAME'] = player_data['ASSISTS'] / player_data['GAMES']\n",
    "player_data['STEALS_PER_GAME'] = player_data['STEALS'] / player_data['GAMES']\n",
    "player_data['BLOCKS_PER_GAME'] = player_data['BLOCKS'] / player_data['GAMES']\n",
    "player_data['REBOUNDS_PER_GAME'] = player_data['TOTAL_REBOUNDS'] / player_data['GAMES']\n",
    "\n",
    "player_data[['PLAYER_NAME', 'MINUTES_PER_GAME', 'FOULS_PER_GAME', 'POINTS_PER_GAME', 'ASSISTS_PER_GAME', 'STEALS_PER_GAME', 'BLOCKS_PER_GAME', 'REBOUNDS_PER_GAME']].sample(5)"
   ]
  },
  {
   "cell_type": "markdown",
   "id": "ed35a20a-f037-4d71-b9d7-14b9dd78dbad",
   "metadata": {},
   "source": [
    "## Calculate Assist-to-Turnover Ratio"
   ]
  },
  {
   "cell_type": "code",
   "execution_count": 14,
   "id": "dc7ed61e-9d9d-4602-8897-9c44a528db30",
   "metadata": {
    "execution": {
     "iopub.execute_input": "2025-01-23T19:37:58.825475Z",
     "iopub.status.busy": "2025-01-23T19:37:58.825378Z",
     "iopub.status.idle": "2025-01-23T19:37:58.836548Z",
     "shell.execute_reply": "2025-01-23T19:37:58.836239Z",
     "shell.execute_reply.started": "2025-01-23T19:37:58.825466Z"
    },
    "tags": []
   },
   "outputs": [
    {
     "data": {
      "text/html": [
       "<div>\n",
       "<style scoped>\n",
       "    .dataframe tbody tr th:only-of-type {\n",
       "        vertical-align: middle;\n",
       "    }\n",
       "\n",
       "    .dataframe tbody tr th {\n",
       "        vertical-align: top;\n",
       "    }\n",
       "\n",
       "    .dataframe thead th {\n",
       "        text-align: right;\n",
       "    }\n",
       "</style>\n",
       "<table border=\"1\" class=\"dataframe\">\n",
       "  <thead>\n",
       "    <tr style=\"text-align: right;\">\n",
       "      <th></th>\n",
       "      <th>PLAYER_NAME</th>\n",
       "      <th>ASSISTS</th>\n",
       "      <th>TURNOVERS</th>\n",
       "      <th>ASSIST_TO_TURNOVER</th>\n",
       "    </tr>\n",
       "  </thead>\n",
       "  <tbody>\n",
       "    <tr>\n",
       "      <th>366</th>\n",
       "      <td>Faith Stinson</td>\n",
       "      <td>20</td>\n",
       "      <td>28</td>\n",
       "      <td>0.714286</td>\n",
       "    </tr>\n",
       "    <tr>\n",
       "      <th>860</th>\n",
       "      <td>Dena Jarrells</td>\n",
       "      <td>112</td>\n",
       "      <td>102</td>\n",
       "      <td>1.098039</td>\n",
       "    </tr>\n",
       "    <tr>\n",
       "      <th>467</th>\n",
       "      <td>Marah Dykstra</td>\n",
       "      <td>78</td>\n",
       "      <td>75</td>\n",
       "      <td>1.040000</td>\n",
       "    </tr>\n",
       "    <tr>\n",
       "      <th>196</th>\n",
       "      <td>Samantha Johnston</td>\n",
       "      <td>99</td>\n",
       "      <td>80</td>\n",
       "      <td>1.237500</td>\n",
       "    </tr>\n",
       "    <tr>\n",
       "      <th>361</th>\n",
       "      <td>Clara Strack</td>\n",
       "      <td>20</td>\n",
       "      <td>31</td>\n",
       "      <td>0.645161</td>\n",
       "    </tr>\n",
       "  </tbody>\n",
       "</table>\n",
       "</div>"
      ],
      "text/plain": [
       "           PLAYER_NAME  ASSISTS  TURNOVERS  ASSIST_TO_TURNOVER\n",
       "366      Faith Stinson       20         28            0.714286\n",
       "860      Dena Jarrells      112        102            1.098039\n",
       "467      Marah Dykstra       78         75            1.040000\n",
       "196  Samantha Johnston       99         80            1.237500\n",
       "361       Clara Strack       20         31            0.645161"
      ]
     },
     "execution_count": 14,
     "metadata": {},
     "output_type": "execute_result"
    }
   ],
   "source": [
    "player_data['ASSIST_TO_TURNOVER'] = player_data['ASSISTS'] / player_data['TURNOVERS']\n",
    "\n",
    "player_data[['PLAYER_NAME', 'ASSISTS', 'TURNOVERS', 'ASSIST_TO_TURNOVER']].sample(5)"
   ]
  },
  {
   "cell_type": "markdown",
   "id": "9b5ecd5b-3d9d-459b-bad5-8a049054b28c",
   "metadata": {},
   "source": [
    "## Calculate Fantasy Points"
   ]
  },
  {
   "cell_type": "code",
   "execution_count": 15,
   "id": "b95662ae-4d82-4f67-a537-217b1177236c",
   "metadata": {
    "execution": {
     "iopub.execute_input": "2025-01-23T19:37:58.837050Z",
     "iopub.status.busy": "2025-01-23T19:37:58.836943Z",
     "iopub.status.idle": "2025-01-23T19:37:58.853668Z",
     "shell.execute_reply": "2025-01-23T19:37:58.853278Z",
     "shell.execute_reply.started": "2025-01-23T19:37:58.837039Z"
    },
    "tags": []
   },
   "outputs": [
    {
     "data": {
      "text/html": [
       "<div>\n",
       "<style scoped>\n",
       "    .dataframe tbody tr th:only-of-type {\n",
       "        vertical-align: middle;\n",
       "    }\n",
       "\n",
       "    .dataframe tbody tr th {\n",
       "        vertical-align: top;\n",
       "    }\n",
       "\n",
       "    .dataframe thead th {\n",
       "        text-align: right;\n",
       "    }\n",
       "</style>\n",
       "<table border=\"1\" class=\"dataframe\">\n",
       "  <thead>\n",
       "    <tr style=\"text-align: right;\">\n",
       "      <th></th>\n",
       "      <th>PLAYER_NAME</th>\n",
       "      <th>FANTASY_POINTS</th>\n",
       "    </tr>\n",
       "  </thead>\n",
       "  <tbody>\n",
       "    <tr>\n",
       "      <th>325</th>\n",
       "      <td>Taisha Exanor</td>\n",
       "      <td>544.9</td>\n",
       "    </tr>\n",
       "    <tr>\n",
       "      <th>584</th>\n",
       "      <td>Jasmine Shavers</td>\n",
       "      <td>795.4</td>\n",
       "    </tr>\n",
       "    <tr>\n",
       "      <th>704</th>\n",
       "      <td>Taniya Hanner</td>\n",
       "      <td>654.4</td>\n",
       "    </tr>\n",
       "    <tr>\n",
       "      <th>535</th>\n",
       "      <td>Faith Lee</td>\n",
       "      <td>597.6</td>\n",
       "    </tr>\n",
       "    <tr>\n",
       "      <th>609</th>\n",
       "      <td>Evanne Turner</td>\n",
       "      <td>655.1</td>\n",
       "    </tr>\n",
       "  </tbody>\n",
       "</table>\n",
       "</div>"
      ],
      "text/plain": [
       "         PLAYER_NAME  FANTASY_POINTS\n",
       "325    Taisha Exanor           544.9\n",
       "584  Jasmine Shavers           795.4\n",
       "704    Taniya Hanner           654.4\n",
       "535        Faith Lee           597.6\n",
       "609    Evanne Turner           655.1"
      ]
     },
     "execution_count": 15,
     "metadata": {},
     "output_type": "execute_result"
    }
   ],
   "source": [
    "player_data['FANTASY_POINTS'] = (player_data['THREE_POINTS_MADE'] * 3) + \\\n",
    "                                (player_data['TWO_POINTS_MADE'] * 2) + \\\n",
    "                                (player_data['FREE_THROWS_MADE'] * 1) + \\\n",
    "                                (player_data['TOTAL_REBOUNDS'] * 1.2) + \\\n",
    "                                (player_data['ASSISTS'] * 1.5) + \\\n",
    "                                (player_data['BLOCKS'] * 2) + \\\n",
    "                                (player_data['STEALS'] * 2) + \\\n",
    "                                (player_data['TURNOVERS'] * -1)\n",
    "\n",
    "player_data[['PLAYER_NAME', 'FANTASY_POINTS']].sample(5)"
   ]
  },
  {
   "cell_type": "markdown",
   "id": "dc8b8d3b-5630-4d40-aaa2-da0b255d5e48",
   "metadata": {},
   "source": [
    "# Wrap Up"
   ]
  },
  {
   "cell_type": "code",
   "execution_count": 16,
   "id": "f048f047-959e-44dd-91a4-22f05fd1de48",
   "metadata": {
    "execution": {
     "iopub.execute_input": "2025-01-23T19:37:58.854228Z",
     "iopub.status.busy": "2025-01-23T19:37:58.854120Z",
     "iopub.status.idle": "2025-01-23T19:37:58.863889Z",
     "shell.execute_reply": "2025-01-23T19:37:58.863461Z",
     "shell.execute_reply.started": "2025-01-23T19:37:58.854218Z"
    },
    "tags": []
   },
   "outputs": [
    {
     "data": {
      "text/plain": [
       "PLAYER_NAME                object\n",
       "Team                       object\n",
       "Class                      object\n",
       "Height                      int64\n",
       "Position                   object\n",
       "PLAYER_ID                  object\n",
       "TEAM_NAME                  object\n",
       "GAMES                       int64\n",
       "MINUTES_PLAYED              int64\n",
       "FIELD_GOALS_MADE            int64\n",
       "FIELD_GOAL_ATTEMPTS         int64\n",
       "FIELD_GOAL_PERCENTAGE     float64\n",
       "THREE_POINTS_MADE           int64\n",
       "THREE_POINT_ATTEMPTS        int64\n",
       "THREE_POINT_PERCENTAGE    float64\n",
       "FREE_THROWS_MADE            int64\n",
       "FREE_THROW_ATTEMPTS         int64\n",
       "FREE_THROW_PERCENTAGE     float64\n",
       "OFFENSIVE_REBOUNDS          int64\n",
       "DEFENSIVE_REBOUNDS          int64\n",
       "TOTAL_REBOUNDS              int64\n",
       "ASSISTS                     int64\n",
       "TURNOVERS                   int64\n",
       "STEALS                      int64\n",
       "BLOCKS                      int64\n",
       "FOULS                       int64\n",
       "POINTS                      int64\n",
       "TWO_POINTS_MADE             int64\n",
       "TWO_POINT_ATTEMPTS          int64\n",
       "TWO_POINT_PERCENTAGE      float64\n",
       "Conference                 object\n",
       "MINUTES_PER_GAME          float64\n",
       "FOULS_PER_GAME            float64\n",
       "POINTS_PER_GAME           float64\n",
       "ASSISTS_PER_GAME          float64\n",
       "STEALS_PER_GAME           float64\n",
       "BLOCKS_PER_GAME           float64\n",
       "REBOUNDS_PER_GAME         float64\n",
       "ASSIST_TO_TURNOVER        float64\n",
       "FANTASY_POINTS            float64\n",
       "dtype: object"
      ]
     },
     "execution_count": 16,
     "metadata": {},
     "output_type": "execute_result"
    }
   ],
   "source": [
    "player_data.dtypes"
   ]
  },
  {
   "cell_type": "markdown",
   "id": "369a7121-c50f-40e1-bf72-0f5eacd09160",
   "metadata": {},
   "source": [
    "# Export Data"
   ]
  },
  {
   "cell_type": "code",
   "execution_count": 17,
   "id": "12d920d6-3145-4510-8a76-8b5a75cf0b85",
   "metadata": {
    "execution": {
     "iopub.execute_input": "2025-01-23T19:37:58.864581Z",
     "iopub.status.busy": "2025-01-23T19:37:58.864427Z",
     "iopub.status.idle": "2025-01-23T19:37:59.142523Z",
     "shell.execute_reply": "2025-01-23T19:37:59.142159Z",
     "shell.execute_reply.started": "2025-01-23T19:37:58.864567Z"
    },
    "tags": []
   },
   "outputs": [],
   "source": [
    "player_data.to_excel(data_folder / 'player_data_engineered.xlsx', index=False)"
   ]
  }
 ],
 "metadata": {
  "kernelspec": {
   "display_name": "Python 3 (ipykernel)",
   "language": "python",
   "name": "python3"
  },
  "language_info": {
   "codemirror_mode": {
    "name": "ipython",
    "version": 3
   },
   "file_extension": ".py",
   "mimetype": "text/x-python",
   "name": "python",
   "nbconvert_exporter": "python",
   "pygments_lexer": "ipython3",
   "version": "3.10.12"
  }
 },
 "nbformat": 4,
 "nbformat_minor": 5
}
