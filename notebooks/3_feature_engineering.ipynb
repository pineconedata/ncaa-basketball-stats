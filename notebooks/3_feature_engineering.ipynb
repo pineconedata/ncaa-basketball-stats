{
 "cells": [
  {
   "cell_type": "markdown",
   "id": "9fa3df10-4c44-4d96-b75f-a5289a0a4325",
   "metadata": {},
   "source": [
    "# Outlier or Catilin Clark? A Data Science Project\n",
    "## Part 3 - Feature Engineering\n",
    "\n",
    "This notebook contains the code for the second part of this data science project - data cleaning and preprocessing. Section headings have been included for convenience and the full writeup is available [on my website](https://www.pineconedata.com/2024-05-30-basketball-feature_engineering/).\n",
    "\n",
    "In summary, there will be a notebook (and post) for each part of the process - from initial steps like data acquisition, preprocessing, and cleaning to more advanced steps like feature engineering, machine learning, and creating visualizations. The dataset used in this project contains individual basketball player statistics (such as total points scored and blocks made) for the 2023-2024 NCAA women’s basketball season."
   ]
  },
  {
   "cell_type": "markdown",
   "id": "477eaf25-3900-499d-9d12-a5ebbf02a1a6",
   "metadata": {},
   "source": [
    "# Getting Started\n",
    "Full requirements and environment setup information is detailed in the [first article of this series](https://www.pineconedata.com/2024-04-11-basketball-data-acquisition/).\n",
    "\n",
    "## Import Packages"
   ]
  },
  {
   "cell_type": "code",
   "execution_count": 1,
   "id": "6113023a-9aba-43a9-bcdb-1a00ec091b0c",
   "metadata": {
    "execution": {
     "iopub.execute_input": "2024-12-11T22:48:57.387423Z",
     "iopub.status.busy": "2024-12-11T22:48:57.387139Z",
     "iopub.status.idle": "2024-12-11T22:48:57.655740Z",
     "shell.execute_reply": "2024-12-11T22:48:57.655391Z",
     "shell.execute_reply.started": "2024-12-11T22:48:57.387400Z"
    },
    "tags": []
   },
   "outputs": [],
   "source": [
    "import pandas as pd\n",
    "import requests\n",
    "import json\n",
    "import os\n",
    "import numpy as np\n",
    "import openpyxl "
   ]
  },
  {
   "cell_type": "markdown",
   "id": "4d8bd388-0b54-4ab8-9916-4f55963dd784",
   "metadata": {},
   "source": [
    "# Import Data"
   ]
  },
  {
   "cell_type": "code",
   "execution_count": 2,
   "id": "f624dd1c-920b-49a9-8b60-79bd1b8642bc",
   "metadata": {
    "execution": {
     "iopub.execute_input": "2024-12-11T22:48:57.656360Z",
     "iopub.status.busy": "2024-12-11T22:48:57.656201Z",
     "iopub.status.idle": "2024-12-11T22:48:57.658433Z",
     "shell.execute_reply": "2024-12-11T22:48:57.658158Z",
     "shell.execute_reply.started": "2024-12-11T22:48:57.656349Z"
    }
   },
   "outputs": [],
   "source": [
    "from pathlib import Path\n",
    "\n",
    "\n",
    "data_folder = Path.cwd().parent / 'data'"
   ]
  },
  {
   "cell_type": "code",
   "execution_count": 3,
   "id": "9dccdae5-1d99-41e2-945f-11a6a105a176",
   "metadata": {
    "execution": {
     "iopub.execute_input": "2024-12-11T22:48:57.658872Z",
     "iopub.status.busy": "2024-12-11T22:48:57.658777Z",
     "iopub.status.idle": "2024-12-11T22:48:57.865783Z",
     "shell.execute_reply": "2024-12-11T22:48:57.865433Z",
     "shell.execute_reply.started": "2024-12-11T22:48:57.658863Z"
    },
    "tags": []
   },
   "outputs": [
    {
     "data": {
      "text/html": [
       "<div>\n",
       "<style scoped>\n",
       "    .dataframe tbody tr th:only-of-type {\n",
       "        vertical-align: middle;\n",
       "    }\n",
       "\n",
       "    .dataframe tbody tr th {\n",
       "        vertical-align: top;\n",
       "    }\n",
       "\n",
       "    .dataframe thead th {\n",
       "        text-align: right;\n",
       "    }\n",
       "</style>\n",
       "<table border=\"1\" class=\"dataframe\">\n",
       "  <thead>\n",
       "    <tr style=\"text-align: right;\">\n",
       "      <th></th>\n",
       "      <th>PLAYER_NAME</th>\n",
       "      <th>Team</th>\n",
       "      <th>Class</th>\n",
       "      <th>Height</th>\n",
       "      <th>Position</th>\n",
       "      <th>PLAYER_ID</th>\n",
       "      <th>TEAM_NAME</th>\n",
       "      <th>GAMES</th>\n",
       "      <th>MINUTES_PLAYED</th>\n",
       "      <th>FIELD_GOALS_MADE</th>\n",
       "      <th>...</th>\n",
       "      <th>FREE_THROW_PERCENTAGE</th>\n",
       "      <th>OFFENSIVE_REBOUNDS</th>\n",
       "      <th>DEFENSIVE_REBOUNDS</th>\n",
       "      <th>TOTAL_REBOUNDS</th>\n",
       "      <th>ASSISTS</th>\n",
       "      <th>TURNOVERS</th>\n",
       "      <th>STEALS</th>\n",
       "      <th>BLOCKS</th>\n",
       "      <th>FOULS</th>\n",
       "      <th>POINTS</th>\n",
       "    </tr>\n",
       "  </thead>\n",
       "  <tbody>\n",
       "    <tr>\n",
       "      <th>0</th>\n",
       "      <td>Kiara Jackson</td>\n",
       "      <td>UNLV (Mountain West)</td>\n",
       "      <td>Junior</td>\n",
       "      <td>67</td>\n",
       "      <td>Guard</td>\n",
       "      <td>ncaaw.p.67149</td>\n",
       "      <td>UNLV</td>\n",
       "      <td>29</td>\n",
       "      <td>895</td>\n",
       "      <td>128</td>\n",
       "      <td>...</td>\n",
       "      <td>75.0</td>\n",
       "      <td>27</td>\n",
       "      <td>102</td>\n",
       "      <td>129</td>\n",
       "      <td>135</td>\n",
       "      <td>42</td>\n",
       "      <td>31</td>\n",
       "      <td>5</td>\n",
       "      <td>47</td>\n",
       "      <td>323</td>\n",
       "    </tr>\n",
       "    <tr>\n",
       "      <th>1</th>\n",
       "      <td>Raven Johnson</td>\n",
       "      <td>South Carolina (SEC)</td>\n",
       "      <td>Sophomore</td>\n",
       "      <td>68</td>\n",
       "      <td>Guard</td>\n",
       "      <td>ncaaw.p.67515</td>\n",
       "      <td>South Carolina</td>\n",
       "      <td>30</td>\n",
       "      <td>823</td>\n",
       "      <td>98</td>\n",
       "      <td>...</td>\n",
       "      <td>64.3</td>\n",
       "      <td>33</td>\n",
       "      <td>128</td>\n",
       "      <td>161</td>\n",
       "      <td>148</td>\n",
       "      <td>53</td>\n",
       "      <td>60</td>\n",
       "      <td>5</td>\n",
       "      <td>34</td>\n",
       "      <td>243</td>\n",
       "    </tr>\n",
       "    <tr>\n",
       "      <th>2</th>\n",
       "      <td>Gina Marxen</td>\n",
       "      <td>Montana (Big Sky)</td>\n",
       "      <td>Senior</td>\n",
       "      <td>68</td>\n",
       "      <td>Guard</td>\n",
       "      <td>ncaaw.p.57909</td>\n",
       "      <td>Montana</td>\n",
       "      <td>29</td>\n",
       "      <td>778</td>\n",
       "      <td>88</td>\n",
       "      <td>...</td>\n",
       "      <td>72.4</td>\n",
       "      <td>6</td>\n",
       "      <td>54</td>\n",
       "      <td>60</td>\n",
       "      <td>111</td>\n",
       "      <td>38</td>\n",
       "      <td>16</td>\n",
       "      <td>2</td>\n",
       "      <td>26</td>\n",
       "      <td>297</td>\n",
       "    </tr>\n",
       "    <tr>\n",
       "      <th>3</th>\n",
       "      <td>McKenna Hofschild</td>\n",
       "      <td>Colorado St. (Mountain West)</td>\n",
       "      <td>Senior</td>\n",
       "      <td>62</td>\n",
       "      <td>Guard</td>\n",
       "      <td>ncaaw.p.60402</td>\n",
       "      <td>Colorado St.</td>\n",
       "      <td>29</td>\n",
       "      <td>1046</td>\n",
       "      <td>231</td>\n",
       "      <td>...</td>\n",
       "      <td>83.5</td>\n",
       "      <td>6</td>\n",
       "      <td>109</td>\n",
       "      <td>115</td>\n",
       "      <td>211</td>\n",
       "      <td>71</td>\n",
       "      <td>36</td>\n",
       "      <td>4</td>\n",
       "      <td>34</td>\n",
       "      <td>654</td>\n",
       "    </tr>\n",
       "    <tr>\n",
       "      <th>4</th>\n",
       "      <td>Kaylah Ivey</td>\n",
       "      <td>Boston College (ACC)</td>\n",
       "      <td>Junior</td>\n",
       "      <td>68</td>\n",
       "      <td>Guard</td>\n",
       "      <td>ncaaw.p.64531</td>\n",
       "      <td>Boston Coll.</td>\n",
       "      <td>33</td>\n",
       "      <td>995</td>\n",
       "      <td>47</td>\n",
       "      <td>...</td>\n",
       "      <td>60.7</td>\n",
       "      <td>12</td>\n",
       "      <td>45</td>\n",
       "      <td>57</td>\n",
       "      <td>186</td>\n",
       "      <td>64</td>\n",
       "      <td>36</td>\n",
       "      <td>1</td>\n",
       "      <td>48</td>\n",
       "      <td>143</td>\n",
       "    </tr>\n",
       "  </tbody>\n",
       "</table>\n",
       "<p>5 rows × 27 columns</p>\n",
       "</div>"
      ],
      "text/plain": [
       "         PLAYER_NAME                           Team      Class  Height  \\\n",
       "0      Kiara Jackson           UNLV (Mountain West)     Junior      67   \n",
       "1      Raven Johnson           South Carolina (SEC)  Sophomore      68   \n",
       "2        Gina Marxen              Montana (Big Sky)     Senior      68   \n",
       "3  McKenna Hofschild   Colorado St. (Mountain West)     Senior      62   \n",
       "4        Kaylah Ivey           Boston College (ACC)     Junior      68   \n",
       "\n",
       "  Position      PLAYER_ID       TEAM_NAME  GAMES  MINUTES_PLAYED  \\\n",
       "0    Guard  ncaaw.p.67149            UNLV     29             895   \n",
       "1    Guard  ncaaw.p.67515  South Carolina     30             823   \n",
       "2    Guard  ncaaw.p.57909         Montana     29             778   \n",
       "3    Guard  ncaaw.p.60402    Colorado St.     29            1046   \n",
       "4    Guard  ncaaw.p.64531    Boston Coll.     33             995   \n",
       "\n",
       "   FIELD_GOALS_MADE  ...  FREE_THROW_PERCENTAGE  OFFENSIVE_REBOUNDS  \\\n",
       "0               128  ...                   75.0                  27   \n",
       "1                98  ...                   64.3                  33   \n",
       "2                88  ...                   72.4                   6   \n",
       "3               231  ...                   83.5                   6   \n",
       "4                47  ...                   60.7                  12   \n",
       "\n",
       "   DEFENSIVE_REBOUNDS  TOTAL_REBOUNDS  ASSISTS  TURNOVERS  STEALS  BLOCKS  \\\n",
       "0                 102             129      135         42      31       5   \n",
       "1                 128             161      148         53      60       5   \n",
       "2                  54              60      111         38      16       2   \n",
       "3                 109             115      211         71      36       4   \n",
       "4                  45              57      186         64      36       1   \n",
       "\n",
       "   FOULS  POINTS  \n",
       "0     47     323  \n",
       "1     34     243  \n",
       "2     26     297  \n",
       "3     34     654  \n",
       "4     48     143  \n",
       "\n",
       "[5 rows x 27 columns]"
      ]
     },
     "execution_count": 3,
     "metadata": {},
     "output_type": "execute_result"
    }
   ],
   "source": [
    "player_data = pd.read_excel(data_folder / 'player_data_clean.xlsx')\n",
    "player_data.head()"
   ]
  },
  {
   "cell_type": "markdown",
   "id": "c2f72676-1ae8-4d19-a3c9-5d0db6fc67e1",
   "metadata": {},
   "source": [
    "# Feature Engineering\n",
    "\n",
    "## Calculate Two-Point Basket Metrics"
   ]
  },
  {
   "cell_type": "code",
   "execution_count": 4,
   "id": "6a1d8de4-204d-4ae1-a873-ff2b6a3c3610",
   "metadata": {
    "execution": {
     "iopub.execute_input": "2024-12-11T22:48:57.866822Z",
     "iopub.status.busy": "2024-12-11T22:48:57.866716Z",
     "iopub.status.idle": "2024-12-11T22:48:57.871217Z",
     "shell.execute_reply": "2024-12-11T22:48:57.870965Z",
     "shell.execute_reply.started": "2024-12-11T22:48:57.866811Z"
    },
    "tags": []
   },
   "outputs": [
    {
     "data": {
      "text/plain": [
       "PLAYER_NAME                object\n",
       "Team                       object\n",
       "Class                      object\n",
       "Height                      int64\n",
       "Position                   object\n",
       "PLAYER_ID                  object\n",
       "TEAM_NAME                  object\n",
       "GAMES                       int64\n",
       "MINUTES_PLAYED              int64\n",
       "FIELD_GOALS_MADE            int64\n",
       "FIELD_GOAL_ATTEMPTS         int64\n",
       "FIELD_GOAL_PERCENTAGE     float64\n",
       "THREE_POINTS_MADE           int64\n",
       "THREE_POINT_ATTEMPTS        int64\n",
       "THREE_POINT_PERCENTAGE    float64\n",
       "FREE_THROWS_MADE            int64\n",
       "FREE_THROW_ATTEMPTS         int64\n",
       "FREE_THROW_PERCENTAGE     float64\n",
       "OFFENSIVE_REBOUNDS          int64\n",
       "DEFENSIVE_REBOUNDS          int64\n",
       "TOTAL_REBOUNDS              int64\n",
       "ASSISTS                     int64\n",
       "TURNOVERS                   int64\n",
       "STEALS                      int64\n",
       "BLOCKS                      int64\n",
       "FOULS                       int64\n",
       "POINTS                      int64\n",
       "TWO_POINTS_MADE             int64\n",
       "TWO_POINT_ATTEMPTS          int64\n",
       "TWO_POINT_PERCENTAGE      float64\n",
       "dtype: object"
      ]
     },
     "execution_count": 4,
     "metadata": {},
     "output_type": "execute_result"
    }
   ],
   "source": [
    "# Calculate two-pointers made\n",
    "player_data['TWO_POINTS_MADE'] = player_data['FIELD_GOALS_MADE'] - player_data['THREE_POINTS_MADE']\n",
    "\n",
    "# Calculate two-point attempts\n",
    "player_data['TWO_POINT_ATTEMPTS'] = player_data['FIELD_GOAL_ATTEMPTS'] - player_data['THREE_POINT_ATTEMPTS']\n",
    "\n",
    "# Calculate two-point percentage\n",
    "player_data['TWO_POINT_PERCENTAGE'] = (player_data['TWO_POINTS_MADE'] / player_data['TWO_POINT_ATTEMPTS']) * 100\n",
    "\n",
    "player_data.dtypes"
   ]
  },
  {
   "cell_type": "markdown",
   "id": "bda5015c-d25e-4ef7-9695-79b48a94f4c8",
   "metadata": {},
   "source": [
    "## Extract Conference from Team Name"
   ]
  },
  {
   "cell_type": "code",
   "execution_count": 5,
   "id": "fe97ade3-ed67-4132-b975-54598854cd7c",
   "metadata": {
    "execution": {
     "iopub.execute_input": "2024-12-11T22:48:57.871636Z",
     "iopub.status.busy": "2024-12-11T22:48:57.871543Z",
     "iopub.status.idle": "2024-12-11T22:48:57.890691Z",
     "shell.execute_reply": "2024-12-11T22:48:57.890422Z",
     "shell.execute_reply.started": "2024-12-11T22:48:57.871626Z"
    },
    "tags": []
   },
   "outputs": [
    {
     "data": {
      "text/html": [
       "<div>\n",
       "<style scoped>\n",
       "    .dataframe tbody tr th:only-of-type {\n",
       "        vertical-align: middle;\n",
       "    }\n",
       "\n",
       "    .dataframe tbody tr th {\n",
       "        vertical-align: top;\n",
       "    }\n",
       "\n",
       "    .dataframe thead th {\n",
       "        text-align: right;\n",
       "    }\n",
       "</style>\n",
       "<table border=\"1\" class=\"dataframe\">\n",
       "  <thead>\n",
       "    <tr style=\"text-align: right;\">\n",
       "      <th></th>\n",
       "      <th>TEAM_NAME</th>\n",
       "      <th>Team</th>\n",
       "    </tr>\n",
       "  </thead>\n",
       "  <tbody>\n",
       "    <tr>\n",
       "      <th>429</th>\n",
       "      <td>Louisiana Tech</td>\n",
       "      <td>Louisiana Tech (CUSA)</td>\n",
       "    </tr>\n",
       "    <tr>\n",
       "      <th>746</th>\n",
       "      <td>Texas A&amp;M</td>\n",
       "      <td>Texas A&amp;M (SEC)</td>\n",
       "    </tr>\n",
       "    <tr>\n",
       "      <th>748</th>\n",
       "      <td>Ut. Tech</td>\n",
       "      <td>Niagara (MAAC)</td>\n",
       "    </tr>\n",
       "    <tr>\n",
       "      <th>758</th>\n",
       "      <td>Texas A&amp;M-Corpus Christi</td>\n",
       "      <td>A&amp;M-Corpus Christi (Southland)</td>\n",
       "    </tr>\n",
       "    <tr>\n",
       "      <th>290</th>\n",
       "      <td>NJIT</td>\n",
       "      <td>NJIT (America East)</td>\n",
       "    </tr>\n",
       "    <tr>\n",
       "      <th>142</th>\n",
       "      <td>N.C. A&amp;T</td>\n",
       "      <td>N.C. A&amp;T (CAA)</td>\n",
       "    </tr>\n",
       "    <tr>\n",
       "      <th>294</th>\n",
       "      <td>Kennesaw St.</td>\n",
       "      <td>Kennesaw St. (ASUN)</td>\n",
       "    </tr>\n",
       "    <tr>\n",
       "      <th>199</th>\n",
       "      <td>Grand Canyon</td>\n",
       "      <td>Grand Canyon (WAC)</td>\n",
       "    </tr>\n",
       "    <tr>\n",
       "      <th>800</th>\n",
       "      <td>PFW</td>\n",
       "      <td>Purdue Fort Wayne (Horizon)</td>\n",
       "    </tr>\n",
       "    <tr>\n",
       "      <th>597</th>\n",
       "      <td>Memphis</td>\n",
       "      <td>Memphis (AAC)</td>\n",
       "    </tr>\n",
       "  </tbody>\n",
       "</table>\n",
       "</div>"
      ],
      "text/plain": [
       "                    TEAM_NAME                             Team\n",
       "429            Louisiana Tech            Louisiana Tech (CUSA)\n",
       "746                 Texas A&M                  Texas A&M (SEC)\n",
       "748                  Ut. Tech                   Niagara (MAAC)\n",
       "758  Texas A&M-Corpus Christi   A&M-Corpus Christi (Southland)\n",
       "290                      NJIT              NJIT (America East)\n",
       "142                  N.C. A&T                   N.C. A&T (CAA)\n",
       "294              Kennesaw St.              Kennesaw St. (ASUN)\n",
       "199              Grand Canyon               Grand Canyon (WAC)\n",
       "800                       PFW      Purdue Fort Wayne (Horizon)\n",
       "597                   Memphis                    Memphis (AAC)"
      ]
     },
     "execution_count": 5,
     "metadata": {},
     "output_type": "execute_result"
    }
   ],
   "source": [
    "player_data[['TEAM_NAME', 'Team']].sample(10)"
   ]
  },
  {
   "cell_type": "code",
   "execution_count": 6,
   "id": "5926d772-e00f-4ef1-a71c-57314bdb9021",
   "metadata": {
    "execution": {
     "iopub.execute_input": "2024-12-11T22:48:57.891128Z",
     "iopub.status.busy": "2024-12-11T22:48:57.891034Z",
     "iopub.status.idle": "2024-12-11T22:48:57.901813Z",
     "shell.execute_reply": "2024-12-11T22:48:57.901553Z",
     "shell.execute_reply.started": "2024-12-11T22:48:57.891119Z"
    },
    "tags": []
   },
   "outputs": [
    {
     "data": {
      "text/plain": [
       "0      Mountain West\n",
       "1                SEC\n",
       "2            Big Sky\n",
       "3      Mountain West\n",
       "4                ACC\n",
       "           ...      \n",
       "890             MAAC\n",
       "891              AAC\n",
       "892            SoCon\n",
       "893             SWAC\n",
       "894             ASUN\n",
       "Name: 0, Length: 895, dtype: object"
      ]
     },
     "execution_count": 6,
     "metadata": {},
     "output_type": "execute_result"
    }
   ],
   "source": [
    "player_data['Team'].str.split('\\(', expand=True)[1].str.split('\\)', expand=True)[0]"
   ]
  },
  {
   "cell_type": "code",
   "execution_count": 7,
   "id": "dcc808bf-a026-427a-95e0-28dba80fc356",
   "metadata": {
    "execution": {
     "iopub.execute_input": "2024-12-11T22:48:57.902236Z",
     "iopub.status.busy": "2024-12-11T22:48:57.902143Z",
     "iopub.status.idle": "2024-12-11T22:48:57.917823Z",
     "shell.execute_reply": "2024-12-11T22:48:57.917567Z",
     "shell.execute_reply.started": "2024-12-11T22:48:57.902227Z"
    },
    "tags": []
   },
   "outputs": [
    {
     "data": {
      "text/plain": [
       "125     Illinois (Big Ten)\n",
       "824      Oakland (Horizon)\n",
       "Name: Team, dtype: object"
      ]
     },
     "execution_count": 7,
     "metadata": {},
     "output_type": "execute_result"
    }
   ],
   "source": [
    "player_data.loc[[125, 824], 'Team']"
   ]
  },
  {
   "cell_type": "code",
   "execution_count": 8,
   "id": "ed0907f1-4602-4ffa-9092-1a58f6c2b825",
   "metadata": {
    "execution": {
     "iopub.execute_input": "2024-12-11T22:48:57.918242Z",
     "iopub.status.busy": "2024-12-11T22:48:57.918153Z",
     "iopub.status.idle": "2024-12-11T22:48:57.928728Z",
     "shell.execute_reply": "2024-12-11T22:48:57.928474Z",
     "shell.execute_reply.started": "2024-12-11T22:48:57.918234Z"
    },
    "tags": []
   },
   "outputs": [
    {
     "data": {
      "text/plain": [
       "125    Big Ten\n",
       "824    Horizon\n",
       "Name: 0, dtype: object"
      ]
     },
     "execution_count": 8,
     "metadata": {},
     "output_type": "execute_result"
    }
   ],
   "source": [
    "player_data['Team'].str.split('\\(', expand=True)[1].str.split('\\)', expand=True)[0].iloc[[125, 824]]"
   ]
  },
  {
   "cell_type": "code",
   "execution_count": 9,
   "id": "4df404fd-fb86-4139-9469-fa8ab318acb9",
   "metadata": {
    "execution": {
     "iopub.execute_input": "2024-12-11T22:48:57.929080Z",
     "iopub.status.busy": "2024-12-11T22:48:57.928987Z",
     "iopub.status.idle": "2024-12-11T22:48:57.940003Z",
     "shell.execute_reply": "2024-12-11T22:48:57.939538Z",
     "shell.execute_reply.started": "2024-12-11T22:48:57.929071Z"
    },
    "tags": []
   },
   "outputs": [
    {
     "data": {
      "text/html": [
       "<div>\n",
       "<style scoped>\n",
       "    .dataframe tbody tr th:only-of-type {\n",
       "        vertical-align: middle;\n",
       "    }\n",
       "\n",
       "    .dataframe tbody tr th {\n",
       "        vertical-align: top;\n",
       "    }\n",
       "\n",
       "    .dataframe thead th {\n",
       "        text-align: right;\n",
       "    }\n",
       "</style>\n",
       "<table border=\"1\" class=\"dataframe\">\n",
       "  <thead>\n",
       "    <tr style=\"text-align: right;\">\n",
       "      <th></th>\n",
       "      <th>0</th>\n",
       "    </tr>\n",
       "  </thead>\n",
       "  <tbody>\n",
       "    <tr>\n",
       "      <th>0</th>\n",
       "      <td>Mountain West</td>\n",
       "    </tr>\n",
       "    <tr>\n",
       "      <th>1</th>\n",
       "      <td>SEC</td>\n",
       "    </tr>\n",
       "    <tr>\n",
       "      <th>2</th>\n",
       "      <td>Big Sky</td>\n",
       "    </tr>\n",
       "    <tr>\n",
       "      <th>3</th>\n",
       "      <td>Mountain West</td>\n",
       "    </tr>\n",
       "    <tr>\n",
       "      <th>4</th>\n",
       "      <td>ACC</td>\n",
       "    </tr>\n",
       "    <tr>\n",
       "      <th>...</th>\n",
       "      <td>...</td>\n",
       "    </tr>\n",
       "    <tr>\n",
       "      <th>890</th>\n",
       "      <td>MAAC</td>\n",
       "    </tr>\n",
       "    <tr>\n",
       "      <th>891</th>\n",
       "      <td>AAC</td>\n",
       "    </tr>\n",
       "    <tr>\n",
       "      <th>892</th>\n",
       "      <td>SoCon</td>\n",
       "    </tr>\n",
       "    <tr>\n",
       "      <th>893</th>\n",
       "      <td>SWAC</td>\n",
       "    </tr>\n",
       "    <tr>\n",
       "      <th>894</th>\n",
       "      <td>ASUN</td>\n",
       "    </tr>\n",
       "  </tbody>\n",
       "</table>\n",
       "<p>895 rows × 1 columns</p>\n",
       "</div>"
      ],
      "text/plain": [
       "                 0\n",
       "0    Mountain West\n",
       "1              SEC\n",
       "2          Big Sky\n",
       "3    Mountain West\n",
       "4              ACC\n",
       "..             ...\n",
       "890           MAAC\n",
       "891            AAC\n",
       "892          SoCon\n",
       "893           SWAC\n",
       "894           ASUN\n",
       "\n",
       "[895 rows x 1 columns]"
      ]
     },
     "execution_count": 9,
     "metadata": {},
     "output_type": "execute_result"
    }
   ],
   "source": [
    "player_data['Team'].str.extract(r'\\(([^)]+)\\)$')"
   ]
  },
  {
   "cell_type": "code",
   "execution_count": 10,
   "id": "d49d3107-5dd6-4c39-b40e-406eedda9190",
   "metadata": {
    "execution": {
     "iopub.execute_input": "2024-12-11T22:48:57.940716Z",
     "iopub.status.busy": "2024-12-11T22:48:57.940556Z",
     "iopub.status.idle": "2024-12-11T22:48:57.957476Z",
     "shell.execute_reply": "2024-12-11T22:48:57.956969Z",
     "shell.execute_reply.started": "2024-12-11T22:48:57.940701Z"
    },
    "tags": []
   },
   "outputs": [
    {
     "data": {
      "text/html": [
       "<div>\n",
       "<style scoped>\n",
       "    .dataframe tbody tr th:only-of-type {\n",
       "        vertical-align: middle;\n",
       "    }\n",
       "\n",
       "    .dataframe tbody tr th {\n",
       "        vertical-align: top;\n",
       "    }\n",
       "\n",
       "    .dataframe thead th {\n",
       "        text-align: right;\n",
       "    }\n",
       "</style>\n",
       "<table border=\"1\" class=\"dataframe\">\n",
       "  <thead>\n",
       "    <tr style=\"text-align: right;\">\n",
       "      <th></th>\n",
       "      <th>0</th>\n",
       "    </tr>\n",
       "  </thead>\n",
       "  <tbody>\n",
       "    <tr>\n",
       "      <th>125</th>\n",
       "      <td>Big Ten</td>\n",
       "    </tr>\n",
       "    <tr>\n",
       "      <th>824</th>\n",
       "      <td>Horizon</td>\n",
       "    </tr>\n",
       "  </tbody>\n",
       "</table>\n",
       "</div>"
      ],
      "text/plain": [
       "           0\n",
       "125  Big Ten\n",
       "824  Horizon"
      ]
     },
     "execution_count": 10,
     "metadata": {},
     "output_type": "execute_result"
    }
   ],
   "source": [
    "player_data['Team'].str.extract(r'\\(([^)]+)\\)$').iloc[[125, 824]]"
   ]
  },
  {
   "cell_type": "code",
   "execution_count": 11,
   "id": "5d052b0c-b1d0-4372-9afa-89b0a6c65144",
   "metadata": {
    "execution": {
     "iopub.execute_input": "2024-12-11T22:48:57.958205Z",
     "iopub.status.busy": "2024-12-11T22:48:57.958034Z",
     "iopub.status.idle": "2024-12-11T22:48:57.967564Z",
     "shell.execute_reply": "2024-12-11T22:48:57.967030Z",
     "shell.execute_reply.started": "2024-12-11T22:48:57.958182Z"
    },
    "tags": []
   },
   "outputs": [],
   "source": [
    "player_data['Conference'] = player_data['Team'].str.extract(r'\\(([^)]+)\\)$')"
   ]
  },
  {
   "cell_type": "code",
   "execution_count": 12,
   "id": "2426c1c5-9ab5-493b-9eaa-c5e7580ba9c8",
   "metadata": {
    "execution": {
     "iopub.execute_input": "2024-12-11T22:48:57.968707Z",
     "iopub.status.busy": "2024-12-11T22:48:57.968256Z",
     "iopub.status.idle": "2024-12-11T22:48:57.985783Z",
     "shell.execute_reply": "2024-12-11T22:48:57.985205Z",
     "shell.execute_reply.started": "2024-12-11T22:48:57.968686Z"
    },
    "tags": []
   },
   "outputs": [
    {
     "data": {
      "text/plain": [
       "['AAC',\n",
       " 'ACC',\n",
       " 'ASUN',\n",
       " 'America East',\n",
       " 'Atlantic 10',\n",
       " 'Big 12',\n",
       " 'Big East',\n",
       " 'Big Sky',\n",
       " 'Big South',\n",
       " 'Big Ten',\n",
       " 'Big West',\n",
       " 'CAA',\n",
       " 'CUSA',\n",
       " 'DI Independent',\n",
       " 'Horizon',\n",
       " 'Ivy League',\n",
       " 'MAAC',\n",
       " 'MAC',\n",
       " 'MEAC',\n",
       " 'MVC',\n",
       " 'Mountain West',\n",
       " 'NEC',\n",
       " 'OVC',\n",
       " 'Pac-12',\n",
       " 'Patriot',\n",
       " 'SEC',\n",
       " 'SWAC',\n",
       " 'SoCon',\n",
       " 'Southland',\n",
       " 'Summit League',\n",
       " 'Sun Belt',\n",
       " 'WAC',\n",
       " 'WCC']"
      ]
     },
     "execution_count": 12,
     "metadata": {},
     "output_type": "execute_result"
    }
   ],
   "source": [
    "sorted(player_data['Conference'].unique())"
   ]
  },
  {
   "cell_type": "markdown",
   "id": "da9ba3d6-9865-4e93-a328-6fea6ebb68d3",
   "metadata": {},
   "source": [
    "## Calculate per-Game Metrics"
   ]
  },
  {
   "cell_type": "code",
   "execution_count": 13,
   "id": "69af9a61-1d96-46ca-9d52-2ec2e35afc01",
   "metadata": {
    "execution": {
     "iopub.execute_input": "2024-12-11T22:48:57.988219Z",
     "iopub.status.busy": "2024-12-11T22:48:57.987865Z",
     "iopub.status.idle": "2024-12-11T22:48:58.006528Z",
     "shell.execute_reply": "2024-12-11T22:48:58.005979Z",
     "shell.execute_reply.started": "2024-12-11T22:48:57.988199Z"
    },
    "tags": []
   },
   "outputs": [
    {
     "data": {
      "text/html": [
       "<div>\n",
       "<style scoped>\n",
       "    .dataframe tbody tr th:only-of-type {\n",
       "        vertical-align: middle;\n",
       "    }\n",
       "\n",
       "    .dataframe tbody tr th {\n",
       "        vertical-align: top;\n",
       "    }\n",
       "\n",
       "    .dataframe thead th {\n",
       "        text-align: right;\n",
       "    }\n",
       "</style>\n",
       "<table border=\"1\" class=\"dataframe\">\n",
       "  <thead>\n",
       "    <tr style=\"text-align: right;\">\n",
       "      <th></th>\n",
       "      <th>PLAYER_NAME</th>\n",
       "      <th>MINUTES_PER_GAME</th>\n",
       "      <th>FOULS_PER_GAME</th>\n",
       "      <th>POINTS_PER_GAME</th>\n",
       "      <th>ASSISTS_PER_GAME</th>\n",
       "      <th>STEALS_PER_GAME</th>\n",
       "      <th>BLOCKS_PER_GAME</th>\n",
       "      <th>REBOUNDS_PER_GAME</th>\n",
       "    </tr>\n",
       "  </thead>\n",
       "  <tbody>\n",
       "    <tr>\n",
       "      <th>247</th>\n",
       "      <td>Anna Miller</td>\n",
       "      <td>24.451613</td>\n",
       "      <td>1.935484</td>\n",
       "      <td>13.193548</td>\n",
       "      <td>2.096774</td>\n",
       "      <td>1.064516</td>\n",
       "      <td>2.645161</td>\n",
       "      <td>9.870968</td>\n",
       "    </tr>\n",
       "    <tr>\n",
       "      <th>196</th>\n",
       "      <td>Samantha Johnston</td>\n",
       "      <td>34.068966</td>\n",
       "      <td>1.862069</td>\n",
       "      <td>10.172414</td>\n",
       "      <td>3.413793</td>\n",
       "      <td>0.931034</td>\n",
       "      <td>1.034483</td>\n",
       "      <td>4.344828</td>\n",
       "    </tr>\n",
       "    <tr>\n",
       "      <th>600</th>\n",
       "      <td>Derin Erdogan</td>\n",
       "      <td>35.800000</td>\n",
       "      <td>2.400000</td>\n",
       "      <td>15.040000</td>\n",
       "      <td>4.200000</td>\n",
       "      <td>1.440000</td>\n",
       "      <td>0.200000</td>\n",
       "      <td>4.880000</td>\n",
       "    </tr>\n",
       "    <tr>\n",
       "      <th>230</th>\n",
       "      <td>Maddie Scherr</td>\n",
       "      <td>33.115385</td>\n",
       "      <td>2.730769</td>\n",
       "      <td>12.461538</td>\n",
       "      <td>3.423077</td>\n",
       "      <td>1.576923</td>\n",
       "      <td>0.730769</td>\n",
       "      <td>4.769231</td>\n",
       "    </tr>\n",
       "    <tr>\n",
       "      <th>22</th>\n",
       "      <td>Kindyll Wetta</td>\n",
       "      <td>23.193548</td>\n",
       "      <td>2.419355</td>\n",
       "      <td>5.580645</td>\n",
       "      <td>3.935484</td>\n",
       "      <td>1.709677</td>\n",
       "      <td>0.161290</td>\n",
       "      <td>3.322581</td>\n",
       "    </tr>\n",
       "  </tbody>\n",
       "</table>\n",
       "</div>"
      ],
      "text/plain": [
       "           PLAYER_NAME  MINUTES_PER_GAME  FOULS_PER_GAME  POINTS_PER_GAME  \\\n",
       "247        Anna Miller         24.451613        1.935484        13.193548   \n",
       "196  Samantha Johnston         34.068966        1.862069        10.172414   \n",
       "600      Derin Erdogan         35.800000        2.400000        15.040000   \n",
       "230      Maddie Scherr         33.115385        2.730769        12.461538   \n",
       "22       Kindyll Wetta         23.193548        2.419355         5.580645   \n",
       "\n",
       "     ASSISTS_PER_GAME  STEALS_PER_GAME  BLOCKS_PER_GAME  REBOUNDS_PER_GAME  \n",
       "247          2.096774         1.064516         2.645161           9.870968  \n",
       "196          3.413793         0.931034         1.034483           4.344828  \n",
       "600          4.200000         1.440000         0.200000           4.880000  \n",
       "230          3.423077         1.576923         0.730769           4.769231  \n",
       "22           3.935484         1.709677         0.161290           3.322581  "
      ]
     },
     "execution_count": 13,
     "metadata": {},
     "output_type": "execute_result"
    }
   ],
   "source": [
    "player_data['MINUTES_PER_GAME'] = player_data['MINUTES_PLAYED'] / player_data['GAMES']\n",
    "player_data['FOULS_PER_GAME'] = player_data['FOULS'] / player_data['GAMES']\n",
    "player_data['POINTS_PER_GAME'] = player_data['POINTS'] / player_data['GAMES']\n",
    "player_data['ASSISTS_PER_GAME'] = player_data['ASSISTS'] / player_data['GAMES']\n",
    "player_data['STEALS_PER_GAME'] = player_data['STEALS'] / player_data['GAMES']\n",
    "player_data['BLOCKS_PER_GAME'] = player_data['BLOCKS'] / player_data['GAMES']\n",
    "player_data['REBOUNDS_PER_GAME'] = player_data['TOTAL_REBOUNDS'] / player_data['GAMES']\n",
    "\n",
    "player_data[['PLAYER_NAME', 'MINUTES_PER_GAME', 'FOULS_PER_GAME', 'POINTS_PER_GAME', 'ASSISTS_PER_GAME', 'STEALS_PER_GAME', 'BLOCKS_PER_GAME', 'REBOUNDS_PER_GAME']].sample(5)"
   ]
  },
  {
   "cell_type": "markdown",
   "id": "ed35a20a-f037-4d71-b9d7-14b9dd78dbad",
   "metadata": {},
   "source": [
    "## Calculate Assist-to-Turnover Ratio"
   ]
  },
  {
   "cell_type": "code",
   "execution_count": 14,
   "id": "dc7ed61e-9d9d-4602-8897-9c44a528db30",
   "metadata": {
    "execution": {
     "iopub.execute_input": "2024-12-11T22:48:58.007397Z",
     "iopub.status.busy": "2024-12-11T22:48:58.007181Z",
     "iopub.status.idle": "2024-12-11T22:48:58.018767Z",
     "shell.execute_reply": "2024-12-11T22:48:58.018225Z",
     "shell.execute_reply.started": "2024-12-11T22:48:58.007377Z"
    },
    "tags": []
   },
   "outputs": [
    {
     "data": {
      "text/html": [
       "<div>\n",
       "<style scoped>\n",
       "    .dataframe tbody tr th:only-of-type {\n",
       "        vertical-align: middle;\n",
       "    }\n",
       "\n",
       "    .dataframe tbody tr th {\n",
       "        vertical-align: top;\n",
       "    }\n",
       "\n",
       "    .dataframe thead th {\n",
       "        text-align: right;\n",
       "    }\n",
       "</style>\n",
       "<table border=\"1\" class=\"dataframe\">\n",
       "  <thead>\n",
       "    <tr style=\"text-align: right;\">\n",
       "      <th></th>\n",
       "      <th>PLAYER_NAME</th>\n",
       "      <th>ASSISTS</th>\n",
       "      <th>TURNOVERS</th>\n",
       "      <th>ASSIST_TO_TURNOVER</th>\n",
       "    </tr>\n",
       "  </thead>\n",
       "  <tbody>\n",
       "    <tr>\n",
       "      <th>584</th>\n",
       "      <td>Jasmine Shavers</td>\n",
       "      <td>50</td>\n",
       "      <td>80</td>\n",
       "      <td>0.625000</td>\n",
       "    </tr>\n",
       "    <tr>\n",
       "      <th>676</th>\n",
       "      <td>Sydney Affolter</td>\n",
       "      <td>74</td>\n",
       "      <td>28</td>\n",
       "      <td>2.642857</td>\n",
       "    </tr>\n",
       "    <tr>\n",
       "      <th>636</th>\n",
       "      <td>Sarah Te-Biasu</td>\n",
       "      <td>91</td>\n",
       "      <td>68</td>\n",
       "      <td>1.338235</td>\n",
       "    </tr>\n",
       "    <tr>\n",
       "      <th>439</th>\n",
       "      <td>Kelsey Rees</td>\n",
       "      <td>24</td>\n",
       "      <td>35</td>\n",
       "      <td>0.685714</td>\n",
       "    </tr>\n",
       "    <tr>\n",
       "      <th>606</th>\n",
       "      <td>Taylor Donaldson</td>\n",
       "      <td>44</td>\n",
       "      <td>61</td>\n",
       "      <td>0.721311</td>\n",
       "    </tr>\n",
       "  </tbody>\n",
       "</table>\n",
       "</div>"
      ],
      "text/plain": [
       "          PLAYER_NAME  ASSISTS  TURNOVERS  ASSIST_TO_TURNOVER\n",
       "584   Jasmine Shavers       50         80            0.625000\n",
       "676   Sydney Affolter       74         28            2.642857\n",
       "636    Sarah Te-Biasu       91         68            1.338235\n",
       "439       Kelsey Rees       24         35            0.685714\n",
       "606  Taylor Donaldson       44         61            0.721311"
      ]
     },
     "execution_count": 14,
     "metadata": {},
     "output_type": "execute_result"
    }
   ],
   "source": [
    "player_data['ASSIST_TO_TURNOVER'] = player_data['ASSISTS'] / player_data['TURNOVERS']\n",
    "\n",
    "player_data[['PLAYER_NAME', 'ASSISTS', 'TURNOVERS', 'ASSIST_TO_TURNOVER']].sample(5)"
   ]
  },
  {
   "cell_type": "markdown",
   "id": "9b5ecd5b-3d9d-459b-bad5-8a049054b28c",
   "metadata": {},
   "source": [
    "## Calculate Fantasy Points"
   ]
  },
  {
   "cell_type": "code",
   "execution_count": 15,
   "id": "b95662ae-4d82-4f67-a537-217b1177236c",
   "metadata": {
    "execution": {
     "iopub.execute_input": "2024-12-11T22:48:58.019812Z",
     "iopub.status.busy": "2024-12-11T22:48:58.019464Z",
     "iopub.status.idle": "2024-12-11T22:48:58.034205Z",
     "shell.execute_reply": "2024-12-11T22:48:58.033666Z",
     "shell.execute_reply.started": "2024-12-11T22:48:58.019792Z"
    },
    "tags": []
   },
   "outputs": [
    {
     "data": {
      "text/html": [
       "<div>\n",
       "<style scoped>\n",
       "    .dataframe tbody tr th:only-of-type {\n",
       "        vertical-align: middle;\n",
       "    }\n",
       "\n",
       "    .dataframe tbody tr th {\n",
       "        vertical-align: top;\n",
       "    }\n",
       "\n",
       "    .dataframe thead th {\n",
       "        text-align: right;\n",
       "    }\n",
       "</style>\n",
       "<table border=\"1\" class=\"dataframe\">\n",
       "  <thead>\n",
       "    <tr style=\"text-align: right;\">\n",
       "      <th></th>\n",
       "      <th>PLAYER_NAME</th>\n",
       "      <th>FANTASY_POINTS</th>\n",
       "    </tr>\n",
       "  </thead>\n",
       "  <tbody>\n",
       "    <tr>\n",
       "      <th>765</th>\n",
       "      <td>Jada Lee</td>\n",
       "      <td>542.1</td>\n",
       "    </tr>\n",
       "    <tr>\n",
       "      <th>131</th>\n",
       "      <td>Destiny Jackson</td>\n",
       "      <td>651.9</td>\n",
       "    </tr>\n",
       "    <tr>\n",
       "      <th>832</th>\n",
       "      <td>Emma Von Essen</td>\n",
       "      <td>468.1</td>\n",
       "    </tr>\n",
       "    <tr>\n",
       "      <th>338</th>\n",
       "      <td>Leilani Kapinus</td>\n",
       "      <td>797.9</td>\n",
       "    </tr>\n",
       "    <tr>\n",
       "      <th>265</th>\n",
       "      <td>Riley Stack</td>\n",
       "      <td>389.5</td>\n",
       "    </tr>\n",
       "  </tbody>\n",
       "</table>\n",
       "</div>"
      ],
      "text/plain": [
       "         PLAYER_NAME  FANTASY_POINTS\n",
       "765         Jada Lee           542.1\n",
       "131  Destiny Jackson           651.9\n",
       "832   Emma Von Essen           468.1\n",
       "338  Leilani Kapinus           797.9\n",
       "265      Riley Stack           389.5"
      ]
     },
     "execution_count": 15,
     "metadata": {},
     "output_type": "execute_result"
    }
   ],
   "source": [
    "player_data['FANTASY_POINTS'] = (player_data['THREE_POINTS_MADE'] * 3) + \\\n",
    "                                (player_data['TWO_POINTS_MADE'] * 2) + \\\n",
    "                                (player_data['FREE_THROWS_MADE'] * 1) + \\\n",
    "                                (player_data['TOTAL_REBOUNDS'] * 1.2) + \\\n",
    "                                (player_data['ASSISTS'] * 1.5) + \\\n",
    "                                (player_data['BLOCKS'] * 2) + \\\n",
    "                                (player_data['STEALS'] * 2) + \\\n",
    "                                (player_data['TURNOVERS'] * -1)\n",
    "\n",
    "player_data[['PLAYER_NAME', 'FANTASY_POINTS']].sample(5)"
   ]
  },
  {
   "cell_type": "markdown",
   "id": "dc8b8d3b-5630-4d40-aaa2-da0b255d5e48",
   "metadata": {},
   "source": [
    "# Wrap Up"
   ]
  },
  {
   "cell_type": "code",
   "execution_count": 16,
   "id": "f048f047-959e-44dd-91a4-22f05fd1de48",
   "metadata": {
    "execution": {
     "iopub.execute_input": "2024-12-11T22:48:58.035345Z",
     "iopub.status.busy": "2024-12-11T22:48:58.034925Z",
     "iopub.status.idle": "2024-12-11T22:48:58.055403Z",
     "shell.execute_reply": "2024-12-11T22:48:58.054800Z",
     "shell.execute_reply.started": "2024-12-11T22:48:58.035324Z"
    },
    "tags": []
   },
   "outputs": [
    {
     "data": {
      "text/plain": [
       "PLAYER_NAME                object\n",
       "Team                       object\n",
       "Class                      object\n",
       "Height                      int64\n",
       "Position                   object\n",
       "PLAYER_ID                  object\n",
       "TEAM_NAME                  object\n",
       "GAMES                       int64\n",
       "MINUTES_PLAYED              int64\n",
       "FIELD_GOALS_MADE            int64\n",
       "FIELD_GOAL_ATTEMPTS         int64\n",
       "FIELD_GOAL_PERCENTAGE     float64\n",
       "THREE_POINTS_MADE           int64\n",
       "THREE_POINT_ATTEMPTS        int64\n",
       "THREE_POINT_PERCENTAGE    float64\n",
       "FREE_THROWS_MADE            int64\n",
       "FREE_THROW_ATTEMPTS         int64\n",
       "FREE_THROW_PERCENTAGE     float64\n",
       "OFFENSIVE_REBOUNDS          int64\n",
       "DEFENSIVE_REBOUNDS          int64\n",
       "TOTAL_REBOUNDS              int64\n",
       "ASSISTS                     int64\n",
       "TURNOVERS                   int64\n",
       "STEALS                      int64\n",
       "BLOCKS                      int64\n",
       "FOULS                       int64\n",
       "POINTS                      int64\n",
       "TWO_POINTS_MADE             int64\n",
       "TWO_POINT_ATTEMPTS          int64\n",
       "TWO_POINT_PERCENTAGE      float64\n",
       "Conference                 object\n",
       "MINUTES_PER_GAME          float64\n",
       "FOULS_PER_GAME            float64\n",
       "POINTS_PER_GAME           float64\n",
       "ASSISTS_PER_GAME          float64\n",
       "STEALS_PER_GAME           float64\n",
       "BLOCKS_PER_GAME           float64\n",
       "REBOUNDS_PER_GAME         float64\n",
       "ASSIST_TO_TURNOVER        float64\n",
       "FANTASY_POINTS            float64\n",
       "dtype: object"
      ]
     },
     "execution_count": 16,
     "metadata": {},
     "output_type": "execute_result"
    }
   ],
   "source": [
    "player_data.dtypes"
   ]
  },
  {
   "cell_type": "code",
   "execution_count": 17,
   "id": "12d920d6-3145-4510-8a76-8b5a75cf0b85",
   "metadata": {
    "execution": {
     "iopub.execute_input": "2024-12-11T22:48:58.056434Z",
     "iopub.status.busy": "2024-12-11T22:48:58.056212Z",
     "iopub.status.idle": "2024-12-11T22:48:58.375504Z",
     "shell.execute_reply": "2024-12-11T22:48:58.375151Z",
     "shell.execute_reply.started": "2024-12-11T22:48:58.056414Z"
    },
    "tags": []
   },
   "outputs": [],
   "source": [
    "player_data.to_excel(data_folder / 'player_data_engineered.xlsx', index=False)"
   ]
  }
 ],
 "metadata": {
  "kernelspec": {
   "display_name": "Python 3 (ipykernel)",
   "language": "python",
   "name": "python3"
  },
  "language_info": {
   "codemirror_mode": {
    "name": "ipython",
    "version": 3
   },
   "file_extension": ".py",
   "mimetype": "text/x-python",
   "name": "python",
   "nbconvert_exporter": "python",
   "pygments_lexer": "ipython3",
   "version": "3.10.12"
  }
 },
 "nbformat": 4,
 "nbformat_minor": 5
}
