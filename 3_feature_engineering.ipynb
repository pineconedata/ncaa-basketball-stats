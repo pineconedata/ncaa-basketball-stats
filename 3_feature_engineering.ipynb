{
 "cells": [
  {
   "cell_type": "markdown",
   "id": "9fa3df10-4c44-4d96-b75f-a5289a0a4325",
   "metadata": {},
   "source": [
    "# Outlier or Catilin Clark? A Data Science Project\n",
    "## Part 3 - Feature Engineering\n",
    "\n",
    "This notebook contains the code for the second part of this data science project - data cleaning and preprocessing. Section headings have been included for convenience and the full writeup is available [on my website](https://www.pineconedata.com/2024-05-30-basketball-feature_engineering/).\n",
    "\n",
    "In summary, there will be a notebook (and post) for each part of the process - from initial steps like data acquisition, preprocessing, and cleaning to more advanced steps like feature engineering, machine learning, and creating visualizations. The dataset used in this project contains individual basketball player statistics (such as total points scored and blocks made) for the 2023-2024 NCAA women’s basketball season."
   ]
  },
  {
   "cell_type": "markdown",
   "id": "477eaf25-3900-499d-9d12-a5ebbf02a1a6",
   "metadata": {},
   "source": [
    "# Getting Started\n",
    "Full requirements and environment setup information is detailed in the [first article of this series](https://www.pineconedata.com/2024-04-11-basketball-data-acquisition/).\n",
    "\n",
    "## Import Packages"
   ]
  },
  {
   "cell_type": "code",
   "execution_count": 2,
   "id": "6113023a-9aba-43a9-bcdb-1a00ec091b0c",
   "metadata": {
    "execution": {
     "iopub.execute_input": "2024-06-06T18:23:49.116873Z",
     "iopub.status.busy": "2024-06-06T18:23:49.116428Z",
     "iopub.status.idle": "2024-06-06T18:23:49.648741Z",
     "shell.execute_reply": "2024-06-06T18:23:49.648204Z",
     "shell.execute_reply.started": "2024-06-06T18:23:49.116847Z"
    },
    "tags": []
   },
   "outputs": [],
   "source": [
    "import pandas as pd\n",
    "import requests\n",
    "import json\n",
    "import os\n",
    "import numpy as np\n",
    "import openpyxl "
   ]
  },
  {
   "cell_type": "markdown",
   "id": "4d8bd388-0b54-4ab8-9916-4f55963dd784",
   "metadata": {},
   "source": [
    "# Import Data"
   ]
  },
  {
   "cell_type": "code",
   "execution_count": 3,
   "id": "9dccdae5-1d99-41e2-945f-11a6a105a176",
   "metadata": {
    "execution": {
     "iopub.execute_input": "2024-06-06T18:23:53.373673Z",
     "iopub.status.busy": "2024-06-06T18:23:53.373156Z",
     "iopub.status.idle": "2024-06-06T18:23:53.964683Z",
     "shell.execute_reply": "2024-06-06T18:23:53.964200Z",
     "shell.execute_reply.started": "2024-06-06T18:23:53.373648Z"
    },
    "tags": []
   },
   "outputs": [
    {
     "data": {
      "text/html": [
       "<div>\n",
       "<style scoped>\n",
       "    .dataframe tbody tr th:only-of-type {\n",
       "        vertical-align: middle;\n",
       "    }\n",
       "\n",
       "    .dataframe tbody tr th {\n",
       "        vertical-align: top;\n",
       "    }\n",
       "\n",
       "    .dataframe thead th {\n",
       "        text-align: right;\n",
       "    }\n",
       "</style>\n",
       "<table border=\"1\" class=\"dataframe\">\n",
       "  <thead>\n",
       "    <tr style=\"text-align: right;\">\n",
       "      <th></th>\n",
       "      <th>PLAYER_NAME</th>\n",
       "      <th>Team</th>\n",
       "      <th>Class</th>\n",
       "      <th>Height</th>\n",
       "      <th>Position</th>\n",
       "      <th>PLAYER_ID</th>\n",
       "      <th>TEAM_NAME</th>\n",
       "      <th>GAMES</th>\n",
       "      <th>MINUTES_PLAYED</th>\n",
       "      <th>FIELD_GOALS_MADE</th>\n",
       "      <th>...</th>\n",
       "      <th>FREE_THROW_PERCENTAGE</th>\n",
       "      <th>OFFENSIVE_REBOUNDS</th>\n",
       "      <th>DEFENSIVE_REBOUNDS</th>\n",
       "      <th>TOTAL_REBOUNDS</th>\n",
       "      <th>ASSISTS</th>\n",
       "      <th>TURNOVERS</th>\n",
       "      <th>STEALS</th>\n",
       "      <th>BLOCKS</th>\n",
       "      <th>FOULS</th>\n",
       "      <th>POINTS</th>\n",
       "    </tr>\n",
       "  </thead>\n",
       "  <tbody>\n",
       "    <tr>\n",
       "      <th>0</th>\n",
       "      <td>Kiara Jackson</td>\n",
       "      <td>UNLV (Mountain West)</td>\n",
       "      <td>Junior</td>\n",
       "      <td>67</td>\n",
       "      <td>Guard</td>\n",
       "      <td>ncaaw.p.67149</td>\n",
       "      <td>UNLV</td>\n",
       "      <td>29</td>\n",
       "      <td>895</td>\n",
       "      <td>128</td>\n",
       "      <td>...</td>\n",
       "      <td>75.0</td>\n",
       "      <td>27</td>\n",
       "      <td>102</td>\n",
       "      <td>129</td>\n",
       "      <td>135</td>\n",
       "      <td>42</td>\n",
       "      <td>31</td>\n",
       "      <td>5</td>\n",
       "      <td>47</td>\n",
       "      <td>323</td>\n",
       "    </tr>\n",
       "    <tr>\n",
       "      <th>1</th>\n",
       "      <td>Raven Johnson</td>\n",
       "      <td>South Carolina (SEC)</td>\n",
       "      <td>Sophomore</td>\n",
       "      <td>68</td>\n",
       "      <td>Guard</td>\n",
       "      <td>ncaaw.p.67515</td>\n",
       "      <td>South Carolina</td>\n",
       "      <td>30</td>\n",
       "      <td>823</td>\n",
       "      <td>98</td>\n",
       "      <td>...</td>\n",
       "      <td>64.3</td>\n",
       "      <td>33</td>\n",
       "      <td>128</td>\n",
       "      <td>161</td>\n",
       "      <td>148</td>\n",
       "      <td>53</td>\n",
       "      <td>60</td>\n",
       "      <td>5</td>\n",
       "      <td>34</td>\n",
       "      <td>243</td>\n",
       "    </tr>\n",
       "    <tr>\n",
       "      <th>2</th>\n",
       "      <td>Gina Marxen</td>\n",
       "      <td>Montana (Big Sky)</td>\n",
       "      <td>Senior</td>\n",
       "      <td>68</td>\n",
       "      <td>Guard</td>\n",
       "      <td>ncaaw.p.57909</td>\n",
       "      <td>Montana</td>\n",
       "      <td>29</td>\n",
       "      <td>778</td>\n",
       "      <td>88</td>\n",
       "      <td>...</td>\n",
       "      <td>72.4</td>\n",
       "      <td>6</td>\n",
       "      <td>54</td>\n",
       "      <td>60</td>\n",
       "      <td>111</td>\n",
       "      <td>38</td>\n",
       "      <td>16</td>\n",
       "      <td>2</td>\n",
       "      <td>26</td>\n",
       "      <td>297</td>\n",
       "    </tr>\n",
       "    <tr>\n",
       "      <th>3</th>\n",
       "      <td>McKenna Hofschild</td>\n",
       "      <td>Colorado St. (Mountain West)</td>\n",
       "      <td>Senior</td>\n",
       "      <td>62</td>\n",
       "      <td>Guard</td>\n",
       "      <td>ncaaw.p.60402</td>\n",
       "      <td>Colorado St.</td>\n",
       "      <td>29</td>\n",
       "      <td>1046</td>\n",
       "      <td>231</td>\n",
       "      <td>...</td>\n",
       "      <td>83.5</td>\n",
       "      <td>6</td>\n",
       "      <td>109</td>\n",
       "      <td>115</td>\n",
       "      <td>211</td>\n",
       "      <td>71</td>\n",
       "      <td>36</td>\n",
       "      <td>4</td>\n",
       "      <td>34</td>\n",
       "      <td>654</td>\n",
       "    </tr>\n",
       "    <tr>\n",
       "      <th>4</th>\n",
       "      <td>Kaylah Ivey</td>\n",
       "      <td>Boston College (ACC)</td>\n",
       "      <td>Junior</td>\n",
       "      <td>68</td>\n",
       "      <td>Guard</td>\n",
       "      <td>ncaaw.p.64531</td>\n",
       "      <td>Boston Coll.</td>\n",
       "      <td>33</td>\n",
       "      <td>995</td>\n",
       "      <td>47</td>\n",
       "      <td>...</td>\n",
       "      <td>60.7</td>\n",
       "      <td>12</td>\n",
       "      <td>45</td>\n",
       "      <td>57</td>\n",
       "      <td>186</td>\n",
       "      <td>64</td>\n",
       "      <td>36</td>\n",
       "      <td>1</td>\n",
       "      <td>48</td>\n",
       "      <td>143</td>\n",
       "    </tr>\n",
       "  </tbody>\n",
       "</table>\n",
       "<p>5 rows × 27 columns</p>\n",
       "</div>"
      ],
      "text/plain": [
       "         PLAYER_NAME                           Team      Class  Height  \\\n",
       "0      Kiara Jackson           UNLV (Mountain West)     Junior      67   \n",
       "1      Raven Johnson           South Carolina (SEC)  Sophomore      68   \n",
       "2        Gina Marxen              Montana (Big Sky)     Senior      68   \n",
       "3  McKenna Hofschild   Colorado St. (Mountain West)     Senior      62   \n",
       "4        Kaylah Ivey           Boston College (ACC)     Junior      68   \n",
       "\n",
       "  Position      PLAYER_ID       TEAM_NAME  GAMES  MINUTES_PLAYED  \\\n",
       "0    Guard  ncaaw.p.67149            UNLV     29             895   \n",
       "1    Guard  ncaaw.p.67515  South Carolina     30             823   \n",
       "2    Guard  ncaaw.p.57909         Montana     29             778   \n",
       "3    Guard  ncaaw.p.60402    Colorado St.     29            1046   \n",
       "4    Guard  ncaaw.p.64531    Boston Coll.     33             995   \n",
       "\n",
       "   FIELD_GOALS_MADE  ...  FREE_THROW_PERCENTAGE  OFFENSIVE_REBOUNDS  \\\n",
       "0               128  ...                   75.0                  27   \n",
       "1                98  ...                   64.3                  33   \n",
       "2                88  ...                   72.4                   6   \n",
       "3               231  ...                   83.5                   6   \n",
       "4                47  ...                   60.7                  12   \n",
       "\n",
       "   DEFENSIVE_REBOUNDS  TOTAL_REBOUNDS  ASSISTS  TURNOVERS  STEALS  BLOCKS  \\\n",
       "0                 102             129      135         42      31       5   \n",
       "1                 128             161      148         53      60       5   \n",
       "2                  54              60      111         38      16       2   \n",
       "3                 109             115      211         71      36       4   \n",
       "4                  45              57      186         64      36       1   \n",
       "\n",
       "   FOULS  POINTS  \n",
       "0     47     323  \n",
       "1     34     243  \n",
       "2     26     297  \n",
       "3     34     654  \n",
       "4     48     143  \n",
       "\n",
       "[5 rows x 27 columns]"
      ]
     },
     "execution_count": 3,
     "metadata": {},
     "output_type": "execute_result"
    }
   ],
   "source": [
    "player_data = pd.read_excel('player_data_clean.xlsx')\n",
    "player_data.head()"
   ]
  },
  {
   "cell_type": "markdown",
   "id": "c2f72676-1ae8-4d19-a3c9-5d0db6fc67e1",
   "metadata": {},
   "source": [
    "# Feature Engineering\n",
    "\n",
    "## Calculate Two-Point Basket Metrics"
   ]
  },
  {
   "cell_type": "code",
   "execution_count": 4,
   "id": "6a1d8de4-204d-4ae1-a873-ff2b6a3c3610",
   "metadata": {
    "execution": {
     "iopub.execute_input": "2024-06-06T18:24:35.738711Z",
     "iopub.status.busy": "2024-06-06T18:24:35.738141Z",
     "iopub.status.idle": "2024-06-06T18:24:35.753078Z",
     "shell.execute_reply": "2024-06-06T18:24:35.752376Z",
     "shell.execute_reply.started": "2024-06-06T18:24:35.738664Z"
    },
    "tags": []
   },
   "outputs": [
    {
     "data": {
      "text/plain": [
       "PLAYER_NAME                object\n",
       "Team                       object\n",
       "Class                      object\n",
       "Height                      int64\n",
       "Position                   object\n",
       "PLAYER_ID                  object\n",
       "TEAM_NAME                  object\n",
       "GAMES                       int64\n",
       "MINUTES_PLAYED              int64\n",
       "FIELD_GOALS_MADE            int64\n",
       "FIELD_GOAL_ATTEMPTS         int64\n",
       "FIELD_GOAL_PERCENTAGE     float64\n",
       "THREE_POINTS_MADE           int64\n",
       "THREE_POINT_ATTEMPTS        int64\n",
       "THREE_POINT_PERCENTAGE    float64\n",
       "FREE_THROWS_MADE            int64\n",
       "FREE_THROW_ATTEMPTS         int64\n",
       "FREE_THROW_PERCENTAGE     float64\n",
       "OFFENSIVE_REBOUNDS          int64\n",
       "DEFENSIVE_REBOUNDS          int64\n",
       "TOTAL_REBOUNDS              int64\n",
       "ASSISTS                     int64\n",
       "TURNOVERS                   int64\n",
       "STEALS                      int64\n",
       "BLOCKS                      int64\n",
       "FOULS                       int64\n",
       "POINTS                      int64\n",
       "TWO_POINTS_MADE             int64\n",
       "TWO_POINT_ATTEMPTS          int64\n",
       "TWO_POINT_PERCENTAGE      float64\n",
       "dtype: object"
      ]
     },
     "execution_count": 4,
     "metadata": {},
     "output_type": "execute_result"
    }
   ],
   "source": [
    "# Calculate two-pointers made\n",
    "player_data['TWO_POINTS_MADE'] = player_data['FIELD_GOALS_MADE'] - player_data['THREE_POINTS_MADE']\n",
    "\n",
    "# Calculate two-point attempts\n",
    "player_data['TWO_POINT_ATTEMPTS'] = player_data['FIELD_GOAL_ATTEMPTS'] - player_data['THREE_POINT_ATTEMPTS']\n",
    "\n",
    "# Calculate two-point percentage\n",
    "player_data['TWO_POINT_PERCENTAGE'] = (player_data['TWO_POINTS_MADE'] / player_data['TWO_POINT_ATTEMPTS']) * 100\n",
    "\n",
    "player_data.dtypes"
   ]
  },
  {
   "cell_type": "markdown",
   "id": "bda5015c-d25e-4ef7-9695-79b48a94f4c8",
   "metadata": {},
   "source": [
    "## Extract Conference from Team Name"
   ]
  },
  {
   "cell_type": "code",
   "execution_count": 5,
   "id": "fe97ade3-ed67-4132-b975-54598854cd7c",
   "metadata": {
    "execution": {
     "iopub.execute_input": "2024-06-06T18:24:53.232239Z",
     "iopub.status.busy": "2024-06-06T18:24:53.231911Z",
     "iopub.status.idle": "2024-06-06T18:24:53.242253Z",
     "shell.execute_reply": "2024-06-06T18:24:53.241779Z",
     "shell.execute_reply.started": "2024-06-06T18:24:53.232208Z"
    },
    "tags": []
   },
   "outputs": [
    {
     "data": {
      "text/html": [
       "<div>\n",
       "<style scoped>\n",
       "    .dataframe tbody tr th:only-of-type {\n",
       "        vertical-align: middle;\n",
       "    }\n",
       "\n",
       "    .dataframe tbody tr th {\n",
       "        vertical-align: top;\n",
       "    }\n",
       "\n",
       "    .dataframe thead th {\n",
       "        text-align: right;\n",
       "    }\n",
       "</style>\n",
       "<table border=\"1\" class=\"dataframe\">\n",
       "  <thead>\n",
       "    <tr style=\"text-align: right;\">\n",
       "      <th></th>\n",
       "      <th>TEAM_NAME</th>\n",
       "      <th>Team</th>\n",
       "    </tr>\n",
       "  </thead>\n",
       "  <tbody>\n",
       "    <tr>\n",
       "      <th>896</th>\n",
       "      <td>Tulane</td>\n",
       "      <td>Tulane (AAC)</td>\n",
       "    </tr>\n",
       "    <tr>\n",
       "      <th>686</th>\n",
       "      <td>Coastal Car.</td>\n",
       "      <td>Coastal Carolina (Sun Belt)</td>\n",
       "    </tr>\n",
       "    <tr>\n",
       "      <th>309</th>\n",
       "      <td>Tulsa</td>\n",
       "      <td>Tulsa (AAC)</td>\n",
       "    </tr>\n",
       "    <tr>\n",
       "      <th>703</th>\n",
       "      <td>Houston Christian</td>\n",
       "      <td>Houston Christian (Southland)</td>\n",
       "    </tr>\n",
       "    <tr>\n",
       "      <th>823</th>\n",
       "      <td>Abilene Christian</td>\n",
       "      <td>Abilene Christian (WAC)</td>\n",
       "    </tr>\n",
       "    <tr>\n",
       "      <th>139</th>\n",
       "      <td>USC</td>\n",
       "      <td>Southern California (Pac-12)</td>\n",
       "    </tr>\n",
       "    <tr>\n",
       "      <th>863</th>\n",
       "      <td>South Dakota</td>\n",
       "      <td>South Dakota (Summit League)</td>\n",
       "    </tr>\n",
       "    <tr>\n",
       "      <th>489</th>\n",
       "      <td>Western Ill.</td>\n",
       "      <td>Western Ill. (OVC)</td>\n",
       "    </tr>\n",
       "    <tr>\n",
       "      <th>817</th>\n",
       "      <td>Oral Roberts</td>\n",
       "      <td>Oral Roberts (Summit League)</td>\n",
       "    </tr>\n",
       "    <tr>\n",
       "      <th>130</th>\n",
       "      <td>Tulane</td>\n",
       "      <td>Tulane (AAC)</td>\n",
       "    </tr>\n",
       "  </tbody>\n",
       "</table>\n",
       "</div>"
      ],
      "text/plain": [
       "             TEAM_NAME                            Team\n",
       "896             Tulane                    Tulane (AAC)\n",
       "686       Coastal Car.     Coastal Carolina (Sun Belt)\n",
       "309              Tulsa                     Tulsa (AAC)\n",
       "703  Houston Christian   Houston Christian (Southland)\n",
       "823  Abilene Christian         Abilene Christian (WAC)\n",
       "139                USC    Southern California (Pac-12)\n",
       "863       South Dakota    South Dakota (Summit League)\n",
       "489       Western Ill.              Western Ill. (OVC)\n",
       "817       Oral Roberts    Oral Roberts (Summit League)\n",
       "130             Tulane                    Tulane (AAC)"
      ]
     },
     "execution_count": 5,
     "metadata": {},
     "output_type": "execute_result"
    }
   ],
   "source": [
    "player_data[['TEAM_NAME', 'Team']].sample(10)"
   ]
  },
  {
   "cell_type": "code",
   "execution_count": 6,
   "id": "5926d772-e00f-4ef1-a71c-57314bdb9021",
   "metadata": {
    "execution": {
     "iopub.execute_input": "2024-06-06T18:24:58.706349Z",
     "iopub.status.busy": "2024-06-06T18:24:58.705916Z",
     "iopub.status.idle": "2024-06-06T18:24:58.717879Z",
     "shell.execute_reply": "2024-06-06T18:24:58.717339Z",
     "shell.execute_reply.started": "2024-06-06T18:24:58.706320Z"
    },
    "tags": []
   },
   "outputs": [
    {
     "data": {
      "text/plain": [
       "0      Mountain West\n",
       "1                SEC\n",
       "2            Big Sky\n",
       "3      Mountain West\n",
       "4                ACC\n",
       "           ...      \n",
       "895             MAAC\n",
       "896              AAC\n",
       "897            SoCon\n",
       "898             SWAC\n",
       "899             ASUN\n",
       "Name: 0, Length: 900, dtype: object"
      ]
     },
     "execution_count": 6,
     "metadata": {},
     "output_type": "execute_result"
    }
   ],
   "source": [
    "player_data['Team'].str.split('\\(', expand=True)[1].str.split('\\)', expand=True)[0]"
   ]
  },
  {
   "cell_type": "code",
   "execution_count": 7,
   "id": "dcc808bf-a026-427a-95e0-28dba80fc356",
   "metadata": {
    "execution": {
     "iopub.execute_input": "2024-06-06T18:25:07.520809Z",
     "iopub.status.busy": "2024-06-06T18:25:07.519952Z",
     "iopub.status.idle": "2024-06-06T18:25:07.530761Z",
     "shell.execute_reply": "2024-06-06T18:25:07.529667Z",
     "shell.execute_reply.started": "2024-06-06T18:25:07.520755Z"
    },
    "tags": []
   },
   "outputs": [
    {
     "data": {
      "text/plain": [
       "125       LMU (CA) (WCC)\n",
       "824     Miami (FL) (ACC)\n",
       "Name: Team, dtype: object"
      ]
     },
     "execution_count": 7,
     "metadata": {},
     "output_type": "execute_result"
    }
   ],
   "source": [
    "player_data.loc[[125, 824], 'Team']"
   ]
  },
  {
   "cell_type": "code",
   "execution_count": 8,
   "id": "ed0907f1-4602-4ffa-9092-1a58f6c2b825",
   "metadata": {
    "execution": {
     "iopub.execute_input": "2024-06-06T18:25:13.679474Z",
     "iopub.status.busy": "2024-06-06T18:25:13.678791Z",
     "iopub.status.idle": "2024-06-06T18:25:13.696961Z",
     "shell.execute_reply": "2024-06-06T18:25:13.695813Z",
     "shell.execute_reply.started": "2024-06-06T18:25:13.679421Z"
    },
    "tags": []
   },
   "outputs": [
    {
     "data": {
      "text/plain": [
       "125    CA\n",
       "824    FL\n",
       "Name: 0, dtype: object"
      ]
     },
     "execution_count": 8,
     "metadata": {},
     "output_type": "execute_result"
    }
   ],
   "source": [
    "player_data['Team'].str.split('\\(', expand=True)[1].str.split('\\)', expand=True)[0].iloc[[125, 824]]"
   ]
  },
  {
   "cell_type": "code",
   "execution_count": 9,
   "id": "4df404fd-fb86-4139-9469-fa8ab318acb9",
   "metadata": {
    "execution": {
     "iopub.execute_input": "2024-06-06T18:25:19.203874Z",
     "iopub.status.busy": "2024-06-06T18:25:19.203019Z",
     "iopub.status.idle": "2024-06-06T18:25:19.221381Z",
     "shell.execute_reply": "2024-06-06T18:25:19.220454Z",
     "shell.execute_reply.started": "2024-06-06T18:25:19.203821Z"
    },
    "tags": []
   },
   "outputs": [
    {
     "data": {
      "text/html": [
       "<div>\n",
       "<style scoped>\n",
       "    .dataframe tbody tr th:only-of-type {\n",
       "        vertical-align: middle;\n",
       "    }\n",
       "\n",
       "    .dataframe tbody tr th {\n",
       "        vertical-align: top;\n",
       "    }\n",
       "\n",
       "    .dataframe thead th {\n",
       "        text-align: right;\n",
       "    }\n",
       "</style>\n",
       "<table border=\"1\" class=\"dataframe\">\n",
       "  <thead>\n",
       "    <tr style=\"text-align: right;\">\n",
       "      <th></th>\n",
       "      <th>0</th>\n",
       "    </tr>\n",
       "  </thead>\n",
       "  <tbody>\n",
       "    <tr>\n",
       "      <th>0</th>\n",
       "      <td>Mountain West</td>\n",
       "    </tr>\n",
       "    <tr>\n",
       "      <th>1</th>\n",
       "      <td>SEC</td>\n",
       "    </tr>\n",
       "    <tr>\n",
       "      <th>2</th>\n",
       "      <td>Big Sky</td>\n",
       "    </tr>\n",
       "    <tr>\n",
       "      <th>3</th>\n",
       "      <td>Mountain West</td>\n",
       "    </tr>\n",
       "    <tr>\n",
       "      <th>4</th>\n",
       "      <td>ACC</td>\n",
       "    </tr>\n",
       "    <tr>\n",
       "      <th>...</th>\n",
       "      <td>...</td>\n",
       "    </tr>\n",
       "    <tr>\n",
       "      <th>895</th>\n",
       "      <td>MAAC</td>\n",
       "    </tr>\n",
       "    <tr>\n",
       "      <th>896</th>\n",
       "      <td>AAC</td>\n",
       "    </tr>\n",
       "    <tr>\n",
       "      <th>897</th>\n",
       "      <td>SoCon</td>\n",
       "    </tr>\n",
       "    <tr>\n",
       "      <th>898</th>\n",
       "      <td>SWAC</td>\n",
       "    </tr>\n",
       "    <tr>\n",
       "      <th>899</th>\n",
       "      <td>ASUN</td>\n",
       "    </tr>\n",
       "  </tbody>\n",
       "</table>\n",
       "<p>900 rows × 1 columns</p>\n",
       "</div>"
      ],
      "text/plain": [
       "                 0\n",
       "0    Mountain West\n",
       "1              SEC\n",
       "2          Big Sky\n",
       "3    Mountain West\n",
       "4              ACC\n",
       "..             ...\n",
       "895           MAAC\n",
       "896            AAC\n",
       "897          SoCon\n",
       "898           SWAC\n",
       "899           ASUN\n",
       "\n",
       "[900 rows x 1 columns]"
      ]
     },
     "execution_count": 9,
     "metadata": {},
     "output_type": "execute_result"
    }
   ],
   "source": [
    "player_data['Team'].str.extract(r'\\(([^)]+)\\)$')"
   ]
  },
  {
   "cell_type": "code",
   "execution_count": 10,
   "id": "d49d3107-5dd6-4c39-b40e-406eedda9190",
   "metadata": {
    "execution": {
     "iopub.execute_input": "2024-06-06T18:25:31.653480Z",
     "iopub.status.busy": "2024-06-06T18:25:31.652794Z",
     "iopub.status.idle": "2024-06-06T18:25:31.669125Z",
     "shell.execute_reply": "2024-06-06T18:25:31.668255Z",
     "shell.execute_reply.started": "2024-06-06T18:25:31.653427Z"
    },
    "tags": []
   },
   "outputs": [
    {
     "data": {
      "text/html": [
       "<div>\n",
       "<style scoped>\n",
       "    .dataframe tbody tr th:only-of-type {\n",
       "        vertical-align: middle;\n",
       "    }\n",
       "\n",
       "    .dataframe tbody tr th {\n",
       "        vertical-align: top;\n",
       "    }\n",
       "\n",
       "    .dataframe thead th {\n",
       "        text-align: right;\n",
       "    }\n",
       "</style>\n",
       "<table border=\"1\" class=\"dataframe\">\n",
       "  <thead>\n",
       "    <tr style=\"text-align: right;\">\n",
       "      <th></th>\n",
       "      <th>0</th>\n",
       "    </tr>\n",
       "  </thead>\n",
       "  <tbody>\n",
       "    <tr>\n",
       "      <th>125</th>\n",
       "      <td>WCC</td>\n",
       "    </tr>\n",
       "    <tr>\n",
       "      <th>824</th>\n",
       "      <td>ACC</td>\n",
       "    </tr>\n",
       "  </tbody>\n",
       "</table>\n",
       "</div>"
      ],
      "text/plain": [
       "       0\n",
       "125  WCC\n",
       "824  ACC"
      ]
     },
     "execution_count": 10,
     "metadata": {},
     "output_type": "execute_result"
    }
   ],
   "source": [
    "player_data['Team'].str.extract(r'\\(([^)]+)\\)$').iloc[[125, 824]]"
   ]
  },
  {
   "cell_type": "code",
   "execution_count": 11,
   "id": "5d052b0c-b1d0-4372-9afa-89b0a6c65144",
   "metadata": {
    "execution": {
     "iopub.execute_input": "2024-06-06T18:25:38.449450Z",
     "iopub.status.busy": "2024-06-06T18:25:38.448760Z",
     "iopub.status.idle": "2024-06-06T18:25:38.459060Z",
     "shell.execute_reply": "2024-06-06T18:25:38.458223Z",
     "shell.execute_reply.started": "2024-06-06T18:25:38.449397Z"
    },
    "tags": []
   },
   "outputs": [],
   "source": [
    "player_data['Conference'] = player_data['Team'].str.extract(r'\\(([^)]+)\\)$')"
   ]
  },
  {
   "cell_type": "code",
   "execution_count": 12,
   "id": "2426c1c5-9ab5-493b-9eaa-c5e7580ba9c8",
   "metadata": {
    "execution": {
     "iopub.execute_input": "2024-06-06T18:25:44.905528Z",
     "iopub.status.busy": "2024-06-06T18:25:44.905078Z",
     "iopub.status.idle": "2024-06-06T18:25:44.911261Z",
     "shell.execute_reply": "2024-06-06T18:25:44.910813Z",
     "shell.execute_reply.started": "2024-06-06T18:25:44.905497Z"
    },
    "tags": []
   },
   "outputs": [
    {
     "data": {
      "text/plain": [
       "['AAC',\n",
       " 'ACC',\n",
       " 'ASUN',\n",
       " 'America East',\n",
       " 'Atlantic 10',\n",
       " 'Big 12',\n",
       " 'Big East',\n",
       " 'Big Sky',\n",
       " 'Big South',\n",
       " 'Big Ten',\n",
       " 'Big West',\n",
       " 'CAA',\n",
       " 'CUSA',\n",
       " 'DI Independent',\n",
       " 'Horizon',\n",
       " 'Ivy League',\n",
       " 'MAAC',\n",
       " 'MAC',\n",
       " 'MEAC',\n",
       " 'MVC',\n",
       " 'Mountain West',\n",
       " 'NEC',\n",
       " 'OVC',\n",
       " 'Pac-12',\n",
       " 'Patriot',\n",
       " 'SEC',\n",
       " 'SWAC',\n",
       " 'SoCon',\n",
       " 'Southland',\n",
       " 'Summit League',\n",
       " 'Sun Belt',\n",
       " 'WAC',\n",
       " 'WCC']"
      ]
     },
     "execution_count": 12,
     "metadata": {},
     "output_type": "execute_result"
    }
   ],
   "source": [
    "sorted(player_data['Conference'].unique())"
   ]
  },
  {
   "cell_type": "markdown",
   "id": "da9ba3d6-9865-4e93-a328-6fea6ebb68d3",
   "metadata": {},
   "source": [
    "## Calculate per-Game Metrics"
   ]
  },
  {
   "cell_type": "code",
   "execution_count": 13,
   "id": "69af9a61-1d96-46ca-9d52-2ec2e35afc01",
   "metadata": {
    "execution": {
     "iopub.execute_input": "2024-06-06T18:26:11.284637Z",
     "iopub.status.busy": "2024-06-06T18:26:11.283719Z",
     "iopub.status.idle": "2024-06-06T18:26:11.318810Z",
     "shell.execute_reply": "2024-06-06T18:26:11.317999Z",
     "shell.execute_reply.started": "2024-06-06T18:26:11.284550Z"
    },
    "tags": []
   },
   "outputs": [
    {
     "data": {
      "text/html": [
       "<div>\n",
       "<style scoped>\n",
       "    .dataframe tbody tr th:only-of-type {\n",
       "        vertical-align: middle;\n",
       "    }\n",
       "\n",
       "    .dataframe tbody tr th {\n",
       "        vertical-align: top;\n",
       "    }\n",
       "\n",
       "    .dataframe thead th {\n",
       "        text-align: right;\n",
       "    }\n",
       "</style>\n",
       "<table border=\"1\" class=\"dataframe\">\n",
       "  <thead>\n",
       "    <tr style=\"text-align: right;\">\n",
       "      <th></th>\n",
       "      <th>PLAYER_NAME</th>\n",
       "      <th>MINUTES_PER_GAME</th>\n",
       "      <th>FOULS_PER_GAME</th>\n",
       "      <th>POINTS_PER_GAME</th>\n",
       "      <th>ASSISTS_PER_GAME</th>\n",
       "      <th>STEALS_PER_GAME</th>\n",
       "      <th>BLOCKS_PER_GAME</th>\n",
       "      <th>REBOUNDS_PER_GAME</th>\n",
       "    </tr>\n",
       "  </thead>\n",
       "  <tbody>\n",
       "    <tr>\n",
       "      <th>68</th>\n",
       "      <td>Jeanae Terry</td>\n",
       "      <td>30.096774</td>\n",
       "      <td>2.419355</td>\n",
       "      <td>5.161290</td>\n",
       "      <td>6.064516</td>\n",
       "      <td>1.935484</td>\n",
       "      <td>0.387097</td>\n",
       "      <td>8.258065</td>\n",
       "    </tr>\n",
       "    <tr>\n",
       "      <th>342</th>\n",
       "      <td>Maori Davenport</td>\n",
       "      <td>16.518519</td>\n",
       "      <td>2.148148</td>\n",
       "      <td>4.962963</td>\n",
       "      <td>0.703704</td>\n",
       "      <td>1.111111</td>\n",
       "      <td>1.333333</td>\n",
       "      <td>5.777778</td>\n",
       "    </tr>\n",
       "    <tr>\n",
       "      <th>94</th>\n",
       "      <td>Izzy Higginbottom</td>\n",
       "      <td>37.192308</td>\n",
       "      <td>1.500000</td>\n",
       "      <td>22.192308</td>\n",
       "      <td>3.653846</td>\n",
       "      <td>1.346154</td>\n",
       "      <td>0.153846</td>\n",
       "      <td>4.038462</td>\n",
       "    </tr>\n",
       "    <tr>\n",
       "      <th>80</th>\n",
       "      <td>Ivy Turner</td>\n",
       "      <td>31.870968</td>\n",
       "      <td>0.903226</td>\n",
       "      <td>10.935484</td>\n",
       "      <td>3.322581</td>\n",
       "      <td>1.451613</td>\n",
       "      <td>0.000000</td>\n",
       "      <td>3.806452</td>\n",
       "    </tr>\n",
       "    <tr>\n",
       "      <th>185</th>\n",
       "      <td>Maraja Pass</td>\n",
       "      <td>26.344828</td>\n",
       "      <td>2.241379</td>\n",
       "      <td>8.827586</td>\n",
       "      <td>3.724138</td>\n",
       "      <td>1.344828</td>\n",
       "      <td>0.068966</td>\n",
       "      <td>4.172414</td>\n",
       "    </tr>\n",
       "  </tbody>\n",
       "</table>\n",
       "</div>"
      ],
      "text/plain": [
       "           PLAYER_NAME  MINUTES_PER_GAME  FOULS_PER_GAME  POINTS_PER_GAME  \\\n",
       "68        Jeanae Terry         30.096774        2.419355         5.161290   \n",
       "342    Maori Davenport         16.518519        2.148148         4.962963   \n",
       "94   Izzy Higginbottom         37.192308        1.500000        22.192308   \n",
       "80          Ivy Turner         31.870968        0.903226        10.935484   \n",
       "185        Maraja Pass         26.344828        2.241379         8.827586   \n",
       "\n",
       "     ASSISTS_PER_GAME  STEALS_PER_GAME  BLOCKS_PER_GAME  REBOUNDS_PER_GAME  \n",
       "68           6.064516         1.935484         0.387097           8.258065  \n",
       "342          0.703704         1.111111         1.333333           5.777778  \n",
       "94           3.653846         1.346154         0.153846           4.038462  \n",
       "80           3.322581         1.451613         0.000000           3.806452  \n",
       "185          3.724138         1.344828         0.068966           4.172414  "
      ]
     },
     "execution_count": 13,
     "metadata": {},
     "output_type": "execute_result"
    }
   ],
   "source": [
    "player_data['MINUTES_PER_GAME'] = player_data['MINUTES_PLAYED'] / player_data['GAMES']\n",
    "player_data['FOULS_PER_GAME'] = player_data['FOULS'] / player_data['GAMES']\n",
    "player_data['POINTS_PER_GAME'] = player_data['POINTS'] / player_data['GAMES']\n",
    "player_data['ASSISTS_PER_GAME'] = player_data['ASSISTS'] / player_data['GAMES']\n",
    "player_data['STEALS_PER_GAME'] = player_data['STEALS'] / player_data['GAMES']\n",
    "player_data['BLOCKS_PER_GAME'] = player_data['BLOCKS'] / player_data['GAMES']\n",
    "player_data['REBOUNDS_PER_GAME'] = player_data['TOTAL_REBOUNDS'] / player_data['GAMES']\n",
    "\n",
    "player_data[['PLAYER_NAME', 'MINUTES_PER_GAME', 'FOULS_PER_GAME', 'POINTS_PER_GAME', 'ASSISTS_PER_GAME', 'STEALS_PER_GAME', 'BLOCKS_PER_GAME', 'REBOUNDS_PER_GAME']].sample(5)"
   ]
  },
  {
   "cell_type": "markdown",
   "id": "ed35a20a-f037-4d71-b9d7-14b9dd78dbad",
   "metadata": {},
   "source": [
    "## Calculate Assist-to-Turnover Ratio"
   ]
  },
  {
   "cell_type": "code",
   "execution_count": 14,
   "id": "dc7ed61e-9d9d-4602-8897-9c44a528db30",
   "metadata": {
    "execution": {
     "iopub.execute_input": "2024-06-06T18:26:29.359847Z",
     "iopub.status.busy": "2024-06-06T18:26:29.359216Z",
     "iopub.status.idle": "2024-06-06T18:26:29.377773Z",
     "shell.execute_reply": "2024-06-06T18:26:29.376933Z",
     "shell.execute_reply.started": "2024-06-06T18:26:29.359795Z"
    },
    "tags": []
   },
   "outputs": [
    {
     "data": {
      "text/html": [
       "<div>\n",
       "<style scoped>\n",
       "    .dataframe tbody tr th:only-of-type {\n",
       "        vertical-align: middle;\n",
       "    }\n",
       "\n",
       "    .dataframe tbody tr th {\n",
       "        vertical-align: top;\n",
       "    }\n",
       "\n",
       "    .dataframe thead th {\n",
       "        text-align: right;\n",
       "    }\n",
       "</style>\n",
       "<table border=\"1\" class=\"dataframe\">\n",
       "  <thead>\n",
       "    <tr style=\"text-align: right;\">\n",
       "      <th></th>\n",
       "      <th>PLAYER_NAME</th>\n",
       "      <th>ASSISTS</th>\n",
       "      <th>TURNOVERS</th>\n",
       "      <th>ASSIST_TO_TURNOVER</th>\n",
       "    </tr>\n",
       "  </thead>\n",
       "  <tbody>\n",
       "    <tr>\n",
       "      <th>158</th>\n",
       "      <td>Silvia Nativi</td>\n",
       "      <td>104</td>\n",
       "      <td>76</td>\n",
       "      <td>1.368421</td>\n",
       "    </tr>\n",
       "    <tr>\n",
       "      <th>795</th>\n",
       "      <td>CC Mays</td>\n",
       "      <td>37</td>\n",
       "      <td>52</td>\n",
       "      <td>0.711538</td>\n",
       "    </tr>\n",
       "    <tr>\n",
       "      <th>893</th>\n",
       "      <td>Salma Bates</td>\n",
       "      <td>81</td>\n",
       "      <td>50</td>\n",
       "      <td>1.620000</td>\n",
       "    </tr>\n",
       "    <tr>\n",
       "      <th>118</th>\n",
       "      <td>Reagan Bradley</td>\n",
       "      <td>117</td>\n",
       "      <td>73</td>\n",
       "      <td>1.602740</td>\n",
       "    </tr>\n",
       "    <tr>\n",
       "      <th>189</th>\n",
       "      <td>Sonia Smith</td>\n",
       "      <td>85</td>\n",
       "      <td>67</td>\n",
       "      <td>1.268657</td>\n",
       "    </tr>\n",
       "  </tbody>\n",
       "</table>\n",
       "</div>"
      ],
      "text/plain": [
       "        PLAYER_NAME  ASSISTS  TURNOVERS  ASSIST_TO_TURNOVER\n",
       "158   Silvia Nativi      104         76            1.368421\n",
       "795         CC Mays       37         52            0.711538\n",
       "893     Salma Bates       81         50            1.620000\n",
       "118  Reagan Bradley      117         73            1.602740\n",
       "189     Sonia Smith       85         67            1.268657"
      ]
     },
     "execution_count": 14,
     "metadata": {},
     "output_type": "execute_result"
    }
   ],
   "source": [
    "player_data['ASSIST_TO_TURNOVER'] = player_data['ASSISTS'] / player_data['TURNOVERS']\n",
    "\n",
    "player_data[['PLAYER_NAME', 'ASSISTS', 'TURNOVERS', 'ASSIST_TO_TURNOVER']].sample(5)"
   ]
  },
  {
   "cell_type": "markdown",
   "id": "9b5ecd5b-3d9d-459b-bad5-8a049054b28c",
   "metadata": {},
   "source": [
    "## Calculate Fantasy Points"
   ]
  },
  {
   "cell_type": "code",
   "execution_count": 15,
   "id": "b95662ae-4d82-4f67-a537-217b1177236c",
   "metadata": {
    "execution": {
     "iopub.execute_input": "2024-06-06T18:26:54.506763Z",
     "iopub.status.busy": "2024-06-06T18:26:54.506355Z",
     "iopub.status.idle": "2024-06-06T18:26:54.522241Z",
     "shell.execute_reply": "2024-06-06T18:26:54.521633Z",
     "shell.execute_reply.started": "2024-06-06T18:26:54.506732Z"
    },
    "tags": []
   },
   "outputs": [
    {
     "data": {
      "text/html": [
       "<div>\n",
       "<style scoped>\n",
       "    .dataframe tbody tr th:only-of-type {\n",
       "        vertical-align: middle;\n",
       "    }\n",
       "\n",
       "    .dataframe tbody tr th {\n",
       "        vertical-align: top;\n",
       "    }\n",
       "\n",
       "    .dataframe thead th {\n",
       "        text-align: right;\n",
       "    }\n",
       "</style>\n",
       "<table border=\"1\" class=\"dataframe\">\n",
       "  <thead>\n",
       "    <tr style=\"text-align: right;\">\n",
       "      <th></th>\n",
       "      <th>PLAYER_NAME</th>\n",
       "      <th>FANTASY_POINTS</th>\n",
       "    </tr>\n",
       "  </thead>\n",
       "  <tbody>\n",
       "    <tr>\n",
       "      <th>70</th>\n",
       "      <td>Nitzan Amar</td>\n",
       "      <td>473.9</td>\n",
       "    </tr>\n",
       "    <tr>\n",
       "      <th>567</th>\n",
       "      <td>Nyah Wilson</td>\n",
       "      <td>756.9</td>\n",
       "    </tr>\n",
       "    <tr>\n",
       "      <th>13</th>\n",
       "      <td>Lauren Park-Lane</td>\n",
       "      <td>681.5</td>\n",
       "    </tr>\n",
       "    <tr>\n",
       "      <th>269</th>\n",
       "      <td>Essence Cody</td>\n",
       "      <td>618.7</td>\n",
       "    </tr>\n",
       "    <tr>\n",
       "      <th>292</th>\n",
       "      <td>Jaida Belton</td>\n",
       "      <td>565.9</td>\n",
       "    </tr>\n",
       "  </tbody>\n",
       "</table>\n",
       "</div>"
      ],
      "text/plain": [
       "          PLAYER_NAME  FANTASY_POINTS\n",
       "70        Nitzan Amar           473.9\n",
       "567       Nyah Wilson           756.9\n",
       "13   Lauren Park-Lane           681.5\n",
       "269      Essence Cody           618.7\n",
       "292      Jaida Belton           565.9"
      ]
     },
     "execution_count": 15,
     "metadata": {},
     "output_type": "execute_result"
    }
   ],
   "source": [
    "player_data['FANTASY_POINTS'] = (player_data['THREE_POINTS_MADE'] * 3) + \\\n",
    "                                (player_data['TWO_POINTS_MADE'] * 2) + \\\n",
    "                                (player_data['FREE_THROWS_MADE'] * 1) + \\\n",
    "                                (player_data['TOTAL_REBOUNDS'] * 1.2) + \\\n",
    "                                (player_data['ASSISTS'] * 1.5) + \\\n",
    "                                (player_data['BLOCKS'] * 2) + \\\n",
    "                                (player_data['STEALS'] * 2) + \\\n",
    "                                (player_data['TURNOVERS'] * -1)\n",
    "\n",
    "player_data[['PLAYER_NAME', 'FANTASY_POINTS']].sample(5)"
   ]
  },
  {
   "cell_type": "markdown",
   "id": "dc8b8d3b-5630-4d40-aaa2-da0b255d5e48",
   "metadata": {},
   "source": [
    "# Wrap Up"
   ]
  },
  {
   "cell_type": "code",
   "execution_count": 16,
   "id": "f048f047-959e-44dd-91a4-22f05fd1de48",
   "metadata": {
    "execution": {
     "iopub.execute_input": "2024-06-06T18:27:17.980796Z",
     "iopub.status.busy": "2024-06-06T18:27:17.980102Z",
     "iopub.status.idle": "2024-06-06T18:27:17.991002Z",
     "shell.execute_reply": "2024-06-06T18:27:17.989984Z",
     "shell.execute_reply.started": "2024-06-06T18:27:17.980745Z"
    },
    "tags": []
   },
   "outputs": [
    {
     "data": {
      "text/plain": [
       "PLAYER_NAME                object\n",
       "Team                       object\n",
       "Class                      object\n",
       "Height                      int64\n",
       "Position                   object\n",
       "PLAYER_ID                  object\n",
       "TEAM_NAME                  object\n",
       "GAMES                       int64\n",
       "MINUTES_PLAYED              int64\n",
       "FIELD_GOALS_MADE            int64\n",
       "FIELD_GOAL_ATTEMPTS         int64\n",
       "FIELD_GOAL_PERCENTAGE     float64\n",
       "THREE_POINTS_MADE           int64\n",
       "THREE_POINT_ATTEMPTS        int64\n",
       "THREE_POINT_PERCENTAGE    float64\n",
       "FREE_THROWS_MADE            int64\n",
       "FREE_THROW_ATTEMPTS         int64\n",
       "FREE_THROW_PERCENTAGE     float64\n",
       "OFFENSIVE_REBOUNDS          int64\n",
       "DEFENSIVE_REBOUNDS          int64\n",
       "TOTAL_REBOUNDS              int64\n",
       "ASSISTS                     int64\n",
       "TURNOVERS                   int64\n",
       "STEALS                      int64\n",
       "BLOCKS                      int64\n",
       "FOULS                       int64\n",
       "POINTS                      int64\n",
       "TWO_POINTS_MADE             int64\n",
       "TWO_POINT_ATTEMPTS          int64\n",
       "TWO_POINT_PERCENTAGE      float64\n",
       "Conference                 object\n",
       "MINUTES_PER_GAME          float64\n",
       "FOULS_PER_GAME            float64\n",
       "POINTS_PER_GAME           float64\n",
       "ASSISTS_PER_GAME          float64\n",
       "STEALS_PER_GAME           float64\n",
       "BLOCKS_PER_GAME           float64\n",
       "REBOUNDS_PER_GAME         float64\n",
       "ASSIST_TO_TURNOVER        float64\n",
       "FANTASY_POINTS            float64\n",
       "dtype: object"
      ]
     },
     "execution_count": 16,
     "metadata": {},
     "output_type": "execute_result"
    }
   ],
   "source": [
    "player_data.dtypes"
   ]
  },
  {
   "cell_type": "code",
   "execution_count": 17,
   "id": "12d920d6-3145-4510-8a76-8b5a75cf0b85",
   "metadata": {
    "execution": {
     "iopub.execute_input": "2024-06-06T18:27:24.980378Z",
     "iopub.status.busy": "2024-06-06T18:27:24.979834Z",
     "iopub.status.idle": "2024-06-06T18:27:25.811242Z",
     "shell.execute_reply": "2024-06-06T18:27:25.810739Z",
     "shell.execute_reply.started": "2024-06-06T18:27:24.980337Z"
    },
    "tags": []
   },
   "outputs": [],
   "source": [
    "player_data.to_excel('player_data_engineered.xlsx', index=False)"
   ]
  }
 ],
 "metadata": {
  "kernelspec": {
   "display_name": "Python 3 (ipykernel)",
   "language": "python",
   "name": "python3"
  },
  "language_info": {
   "codemirror_mode": {
    "name": "ipython",
    "version": 3
   },
   "file_extension": ".py",
   "mimetype": "text/x-python",
   "name": "python",
   "nbconvert_exporter": "python",
   "pygments_lexer": "ipython3",
   "version": "3.10.12"
  }
 },
 "nbformat": 4,
 "nbformat_minor": 5
}
