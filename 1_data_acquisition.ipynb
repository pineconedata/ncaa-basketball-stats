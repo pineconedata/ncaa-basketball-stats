{
 "cells": [
  {
   "cell_type": "markdown",
   "id": "8fd1a447-7a77-4bc9-9bf1-9badf92d3e63",
   "metadata": {},
   "source": [
    "# Outlier or Catilin Clark? A Data Science Project\n",
    "## Part 1 - Project Setup and Data Acquisition\n",
    "\n",
    "This notebook contains the code for the first part of this data science project - data acquisition. Section headings have been included for convenience and the full writeup is available [on my website](https://www.pineconedata.com/2024-04-11-basketball-data-acquisition/).\n",
    "\n",
    "In summary, there will be a notebook (and post) for each part of the process - from initial steps like data acquisition, preprocessing, and cleaning to more advanced steps like feature engineering, machine learning, and creating visualizations. The dataset used in this project contains individual basketball player statistics (such as total points scored and blocks made) for the 2023-2024 NCAA women’s basketball season."
   ]
  },
  {
   "cell_type": "markdown",
   "id": "3c4870b5-b713-46c8-8f2a-050b69432f47",
   "metadata": {},
   "source": [
    "# Getting Started\n",
    "Full requirements and environment setup information is detailed in the [full blog post](https://www.pineconedata.com/2024-04-11-basketball-data-acquisition/).\n",
    "\n",
    "## Import Packages"
   ]
  },
  {
   "cell_type": "code",
   "execution_count": 1,
   "id": "e55e7447-540e-43b2-9f03-5883eac7a5c3",
   "metadata": {
    "execution": {
     "iopub.execute_input": "2024-06-05T05:59:45.238560Z",
     "iopub.status.busy": "2024-06-05T05:59:45.237890Z",
     "iopub.status.idle": "2024-06-05T05:59:45.492729Z",
     "shell.execute_reply": "2024-06-05T05:59:45.492233Z",
     "shell.execute_reply.started": "2024-06-05T05:59:45.238534Z"
    },
    "tags": []
   },
   "outputs": [],
   "source": [
    "import pandas as pd\n",
    "import requests\n",
    "import json\n",
    "import os\n",
    "import numpy as np\n",
    "import openpyxl "
   ]
  },
  {
   "cell_type": "markdown",
   "id": "b4b6edd4-58d3-4ca9-b6a3-ef7e5de4f942",
   "metadata": {},
   "source": [
    "# Identifying Datasets\n",
    "1. Player Information Dataset\n",
    "   - This dataset will include player information such as name, height, position, team name, and class. \n",
    "   - To obtain this data, we'll be navigating to the [NCAA website's basketball statistics section](https://web1.ncaa.org/stats/StatsSrv/rankings?doWhat=archive&sportCode=WBB). From there, we selected the desired season, division, and reporting week to access the statistics. After selecting \"All Statistics for Individual,\" we clicked on \"Show report CSV\" to generate and download the dataset in CSV format.\n",
    "\n",
    "2. Player Statistics Dataset\n",
    "   - This dataset will include player statistics and individual results for the latest season, including points scored, field goals made, blocks, steals, assists, etc.\n",
    "   - To obtain this dataset, we'll be making multiple API requests to the [Yahoo Sports API](https://sports.yahoo.com/ncaaw/stats/individual/?selectedTable=0&leagueStructure=ncaaw.struct.div.1&sortStatId=FREE_THROWS_MADE). Each request will pull the top players for a given statistic (such as points, blocks, assists, etc.) and then those results will be combined into one dataset."
   ]
  },
  {
   "cell_type": "markdown",
   "id": "986790d0-6b68-4ae7-b937-98c9fde98b80",
   "metadata": {},
   "source": [
    "# Acquiring Player Information Data\n",
    "Follow the steps in the [full blog post](https://www.pineconedata.com/2024-04-11-basketball-data-acquisition/) if you would like to obtain this data yourself. Otherwise, import the dataset. "
   ]
  },
  {
   "cell_type": "code",
   "execution_count": 3,
   "id": "374a78de-9cec-4570-abc6-d28a91c806e1",
   "metadata": {
    "execution": {
     "iopub.execute_input": "2024-06-05T06:04:00.005267Z",
     "iopub.status.busy": "2024-06-05T06:04:00.004646Z",
     "iopub.status.idle": "2024-06-05T06:04:00.021842Z",
     "shell.execute_reply": "2024-06-05T06:04:00.021437Z",
     "shell.execute_reply.started": "2024-06-05T06:04:00.005230Z"
    },
    "tags": []
   },
   "outputs": [
    {
     "data": {
      "text/html": [
       "<div>\n",
       "<style scoped>\n",
       "    .dataframe tbody tr th:only-of-type {\n",
       "        vertical-align: middle;\n",
       "    }\n",
       "\n",
       "    .dataframe tbody tr th {\n",
       "        vertical-align: top;\n",
       "    }\n",
       "\n",
       "    .dataframe thead th {\n",
       "        text-align: right;\n",
       "    }\n",
       "</style>\n",
       "<table border=\"1\" class=\"dataframe\">\n",
       "  <thead>\n",
       "    <tr style=\"text-align: right;\">\n",
       "      <th></th>\n",
       "      <th>Player</th>\n",
       "      <th>Team</th>\n",
       "      <th>Class</th>\n",
       "      <th>Height</th>\n",
       "      <th>Position</th>\n",
       "    </tr>\n",
       "  </thead>\n",
       "  <tbody>\n",
       "    <tr>\n",
       "      <th>0</th>\n",
       "      <td>Kiara Jackson</td>\n",
       "      <td>UNLV (Mountain West)</td>\n",
       "      <td>Jr.</td>\n",
       "      <td>5-7</td>\n",
       "      <td>G</td>\n",
       "    </tr>\n",
       "    <tr>\n",
       "      <th>1</th>\n",
       "      <td>Raven Johnson</td>\n",
       "      <td>South Carolina (SEC)</td>\n",
       "      <td>So.</td>\n",
       "      <td>5-8</td>\n",
       "      <td>G</td>\n",
       "    </tr>\n",
       "    <tr>\n",
       "      <th>2</th>\n",
       "      <td>Gina Marxen</td>\n",
       "      <td>Montana (Big Sky)</td>\n",
       "      <td>Sr.</td>\n",
       "      <td>5-8</td>\n",
       "      <td>G</td>\n",
       "    </tr>\n",
       "    <tr>\n",
       "      <th>3</th>\n",
       "      <td>McKenna Hofschild</td>\n",
       "      <td>Colorado St. (Mountain West)</td>\n",
       "      <td>Sr.</td>\n",
       "      <td>5-2</td>\n",
       "      <td>G</td>\n",
       "    </tr>\n",
       "    <tr>\n",
       "      <th>4</th>\n",
       "      <td>Kaylah Ivey</td>\n",
       "      <td>Boston College (ACC)</td>\n",
       "      <td>Jr.</td>\n",
       "      <td>5-8</td>\n",
       "      <td>G</td>\n",
       "    </tr>\n",
       "  </tbody>\n",
       "</table>\n",
       "</div>"
      ],
      "text/plain": [
       "              Player                           Team Class Height Position\n",
       "0      Kiara Jackson           UNLV (Mountain West)   Jr.    5-7        G\n",
       "1      Raven Johnson           South Carolina (SEC)   So.    5-8        G\n",
       "2        Gina Marxen              Montana (Big Sky)   Sr.    5-8        G\n",
       "3  McKenna Hofschild   Colorado St. (Mountain West)   Sr.    5-2        G\n",
       "4        Kaylah Ivey           Boston College (ACC)   Jr.    5-8        G"
      ]
     },
     "execution_count": 3,
     "metadata": {},
     "output_type": "execute_result"
    }
   ],
   "source": [
    "player_info = pd.read_csv(\"2024-04-07 NCAA WBB-Div1 Player Info.csv\", encoding='latin1')\n",
    "player_info.head()"
   ]
  },
  {
   "cell_type": "code",
   "execution_count": 4,
   "id": "b290ede7-ea19-4eb7-904c-c6945fa1ffd9",
   "metadata": {
    "execution": {
     "iopub.execute_input": "2024-06-05T06:04:09.373214Z",
     "iopub.status.busy": "2024-06-05T06:04:09.372855Z",
     "iopub.status.idle": "2024-06-05T06:04:09.376083Z",
     "shell.execute_reply": "2024-06-05T06:04:09.375766Z",
     "shell.execute_reply.started": "2024-06-05T06:04:09.373193Z"
    },
    "tags": []
   },
   "outputs": [
    {
     "data": {
      "text/plain": [
       "(1009, 5)"
      ]
     },
     "execution_count": 4,
     "metadata": {},
     "output_type": "execute_result"
    }
   ],
   "source": [
    "player_info.shape"
   ]
  },
  {
   "cell_type": "code",
   "execution_count": 14,
   "id": "9acf71a0-3f70-4634-a2aa-2b941aa7845b",
   "metadata": {
    "execution": {
     "iopub.execute_input": "2024-06-05T06:08:06.549966Z",
     "iopub.status.busy": "2024-06-05T06:08:06.549578Z",
     "iopub.status.idle": "2024-06-05T06:08:06.553039Z",
     "shell.execute_reply": "2024-06-05T06:08:06.552703Z",
     "shell.execute_reply.started": "2024-06-05T06:08:06.549949Z"
    },
    "tags": []
   },
   "outputs": [
    {
     "data": {
      "text/plain": [
       "Index(['Player', 'Team', 'Class', 'Height', 'Position'], dtype='object')"
      ]
     },
     "execution_count": 14,
     "metadata": {},
     "output_type": "execute_result"
    }
   ],
   "source": [
    "player_info.columns"
   ]
  },
  {
   "cell_type": "code",
   "execution_count": 5,
   "id": "b23bf59a-5cfd-4839-8aa7-b896f0d8230e",
   "metadata": {
    "execution": {
     "iopub.execute_input": "2024-06-05T06:04:57.678590Z",
     "iopub.status.busy": "2024-06-05T06:04:57.678260Z",
     "iopub.status.idle": "2024-06-05T06:04:57.751418Z",
     "shell.execute_reply": "2024-06-05T06:04:57.751023Z",
     "shell.execute_reply.started": "2024-06-05T06:04:57.678575Z"
    },
    "tags": []
   },
   "outputs": [],
   "source": [
    "player_info.to_excel('player_info.xlsx', index=False)"
   ]
  },
  {
   "cell_type": "markdown",
   "id": "409704d2-aad9-41d1-b9f7-3a915b38a1f6",
   "metadata": {},
   "source": [
    "# Acquiring Player Statistics Data\n",
    "\n",
    "# Write a Function to Request Data"
   ]
  },
  {
   "cell_type": "code",
   "execution_count": 6,
   "id": "6e713f14-babb-4970-adfe-4d8ccd1a4b1b",
   "metadata": {
    "execution": {
     "iopub.execute_input": "2024-06-05T06:05:49.681130Z",
     "iopub.status.busy": "2024-06-05T06:05:49.680791Z",
     "iopub.status.idle": "2024-06-05T06:05:49.684577Z",
     "shell.execute_reply": "2024-06-05T06:05:49.684246Z",
     "shell.execute_reply.started": "2024-06-05T06:05:49.681115Z"
    },
    "tags": []
   },
   "outputs": [],
   "source": [
    "def get_data_for_stat(stat_name, season='2023', league='ncaaw', count='500'):\n",
    "    \"\"\"\n",
    "    Retrieve basketball player statistics for a specified statistical category (stat_name) for a given season and league.\n",
    "\n",
    "    Parameters:\n",
    "    - stat_name (str): Specifies the statistical category for which data is requested.\n",
    "    - season (str): Specifies the season for which data is requested (default is '2023').\n",
    "    - league (str): Specifies the league for which data is requested (default is 'ncaaw' for NCAA Women's Basketball).\n",
    "    - count (str): Specifies the maximum number of data entries to retrieve (default is '500').\n",
    "\n",
    "    Returns:\n",
    "    - dict: JSON response containing player statistics for the specified statistical category.\n",
    "    \"\"\"\n",
    "    url = \"https://graphite-secure.sports.yahoo.com/v1/query/shangrila/seasonStatsBasketballTotal\"\n",
    "    params = {\n",
    "        'lang': 'en-US',\n",
    "        'region': 'US',\n",
    "        'tz': 'America/New_York',\n",
    "        'ysp_redesign': '1',\n",
    "        'ysp_platform': 'desktop',\n",
    "        'season': season,\n",
    "        'league': league,\n",
    "        'leagueStructure': f'{league}.struct.div.1',\n",
    "        'count': count,\n",
    "        'sortStatId': stat_name,\n",
    "        'positionIds': '',\n",
    "        'qualified': 'FALSE'\n",
    "    }\n",
    "    try:\n",
    "        # Send GET request to the API endpoint with specified parameters\n",
    "        response = requests.get(url, params)\n",
    "        response.raise_for_status()  # Raise exception for 4xx and 5xx status codes\n",
    "        return response.json()\n",
    "    except requests.exceptions.RequestException as e:\n",
    "        # Handle any errors encountered during the API request\n",
    "        print(f'Error requesting data for {stat_name}: {e}')\n",
    "        return None"
   ]
  },
  {
   "cell_type": "code",
   "execution_count": 7,
   "id": "898058d4-ef6c-4a82-8b68-f3693e46b907",
   "metadata": {
    "execution": {
     "iopub.execute_input": "2024-06-05T06:06:00.828522Z",
     "iopub.status.busy": "2024-06-05T06:06:00.828248Z",
     "iopub.status.idle": "2024-06-05T06:06:02.298388Z",
     "shell.execute_reply": "2024-06-05T06:06:02.297820Z",
     "shell.execute_reply.started": "2024-06-05T06:06:00.828503Z"
    },
    "tags": []
   },
   "outputs": [],
   "source": [
    "example_response = get_data_for_stat('POINTS')"
   ]
  },
  {
   "cell_type": "code",
   "execution_count": 8,
   "id": "3a6c0700-b41e-4d93-a739-ae5ea20eb0bb",
   "metadata": {
    "execution": {
     "iopub.execute_input": "2024-06-05T06:06:23.029039Z",
     "iopub.status.busy": "2024-06-05T06:06:23.028515Z",
     "iopub.status.idle": "2024-06-05T06:06:23.032264Z",
     "shell.execute_reply": "2024-06-05T06:06:23.031863Z",
     "shell.execute_reply.started": "2024-06-05T06:06:23.029020Z"
    },
    "tags": []
   },
   "outputs": [
    {
     "data": {
      "text/plain": [
       "dict_keys(['data', 'extensions'])"
      ]
     },
     "execution_count": 8,
     "metadata": {},
     "output_type": "execute_result"
    }
   ],
   "source": [
    "example_response.keys()"
   ]
  },
  {
   "cell_type": "code",
   "execution_count": 9,
   "id": "41bf8f04-b552-4035-adc8-9441737066fa",
   "metadata": {
    "execution": {
     "iopub.execute_input": "2024-06-05T06:06:30.738232Z",
     "iopub.status.busy": "2024-06-05T06:06:30.737749Z",
     "iopub.status.idle": "2024-06-05T06:06:30.742406Z",
     "shell.execute_reply": "2024-06-05T06:06:30.742118Z",
     "shell.execute_reply.started": "2024-06-05T06:06:30.738213Z"
    },
    "tags": []
   },
   "outputs": [
    {
     "data": {
      "text/plain": [
       "[{'statId': 'GAMES',\n",
       "  'displayName': 'Games',\n",
       "  'abbreviation': 'G',\n",
       "  'sortOrder': 'DESCENDING'},\n",
       " {'statId': 'MINUTES_PLAYED',\n",
       "  'displayName': 'Minutes Played',\n",
       "  'abbreviation': 'Min',\n",
       "  'sortOrder': 'DESCENDING'},\n",
       " {'statId': 'FIELD_GOALS_MADE',\n",
       "  'displayName': 'Field Goals Made',\n",
       "  'abbreviation': 'FGM',\n",
       "  'sortOrder': 'DESCENDING'},\n",
       " {'statId': 'FIELD_GOAL_ATTEMPTS',\n",
       "  'displayName': 'Field Goal Attempts',\n",
       "  'abbreviation': 'FGA',\n",
       "  'sortOrder': 'DESCENDING'},\n",
       " {'statId': 'FIELD_GOAL_PERCENTAGE',\n",
       "  'displayName': 'Field Goal Percentage',\n",
       "  'abbreviation': 'FG%',\n",
       "  'sortOrder': 'DESCENDING'},\n",
       " {'statId': 'THREE_POINTS_MADE',\n",
       "  'displayName': 'Three-Points Made',\n",
       "  'abbreviation': '3PM',\n",
       "  'sortOrder': 'DESCENDING'},\n",
       " {'statId': 'THREE_POINT_ATTEMPTS',\n",
       "  'displayName': 'Three-Point Attempts',\n",
       "  'abbreviation': '3PA',\n",
       "  'sortOrder': 'DESCENDING'},\n",
       " {'statId': 'THREE_POINT_PERCENTAGE',\n",
       "  'displayName': 'Three-Point Percentage',\n",
       "  'abbreviation': '3P%',\n",
       "  'sortOrder': 'DESCENDING'},\n",
       " {'statId': 'FREE_THROWS_MADE',\n",
       "  'displayName': 'Free Throws Made',\n",
       "  'abbreviation': 'FTM',\n",
       "  'sortOrder': 'DESCENDING'},\n",
       " {'statId': 'FREE_THROW_ATTEMPTS',\n",
       "  'displayName': 'Free Throw Attempts',\n",
       "  'abbreviation': 'FTA',\n",
       "  'sortOrder': 'DESCENDING'},\n",
       " {'statId': 'FREE_THROW_PERCENTAGE',\n",
       "  'displayName': 'Free Throw Percentage',\n",
       "  'abbreviation': 'FT%',\n",
       "  'sortOrder': 'DESCENDING'},\n",
       " {'statId': 'OFFENSIVE_REBOUNDS',\n",
       "  'displayName': 'Offensive Rebounds',\n",
       "  'abbreviation': 'OR',\n",
       "  'sortOrder': 'DESCENDING'},\n",
       " {'statId': 'DEFENSIVE_REBOUNDS',\n",
       "  'displayName': 'Defensive Rebounds',\n",
       "  'abbreviation': 'DR',\n",
       "  'sortOrder': 'DESCENDING'},\n",
       " {'statId': 'TOTAL_REBOUNDS',\n",
       "  'displayName': 'Total Rebounds',\n",
       "  'abbreviation': 'Reb',\n",
       "  'sortOrder': 'DESCENDING'},\n",
       " {'statId': 'ASSISTS',\n",
       "  'displayName': 'Assists',\n",
       "  'abbreviation': 'Ast',\n",
       "  'sortOrder': 'DESCENDING'},\n",
       " {'statId': 'TURNOVERS',\n",
       "  'displayName': 'Turnovers',\n",
       "  'abbreviation': 'TO',\n",
       "  'sortOrder': 'ASCENDING'},\n",
       " {'statId': 'STEALS',\n",
       "  'displayName': 'Steals',\n",
       "  'abbreviation': 'Stl',\n",
       "  'sortOrder': 'DESCENDING'},\n",
       " {'statId': 'BLOCKS',\n",
       "  'displayName': 'Blocked Shots',\n",
       "  'abbreviation': 'Blk',\n",
       "  'sortOrder': 'DESCENDING'},\n",
       " {'statId': 'FOULS',\n",
       "  'displayName': 'Personal Fouls',\n",
       "  'abbreviation': 'PF',\n",
       "  'sortOrder': 'ASCENDING'},\n",
       " {'statId': 'POINTS',\n",
       "  'displayName': 'Points Scored',\n",
       "  'abbreviation': 'Pts',\n",
       "  'sortOrder': 'DESCENDING'}]"
      ]
     },
     "execution_count": 9,
     "metadata": {},
     "output_type": "execute_result"
    }
   ],
   "source": [
    "example_response['data']['statTypes']"
   ]
  },
  {
   "cell_type": "code",
   "execution_count": 10,
   "id": "af8bf1af-c4a2-4aec-b250-51e76ea5e8fe",
   "metadata": {
    "execution": {
     "iopub.execute_input": "2024-06-05T06:06:40.363834Z",
     "iopub.status.busy": "2024-06-05T06:06:40.363608Z",
     "iopub.status.idle": "2024-06-05T06:06:40.367704Z",
     "shell.execute_reply": "2024-06-05T06:06:40.367406Z",
     "shell.execute_reply.started": "2024-06-05T06:06:40.363819Z"
    },
    "tags": []
   },
   "outputs": [
    {
     "data": {
      "text/plain": [
       "{'player': {'displayName': 'Caitlin Clark',\n",
       "  'playerId': 'ncaaw.p.64550',\n",
       "  'team': {'displayName': 'Iowa',\n",
       "   'abbreviation': 'IOWA',\n",
       "   'teamLogo': {'url': 'https://s.yimg.com/iu/api/res/1.2/c1eT0fjpIOp9jIlg5xiq0w--~B/YXBwaWQ9c2hhcmVkO2ZpPWZpbGw7cT0xMDA7aD0xMjg7dz0xMjg-/https://s.yimg.com/cv/apiv2/default/ncaab/20181211/500x500/Iowa.png',\n",
       "    'height': 128,\n",
       "    'width': 128}},\n",
       "  'alias': {'url': 'https://sports.yahoo.com/ncaaw/players/64550/'},\n",
       "  'playerCutout': None},\n",
       " 'stats': [{'statId': 'GAMES', 'value': '32'},\n",
       "  {'statId': 'MINUTES_PLAYED', 'value': '1088'},\n",
       "  {'statId': 'FIELD_GOALS_MADE', 'value': '332'},\n",
       "  {'statId': 'FIELD_GOAL_ATTEMPTS', 'value': '719'},\n",
       "  {'statId': 'FIELD_GOAL_PERCENTAGE', 'value': '46.2'},\n",
       "  {'statId': 'THREE_POINTS_MADE', 'value': '168'},\n",
       "  {'statId': 'THREE_POINT_ATTEMPTS', 'value': '437'},\n",
       "  {'statId': 'THREE_POINT_PERCENTAGE', 'value': '38.4'},\n",
       "  {'statId': 'FREE_THROWS_MADE', 'value': '188'},\n",
       "  {'statId': 'FREE_THROW_ATTEMPTS', 'value': '219'},\n",
       "  {'statId': 'FREE_THROW_PERCENTAGE', 'value': '85.8'},\n",
       "  {'statId': 'OFFENSIVE_REBOUNDS', 'value': '10'},\n",
       "  {'statId': 'DEFENSIVE_REBOUNDS', 'value': '224'},\n",
       "  {'statId': 'TOTAL_REBOUNDS', 'value': '234'},\n",
       "  {'statId': 'ASSISTS', 'value': '282'},\n",
       "  {'statId': 'TURNOVERS', 'value': '151'},\n",
       "  {'statId': 'STEALS', 'value': '55'},\n",
       "  {'statId': 'BLOCKS', 'value': '17'},\n",
       "  {'statId': 'FOULS', 'value': '61'},\n",
       "  {'statId': 'POINTS', 'value': '1020'}]}"
      ]
     },
     "execution_count": 10,
     "metadata": {},
     "output_type": "execute_result"
    }
   ],
   "source": [
    "example_response['data']['leagues'][0]['leaders'][0]"
   ]
  },
  {
   "cell_type": "markdown",
   "id": "b25b4181-cfce-4be6-aaf1-9369a2e816dc",
   "metadata": {},
   "source": [
    "## Write a Function to Format Data"
   ]
  },
  {
   "cell_type": "code",
   "execution_count": 11,
   "id": "2824c74b-e6f3-48ff-9540-f2c66580ffc8",
   "metadata": {
    "execution": {
     "iopub.execute_input": "2024-06-05T06:07:08.146283Z",
     "iopub.status.busy": "2024-06-05T06:07:08.146023Z",
     "iopub.status.idle": "2024-06-05T06:07:08.150594Z",
     "shell.execute_reply": "2024-06-05T06:07:08.150142Z",
     "shell.execute_reply.started": "2024-06-05T06:07:08.146265Z"
    },
    "tags": []
   },
   "outputs": [],
   "source": [
    "def format_response_data(response_data):\n",
    "    \"\"\"\n",
    "    Process and format the JSON response data obtained from the Yahoo Sports API into a pandas DataFrame.\n",
    "\n",
    "    Parameters:\n",
    "    - response_data (dict): JSON response data obtained from the Yahoo Sports API, containing player statistics.\n",
    "\n",
    "    Returns:\n",
    "    - DataFrame: Pandas DataFrame containing formatted player statistics.\n",
    "    \"\"\"\n",
    "    if not response_data:\n",
    "        return None\n",
    "    try:\n",
    "        # Extract relevant data from the JSON response\n",
    "        response_data = response_data['data']['leagues'][0]['leaders']\n",
    "        data = []\n",
    "        for item in response_data:\n",
    "            # Extract player details\n",
    "            player_details = {\n",
    "                'PLAYER_NAME': item['player']['displayName'],\n",
    "                'PLAYER_ID': item['player']['playerId'],\n",
    "                'TEAM_NAME': item['player']['team']['displayName']\n",
    "            }\n",
    "            # Extract player statistics\n",
    "            player_stats = {stat['statId']: stat['value'] for stat in item['stats']}\n",
    "            # Combine player details and statistics into a single dictionary\n",
    "            player_row = {**player_details, **player_stats}\n",
    "            data.append(player_row)\n",
    "        # Convert the list of dictionaries into a pandas DataFrame\n",
    "        return pd.DataFrame(data)\n",
    "    except KeyError as e:\n",
    "        # Handle any errors encountered during data formatting\n",
    "        print(f'Error formatting response data: {e}')\n",
    "        return None"
   ]
  },
  {
   "cell_type": "code",
   "execution_count": 12,
   "id": "05bce92a-ba89-43a1-ac37-3eaf420e867b",
   "metadata": {
    "execution": {
     "iopub.execute_input": "2024-06-05T06:07:18.408424Z",
     "iopub.status.busy": "2024-06-05T06:07:18.408024Z",
     "iopub.status.idle": "2024-06-05T06:07:18.423324Z",
     "shell.execute_reply": "2024-06-05T06:07:18.423017Z",
     "shell.execute_reply.started": "2024-06-05T06:07:18.408403Z"
    },
    "tags": []
   },
   "outputs": [
    {
     "data": {
      "text/html": [
       "<div>\n",
       "<style scoped>\n",
       "    .dataframe tbody tr th:only-of-type {\n",
       "        vertical-align: middle;\n",
       "    }\n",
       "\n",
       "    .dataframe tbody tr th {\n",
       "        vertical-align: top;\n",
       "    }\n",
       "\n",
       "    .dataframe thead th {\n",
       "        text-align: right;\n",
       "    }\n",
       "</style>\n",
       "<table border=\"1\" class=\"dataframe\">\n",
       "  <thead>\n",
       "    <tr style=\"text-align: right;\">\n",
       "      <th></th>\n",
       "      <th>PLAYER_NAME</th>\n",
       "      <th>PLAYER_ID</th>\n",
       "      <th>TEAM_NAME</th>\n",
       "      <th>GAMES</th>\n",
       "      <th>MINUTES_PLAYED</th>\n",
       "      <th>FIELD_GOALS_MADE</th>\n",
       "      <th>FIELD_GOAL_ATTEMPTS</th>\n",
       "      <th>FIELD_GOAL_PERCENTAGE</th>\n",
       "      <th>THREE_POINTS_MADE</th>\n",
       "      <th>THREE_POINT_ATTEMPTS</th>\n",
       "      <th>...</th>\n",
       "      <th>FREE_THROW_PERCENTAGE</th>\n",
       "      <th>OFFENSIVE_REBOUNDS</th>\n",
       "      <th>DEFENSIVE_REBOUNDS</th>\n",
       "      <th>TOTAL_REBOUNDS</th>\n",
       "      <th>ASSISTS</th>\n",
       "      <th>TURNOVERS</th>\n",
       "      <th>STEALS</th>\n",
       "      <th>BLOCKS</th>\n",
       "      <th>FOULS</th>\n",
       "      <th>POINTS</th>\n",
       "    </tr>\n",
       "  </thead>\n",
       "  <tbody>\n",
       "    <tr>\n",
       "      <th>0</th>\n",
       "      <td>Caitlin Clark</td>\n",
       "      <td>ncaaw.p.64550</td>\n",
       "      <td>Iowa</td>\n",
       "      <td>32</td>\n",
       "      <td>1088</td>\n",
       "      <td>332</td>\n",
       "      <td>719</td>\n",
       "      <td>46.2</td>\n",
       "      <td>168</td>\n",
       "      <td>437</td>\n",
       "      <td>...</td>\n",
       "      <td>85.8</td>\n",
       "      <td>10</td>\n",
       "      <td>224</td>\n",
       "      <td>234</td>\n",
       "      <td>282</td>\n",
       "      <td>151</td>\n",
       "      <td>55</td>\n",
       "      <td>17</td>\n",
       "      <td>61</td>\n",
       "      <td>1020</td>\n",
       "    </tr>\n",
       "    <tr>\n",
       "      <th>1</th>\n",
       "      <td>JuJu Watkins</td>\n",
       "      <td>ncaaw.p.112021</td>\n",
       "      <td>Indiana</td>\n",
       "      <td>29</td>\n",
       "      <td>989</td>\n",
       "      <td>270</td>\n",
       "      <td>656</td>\n",
       "      <td>41.2</td>\n",
       "      <td>58</td>\n",
       "      <td>176</td>\n",
       "      <td>...</td>\n",
       "      <td>84.6</td>\n",
       "      <td>52</td>\n",
       "      <td>161</td>\n",
       "      <td>213</td>\n",
       "      <td>96</td>\n",
       "      <td>120</td>\n",
       "      <td>72</td>\n",
       "      <td>45</td>\n",
       "      <td>78</td>\n",
       "      <td>801</td>\n",
       "    </tr>\n",
       "    <tr>\n",
       "      <th>2</th>\n",
       "      <td>Hannah Hidalgo</td>\n",
       "      <td>ncaaw.p.112250</td>\n",
       "      <td>Notre Dame</td>\n",
       "      <td>31</td>\n",
       "      <td>1104</td>\n",
       "      <td>255</td>\n",
       "      <td>560</td>\n",
       "      <td>45.5</td>\n",
       "      <td>45</td>\n",
       "      <td>132</td>\n",
       "      <td>...</td>\n",
       "      <td>78.3</td>\n",
       "      <td>25</td>\n",
       "      <td>175</td>\n",
       "      <td>200</td>\n",
       "      <td>170</td>\n",
       "      <td>109</td>\n",
       "      <td>145</td>\n",
       "      <td>3</td>\n",
       "      <td>86</td>\n",
       "      <td>725</td>\n",
       "    </tr>\n",
       "    <tr>\n",
       "      <th>3</th>\n",
       "      <td>Lucy Olsen</td>\n",
       "      <td>ncaaw.p.67706</td>\n",
       "      <td>Iowa</td>\n",
       "      <td>30</td>\n",
       "      <td>1087</td>\n",
       "      <td>268</td>\n",
       "      <td>612</td>\n",
       "      <td>43.8</td>\n",
       "      <td>47</td>\n",
       "      <td>158</td>\n",
       "      <td>...</td>\n",
       "      <td>80.9</td>\n",
       "      <td>30</td>\n",
       "      <td>114</td>\n",
       "      <td>144</td>\n",
       "      <td>115</td>\n",
       "      <td>73</td>\n",
       "      <td>57</td>\n",
       "      <td>18</td>\n",
       "      <td>72</td>\n",
       "      <td>697</td>\n",
       "    </tr>\n",
       "    <tr>\n",
       "      <th>4</th>\n",
       "      <td>Ta'Niya Latson</td>\n",
       "      <td>ncaaw.p.70600</td>\n",
       "      <td>Florida St.</td>\n",
       "      <td>32</td>\n",
       "      <td>991</td>\n",
       "      <td>249</td>\n",
       "      <td>566</td>\n",
       "      <td>44.0</td>\n",
       "      <td>27</td>\n",
       "      <td>98</td>\n",
       "      <td>...</td>\n",
       "      <td>85.2</td>\n",
       "      <td>17</td>\n",
       "      <td>118</td>\n",
       "      <td>135</td>\n",
       "      <td>128</td>\n",
       "      <td>98</td>\n",
       "      <td>50</td>\n",
       "      <td>13</td>\n",
       "      <td>53</td>\n",
       "      <td>680</td>\n",
       "    </tr>\n",
       "  </tbody>\n",
       "</table>\n",
       "<p>5 rows × 23 columns</p>\n",
       "</div>"
      ],
      "text/plain": [
       "      PLAYER_NAME       PLAYER_ID    TEAM_NAME GAMES MINUTES_PLAYED  \\\n",
       "0   Caitlin Clark   ncaaw.p.64550         Iowa    32           1088   \n",
       "1    JuJu Watkins  ncaaw.p.112021      Indiana    29            989   \n",
       "2  Hannah Hidalgo  ncaaw.p.112250   Notre Dame    31           1104   \n",
       "3      Lucy Olsen   ncaaw.p.67706         Iowa    30           1087   \n",
       "4  Ta'Niya Latson   ncaaw.p.70600  Florida St.    32            991   \n",
       "\n",
       "  FIELD_GOALS_MADE FIELD_GOAL_ATTEMPTS FIELD_GOAL_PERCENTAGE  \\\n",
       "0              332                 719                  46.2   \n",
       "1              270                 656                  41.2   \n",
       "2              255                 560                  45.5   \n",
       "3              268                 612                  43.8   \n",
       "4              249                 566                  44.0   \n",
       "\n",
       "  THREE_POINTS_MADE THREE_POINT_ATTEMPTS  ... FREE_THROW_PERCENTAGE  \\\n",
       "0               168                  437  ...                  85.8   \n",
       "1                58                  176  ...                  84.6   \n",
       "2                45                  132  ...                  78.3   \n",
       "3                47                  158  ...                  80.9   \n",
       "4                27                   98  ...                  85.2   \n",
       "\n",
       "  OFFENSIVE_REBOUNDS DEFENSIVE_REBOUNDS TOTAL_REBOUNDS ASSISTS TURNOVERS  \\\n",
       "0                 10                224            234     282       151   \n",
       "1                 52                161            213      96       120   \n",
       "2                 25                175            200     170       109   \n",
       "3                 30                114            144     115        73   \n",
       "4                 17                118            135     128        98   \n",
       "\n",
       "  STEALS BLOCKS FOULS POINTS  \n",
       "0     55     17    61   1020  \n",
       "1     72     45    78    801  \n",
       "2    145      3    86    725  \n",
       "3     57     18    72    697  \n",
       "4     50     13    53    680  \n",
       "\n",
       "[5 rows x 23 columns]"
      ]
     },
     "execution_count": 12,
     "metadata": {},
     "output_type": "execute_result"
    }
   ],
   "source": [
    "example_dataframe = format_response_data(example_response)\n",
    "example_dataframe.head()"
   ]
  },
  {
   "cell_type": "code",
   "execution_count": 13,
   "id": "c2f2127c-51c0-4e6a-9d96-f15a367ab97a",
   "metadata": {
    "execution": {
     "iopub.execute_input": "2024-06-05T06:07:45.050962Z",
     "iopub.status.busy": "2024-06-05T06:07:45.050712Z",
     "iopub.status.idle": "2024-06-05T06:07:45.054619Z",
     "shell.execute_reply": "2024-06-05T06:07:45.054296Z",
     "shell.execute_reply.started": "2024-06-05T06:07:45.050944Z"
    },
    "tags": []
   },
   "outputs": [
    {
     "data": {
      "text/plain": [
       "Index(['PLAYER_NAME', 'PLAYER_ID', 'TEAM_NAME', 'GAMES', 'MINUTES_PLAYED',\n",
       "       'FIELD_GOALS_MADE', 'FIELD_GOAL_ATTEMPTS', 'FIELD_GOAL_PERCENTAGE',\n",
       "       'THREE_POINTS_MADE', 'THREE_POINT_ATTEMPTS', 'THREE_POINT_PERCENTAGE',\n",
       "       'FREE_THROWS_MADE', 'FREE_THROW_ATTEMPTS', 'FREE_THROW_PERCENTAGE',\n",
       "       'OFFENSIVE_REBOUNDS', 'DEFENSIVE_REBOUNDS', 'TOTAL_REBOUNDS', 'ASSISTS',\n",
       "       'TURNOVERS', 'STEALS', 'BLOCKS', 'FOULS', 'POINTS'],\n",
       "      dtype='object')"
      ]
     },
     "execution_count": 13,
     "metadata": {},
     "output_type": "execute_result"
    }
   ],
   "source": [
    "example_dataframe.columns"
   ]
  },
  {
   "cell_type": "code",
   "execution_count": 15,
   "id": "2c8e2426-f551-46f9-b437-0720361864ee",
   "metadata": {
    "execution": {
     "iopub.execute_input": "2024-06-05T06:08:21.947607Z",
     "iopub.status.busy": "2024-06-05T06:08:21.946918Z",
     "iopub.status.idle": "2024-06-05T06:08:21.951302Z",
     "shell.execute_reply": "2024-06-05T06:08:21.950802Z",
     "shell.execute_reply.started": "2024-06-05T06:08:21.947582Z"
    },
    "tags": []
   },
   "outputs": [
    {
     "data": {
      "text/plain": [
       "(500, 23)"
      ]
     },
     "execution_count": 15,
     "metadata": {},
     "output_type": "execute_result"
    }
   ],
   "source": [
    "example_dataframe.shape"
   ]
  },
  {
   "cell_type": "markdown",
   "id": "a88e86d6-7424-40b0-84be-6d7570f6f342",
   "metadata": {},
   "source": [
    "## Write a Function to Format and Request Data"
   ]
  },
  {
   "cell_type": "code",
   "execution_count": 16,
   "id": "51f4066f-6c3b-4136-bdf9-80ab7ad3c722",
   "metadata": {
    "execution": {
     "iopub.execute_input": "2024-06-05T06:08:44.780237Z",
     "iopub.status.busy": "2024-06-05T06:08:44.779940Z",
     "iopub.status.idle": "2024-06-05T06:08:44.784135Z",
     "shell.execute_reply": "2024-06-05T06:08:44.783606Z",
     "shell.execute_reply.started": "2024-06-05T06:08:44.780214Z"
    },
    "tags": []
   },
   "outputs": [],
   "source": [
    "def get_and_format_data_for_stat(stat_name, season='2023', league='ncaaw'):\n",
    "    \"\"\"\n",
    "    Retrieve basketball player statistics for a specified statistical category (stat_name) for a given season and league\n",
    "    and format the data into a pandas DataFrame.\n",
    "\n",
    "    Parameters:\n",
    "    - stat_name (str): Specifies the statistical category for which data is requested.\n",
    "    - season (str): Specifies the season for which data is requested (default is '2023').\n",
    "    - league (str): Specifies the league for which data is requested (default is 'ncaaw' for NCAA Women's Basketball).\n",
    "\n",
    "    Returns:\n",
    "    - DataFrame: Pandas DataFrame containing formatted player statistics for the specified statistical category.\n",
    "    \"\"\"\n",
    "    # Retrieve player statistics for the specified statistical category, season, and league\n",
    "    response_data = get_data_for_stat(stat_name, season, league)\n",
    "    # Format the retrieved data into a pandas DataFrame\n",
    "    return format_response_data(response_data)"
   ]
  },
  {
   "cell_type": "markdown",
   "id": "1e92cdf8-5fc9-41ea-ba35-cfc84be3bd3d",
   "metadata": {},
   "source": [
    "## Request the Data for each Statistic"
   ]
  },
  {
   "cell_type": "code",
   "execution_count": 17,
   "id": "c95feb3c-47b2-4678-b0c3-655c77cea3da",
   "metadata": {
    "execution": {
     "iopub.execute_input": "2024-06-05T06:09:48.035284Z",
     "iopub.status.busy": "2024-06-05T06:09:48.034959Z",
     "iopub.status.idle": "2024-06-05T06:09:56.389384Z",
     "shell.execute_reply": "2024-06-05T06:09:56.388829Z",
     "shell.execute_reply.started": "2024-06-05T06:09:48.035258Z"
    },
    "tags": []
   },
   "outputs": [],
   "source": [
    "# Get and format data for each stat\n",
    "points_top_players = get_and_format_data_for_stat('POINTS')\n",
    "assists_top_players = get_and_format_data_for_stat('ASSISTS')\n",
    "rebounds_top_players = get_and_format_data_for_stat('TOTAL_REBOUNDS')\n",
    "blocks_top_players = get_and_format_data_for_stat('BLOCKS')\n",
    "steals_top_players = get_and_format_data_for_stat('STEALS')"
   ]
  },
  {
   "cell_type": "markdown",
   "id": "e77cba7e-49d6-423b-8a48-7250580e3127",
   "metadata": {
    "execution": {
     "iopub.execute_input": "2024-06-05T06:10:05.881561Z",
     "iopub.status.busy": "2024-06-05T06:10:05.881272Z",
     "iopub.status.idle": "2024-06-05T06:10:05.883932Z",
     "shell.execute_reply": "2024-06-05T06:10:05.883639Z",
     "shell.execute_reply.started": "2024-06-05T06:10:05.881538Z"
    },
    "tags": []
   },
   "source": [
    "## Combine each statistic into one dataset"
   ]
  },
  {
   "cell_type": "code",
   "execution_count": 19,
   "id": "38dbdd6a-d23b-4a1e-85f5-b1034306f642",
   "metadata": {
    "execution": {
     "iopub.execute_input": "2024-06-05T06:10:18.012318Z",
     "iopub.status.busy": "2024-06-05T06:10:18.012074Z",
     "iopub.status.idle": "2024-06-05T06:10:18.035462Z",
     "shell.execute_reply": "2024-06-05T06:10:18.035157Z",
     "shell.execute_reply.started": "2024-06-05T06:10:18.012301Z"
    },
    "tags": []
   },
   "outputs": [
    {
     "data": {
      "text/html": [
       "<div>\n",
       "<style scoped>\n",
       "    .dataframe tbody tr th:only-of-type {\n",
       "        vertical-align: middle;\n",
       "    }\n",
       "\n",
       "    .dataframe tbody tr th {\n",
       "        vertical-align: top;\n",
       "    }\n",
       "\n",
       "    .dataframe thead th {\n",
       "        text-align: right;\n",
       "    }\n",
       "</style>\n",
       "<table border=\"1\" class=\"dataframe\">\n",
       "  <thead>\n",
       "    <tr style=\"text-align: right;\">\n",
       "      <th></th>\n",
       "      <th>PLAYER_NAME</th>\n",
       "      <th>PLAYER_ID</th>\n",
       "      <th>TEAM_NAME</th>\n",
       "      <th>GAMES</th>\n",
       "      <th>MINUTES_PLAYED</th>\n",
       "      <th>FIELD_GOALS_MADE</th>\n",
       "      <th>FIELD_GOAL_ATTEMPTS</th>\n",
       "      <th>FIELD_GOAL_PERCENTAGE</th>\n",
       "      <th>THREE_POINTS_MADE</th>\n",
       "      <th>THREE_POINT_ATTEMPTS</th>\n",
       "      <th>...</th>\n",
       "      <th>FREE_THROW_PERCENTAGE</th>\n",
       "      <th>OFFENSIVE_REBOUNDS</th>\n",
       "      <th>DEFENSIVE_REBOUNDS</th>\n",
       "      <th>TOTAL_REBOUNDS</th>\n",
       "      <th>ASSISTS</th>\n",
       "      <th>TURNOVERS</th>\n",
       "      <th>STEALS</th>\n",
       "      <th>BLOCKS</th>\n",
       "      <th>FOULS</th>\n",
       "      <th>POINTS</th>\n",
       "    </tr>\n",
       "  </thead>\n",
       "  <tbody>\n",
       "    <tr>\n",
       "      <th>0</th>\n",
       "      <td>Caitlin Clark</td>\n",
       "      <td>ncaaw.p.64550</td>\n",
       "      <td>Iowa</td>\n",
       "      <td>32</td>\n",
       "      <td>1088</td>\n",
       "      <td>332</td>\n",
       "      <td>719</td>\n",
       "      <td>46.2</td>\n",
       "      <td>168</td>\n",
       "      <td>437</td>\n",
       "      <td>...</td>\n",
       "      <td>85.8</td>\n",
       "      <td>10</td>\n",
       "      <td>224</td>\n",
       "      <td>234</td>\n",
       "      <td>282</td>\n",
       "      <td>151</td>\n",
       "      <td>55</td>\n",
       "      <td>17</td>\n",
       "      <td>61</td>\n",
       "      <td>1020</td>\n",
       "    </tr>\n",
       "    <tr>\n",
       "      <th>1</th>\n",
       "      <td>JuJu Watkins</td>\n",
       "      <td>ncaaw.p.112021</td>\n",
       "      <td>Indiana</td>\n",
       "      <td>29</td>\n",
       "      <td>989</td>\n",
       "      <td>270</td>\n",
       "      <td>656</td>\n",
       "      <td>41.2</td>\n",
       "      <td>58</td>\n",
       "      <td>176</td>\n",
       "      <td>...</td>\n",
       "      <td>84.6</td>\n",
       "      <td>52</td>\n",
       "      <td>161</td>\n",
       "      <td>213</td>\n",
       "      <td>96</td>\n",
       "      <td>120</td>\n",
       "      <td>72</td>\n",
       "      <td>45</td>\n",
       "      <td>78</td>\n",
       "      <td>801</td>\n",
       "    </tr>\n",
       "    <tr>\n",
       "      <th>2</th>\n",
       "      <td>Hannah Hidalgo</td>\n",
       "      <td>ncaaw.p.112250</td>\n",
       "      <td>Notre Dame</td>\n",
       "      <td>31</td>\n",
       "      <td>1104</td>\n",
       "      <td>255</td>\n",
       "      <td>560</td>\n",
       "      <td>45.5</td>\n",
       "      <td>45</td>\n",
       "      <td>132</td>\n",
       "      <td>...</td>\n",
       "      <td>78.3</td>\n",
       "      <td>25</td>\n",
       "      <td>175</td>\n",
       "      <td>200</td>\n",
       "      <td>170</td>\n",
       "      <td>109</td>\n",
       "      <td>145</td>\n",
       "      <td>3</td>\n",
       "      <td>86</td>\n",
       "      <td>725</td>\n",
       "    </tr>\n",
       "    <tr>\n",
       "      <th>3</th>\n",
       "      <td>Lucy Olsen</td>\n",
       "      <td>ncaaw.p.67706</td>\n",
       "      <td>Iowa</td>\n",
       "      <td>30</td>\n",
       "      <td>1087</td>\n",
       "      <td>268</td>\n",
       "      <td>612</td>\n",
       "      <td>43.8</td>\n",
       "      <td>47</td>\n",
       "      <td>158</td>\n",
       "      <td>...</td>\n",
       "      <td>80.9</td>\n",
       "      <td>30</td>\n",
       "      <td>114</td>\n",
       "      <td>144</td>\n",
       "      <td>115</td>\n",
       "      <td>73</td>\n",
       "      <td>57</td>\n",
       "      <td>18</td>\n",
       "      <td>72</td>\n",
       "      <td>697</td>\n",
       "    </tr>\n",
       "    <tr>\n",
       "      <th>4</th>\n",
       "      <td>Ta'Niya Latson</td>\n",
       "      <td>ncaaw.p.70600</td>\n",
       "      <td>Florida St.</td>\n",
       "      <td>32</td>\n",
       "      <td>991</td>\n",
       "      <td>249</td>\n",
       "      <td>566</td>\n",
       "      <td>44.0</td>\n",
       "      <td>27</td>\n",
       "      <td>98</td>\n",
       "      <td>...</td>\n",
       "      <td>85.2</td>\n",
       "      <td>17</td>\n",
       "      <td>118</td>\n",
       "      <td>135</td>\n",
       "      <td>128</td>\n",
       "      <td>98</td>\n",
       "      <td>50</td>\n",
       "      <td>13</td>\n",
       "      <td>53</td>\n",
       "      <td>680</td>\n",
       "    </tr>\n",
       "  </tbody>\n",
       "</table>\n",
       "<p>5 rows × 23 columns</p>\n",
       "</div>"
      ],
      "text/plain": [
       "      PLAYER_NAME       PLAYER_ID    TEAM_NAME GAMES MINUTES_PLAYED  \\\n",
       "0   Caitlin Clark   ncaaw.p.64550         Iowa    32           1088   \n",
       "1    JuJu Watkins  ncaaw.p.112021      Indiana    29            989   \n",
       "2  Hannah Hidalgo  ncaaw.p.112250   Notre Dame    31           1104   \n",
       "3      Lucy Olsen   ncaaw.p.67706         Iowa    30           1087   \n",
       "4  Ta'Niya Latson   ncaaw.p.70600  Florida St.    32            991   \n",
       "\n",
       "  FIELD_GOALS_MADE FIELD_GOAL_ATTEMPTS FIELD_GOAL_PERCENTAGE  \\\n",
       "0              332                 719                  46.2   \n",
       "1              270                 656                  41.2   \n",
       "2              255                 560                  45.5   \n",
       "3              268                 612                  43.8   \n",
       "4              249                 566                  44.0   \n",
       "\n",
       "  THREE_POINTS_MADE THREE_POINT_ATTEMPTS  ... FREE_THROW_PERCENTAGE  \\\n",
       "0               168                  437  ...                  85.8   \n",
       "1                58                  176  ...                  84.6   \n",
       "2                45                  132  ...                  78.3   \n",
       "3                47                  158  ...                  80.9   \n",
       "4                27                   98  ...                  85.2   \n",
       "\n",
       "  OFFENSIVE_REBOUNDS DEFENSIVE_REBOUNDS TOTAL_REBOUNDS ASSISTS TURNOVERS  \\\n",
       "0                 10                224            234     282       151   \n",
       "1                 52                161            213      96       120   \n",
       "2                 25                175            200     170       109   \n",
       "3                 30                114            144     115        73   \n",
       "4                 17                118            135     128        98   \n",
       "\n",
       "  STEALS BLOCKS FOULS POINTS  \n",
       "0     55     17    61   1020  \n",
       "1     72     45    78    801  \n",
       "2    145      3    86    725  \n",
       "3     57     18    72    697  \n",
       "4     50     13    53    680  \n",
       "\n",
       "[5 rows x 23 columns]"
      ]
     },
     "execution_count": 19,
     "metadata": {},
     "output_type": "execute_result"
    }
   ],
   "source": [
    "# Combine the leaders for each stat into one df\n",
    "player_stats = pd.concat([points_top_players, assists_top_players, rebounds_top_players,\n",
    "                         blocks_top_players, steals_top_players], ignore_index=True).drop_duplicates()\n",
    "player_stats.head()"
   ]
  },
  {
   "cell_type": "code",
   "execution_count": 20,
   "id": "d8d8a544-ce8e-41d8-be29-174da8d86672",
   "metadata": {
    "execution": {
     "iopub.execute_input": "2024-06-05T06:10:27.980478Z",
     "iopub.status.busy": "2024-06-05T06:10:27.980090Z",
     "iopub.status.idle": "2024-06-05T06:10:27.983029Z",
     "shell.execute_reply": "2024-06-05T06:10:27.982750Z",
     "shell.execute_reply.started": "2024-06-05T06:10:27.980464Z"
    },
    "tags": []
   },
   "outputs": [
    {
     "data": {
      "text/plain": [
       "(1392, 23)"
      ]
     },
     "execution_count": 20,
     "metadata": {},
     "output_type": "execute_result"
    }
   ],
   "source": [
    "player_stats.shape"
   ]
  },
  {
   "cell_type": "code",
   "execution_count": 21,
   "id": "829e2788-47a1-41cc-a08b-d814b2ed617c",
   "metadata": {
    "execution": {
     "iopub.execute_input": "2024-06-05T06:10:36.294504Z",
     "iopub.status.busy": "2024-06-05T06:10:36.294053Z",
     "iopub.status.idle": "2024-06-05T06:10:36.603660Z",
     "shell.execute_reply": "2024-06-05T06:10:36.603157Z",
     "shell.execute_reply.started": "2024-06-05T06:10:36.294484Z"
    },
    "tags": []
   },
   "outputs": [],
   "source": [
    "player_stats.to_excel('player_stats.xlsx', index=False)"
   ]
  },
  {
   "cell_type": "markdown",
   "id": "bf390816-1d17-4d99-9933-4f599c5a2612",
   "metadata": {},
   "source": [
    "# Combine Player Information and Statistics Datasets"
   ]
  },
  {
   "cell_type": "code",
   "execution_count": 22,
   "id": "ed5e36b4-52fd-4fb6-9a88-446d0ef4fa70",
   "metadata": {
    "execution": {
     "iopub.execute_input": "2024-06-05T06:11:02.099285Z",
     "iopub.status.busy": "2024-06-05T06:11:02.098985Z",
     "iopub.status.idle": "2024-06-05T06:11:02.104349Z",
     "shell.execute_reply": "2024-06-05T06:11:02.103925Z",
     "shell.execute_reply.started": "2024-06-05T06:11:02.099273Z"
    },
    "tags": []
   },
   "outputs": [
    {
     "data": {
      "text/html": [
       "<div>\n",
       "<style scoped>\n",
       "    .dataframe tbody tr th:only-of-type {\n",
       "        vertical-align: middle;\n",
       "    }\n",
       "\n",
       "    .dataframe tbody tr th {\n",
       "        vertical-align: top;\n",
       "    }\n",
       "\n",
       "    .dataframe thead th {\n",
       "        text-align: right;\n",
       "    }\n",
       "</style>\n",
       "<table border=\"1\" class=\"dataframe\">\n",
       "  <thead>\n",
       "    <tr style=\"text-align: right;\">\n",
       "      <th></th>\n",
       "      <th>PLAYER_NAME</th>\n",
       "      <th>Team</th>\n",
       "      <th>Class</th>\n",
       "      <th>Height</th>\n",
       "      <th>Position</th>\n",
       "    </tr>\n",
       "  </thead>\n",
       "  <tbody>\n",
       "    <tr>\n",
       "      <th>0</th>\n",
       "      <td>Kiara Jackson</td>\n",
       "      <td>UNLV (Mountain West)</td>\n",
       "      <td>Jr.</td>\n",
       "      <td>5-7</td>\n",
       "      <td>G</td>\n",
       "    </tr>\n",
       "    <tr>\n",
       "      <th>1</th>\n",
       "      <td>Raven Johnson</td>\n",
       "      <td>South Carolina (SEC)</td>\n",
       "      <td>So.</td>\n",
       "      <td>5-8</td>\n",
       "      <td>G</td>\n",
       "    </tr>\n",
       "    <tr>\n",
       "      <th>2</th>\n",
       "      <td>Gina Marxen</td>\n",
       "      <td>Montana (Big Sky)</td>\n",
       "      <td>Sr.</td>\n",
       "      <td>5-8</td>\n",
       "      <td>G</td>\n",
       "    </tr>\n",
       "    <tr>\n",
       "      <th>3</th>\n",
       "      <td>McKenna Hofschild</td>\n",
       "      <td>Colorado St. (Mountain West)</td>\n",
       "      <td>Sr.</td>\n",
       "      <td>5-2</td>\n",
       "      <td>G</td>\n",
       "    </tr>\n",
       "    <tr>\n",
       "      <th>4</th>\n",
       "      <td>Kaylah Ivey</td>\n",
       "      <td>Boston College (ACC)</td>\n",
       "      <td>Jr.</td>\n",
       "      <td>5-8</td>\n",
       "      <td>G</td>\n",
       "    </tr>\n",
       "  </tbody>\n",
       "</table>\n",
       "</div>"
      ],
      "text/plain": [
       "         PLAYER_NAME                           Team Class Height Position\n",
       "0      Kiara Jackson           UNLV (Mountain West)   Jr.    5-7        G\n",
       "1      Raven Johnson           South Carolina (SEC)   So.    5-8        G\n",
       "2        Gina Marxen              Montana (Big Sky)   Sr.    5-8        G\n",
       "3  McKenna Hofschild   Colorado St. (Mountain West)   Sr.    5-2        G\n",
       "4        Kaylah Ivey           Boston College (ACC)   Jr.    5-8        G"
      ]
     },
     "execution_count": 22,
     "metadata": {},
     "output_type": "execute_result"
    }
   ],
   "source": [
    "player_info.rename(columns={\"Player\": \"PLAYER_NAME\"}, inplace=True)\n",
    "player_info.head()"
   ]
  },
  {
   "cell_type": "code",
   "execution_count": 23,
   "id": "e5080a8d-456e-4b26-8199-4a7887425e68",
   "metadata": {
    "execution": {
     "iopub.execute_input": "2024-06-05T06:11:08.542371Z",
     "iopub.status.busy": "2024-06-05T06:11:08.541841Z",
     "iopub.status.idle": "2024-06-05T06:11:08.566279Z",
     "shell.execute_reply": "2024-06-05T06:11:08.565828Z",
     "shell.execute_reply.started": "2024-06-05T06:11:08.542353Z"
    },
    "tags": []
   },
   "outputs": [
    {
     "data": {
      "text/html": [
       "<div>\n",
       "<style scoped>\n",
       "    .dataframe tbody tr th:only-of-type {\n",
       "        vertical-align: middle;\n",
       "    }\n",
       "\n",
       "    .dataframe tbody tr th {\n",
       "        vertical-align: top;\n",
       "    }\n",
       "\n",
       "    .dataframe thead th {\n",
       "        text-align: right;\n",
       "    }\n",
       "</style>\n",
       "<table border=\"1\" class=\"dataframe\">\n",
       "  <thead>\n",
       "    <tr style=\"text-align: right;\">\n",
       "      <th></th>\n",
       "      <th>PLAYER_NAME</th>\n",
       "      <th>Team</th>\n",
       "      <th>Class</th>\n",
       "      <th>Height</th>\n",
       "      <th>Position</th>\n",
       "      <th>PLAYER_ID</th>\n",
       "      <th>TEAM_NAME</th>\n",
       "      <th>GAMES</th>\n",
       "      <th>MINUTES_PLAYED</th>\n",
       "      <th>FIELD_GOALS_MADE</th>\n",
       "      <th>...</th>\n",
       "      <th>FREE_THROW_PERCENTAGE</th>\n",
       "      <th>OFFENSIVE_REBOUNDS</th>\n",
       "      <th>DEFENSIVE_REBOUNDS</th>\n",
       "      <th>TOTAL_REBOUNDS</th>\n",
       "      <th>ASSISTS</th>\n",
       "      <th>TURNOVERS</th>\n",
       "      <th>STEALS</th>\n",
       "      <th>BLOCKS</th>\n",
       "      <th>FOULS</th>\n",
       "      <th>POINTS</th>\n",
       "    </tr>\n",
       "  </thead>\n",
       "  <tbody>\n",
       "    <tr>\n",
       "      <th>0</th>\n",
       "      <td>Kiara Jackson</td>\n",
       "      <td>UNLV (Mountain West)</td>\n",
       "      <td>Jr.</td>\n",
       "      <td>5-7</td>\n",
       "      <td>G</td>\n",
       "      <td>ncaaw.p.67149</td>\n",
       "      <td>UNLV</td>\n",
       "      <td>29</td>\n",
       "      <td>895</td>\n",
       "      <td>128</td>\n",
       "      <td>...</td>\n",
       "      <td>75.0</td>\n",
       "      <td>27</td>\n",
       "      <td>102</td>\n",
       "      <td>129</td>\n",
       "      <td>135</td>\n",
       "      <td>42</td>\n",
       "      <td>31</td>\n",
       "      <td>5</td>\n",
       "      <td>47</td>\n",
       "      <td>323</td>\n",
       "    </tr>\n",
       "    <tr>\n",
       "      <th>1</th>\n",
       "      <td>Raven Johnson</td>\n",
       "      <td>South Carolina (SEC)</td>\n",
       "      <td>So.</td>\n",
       "      <td>5-8</td>\n",
       "      <td>G</td>\n",
       "      <td>ncaaw.p.67515</td>\n",
       "      <td>South Carolina</td>\n",
       "      <td>30</td>\n",
       "      <td>823</td>\n",
       "      <td>98</td>\n",
       "      <td>...</td>\n",
       "      <td>64.3</td>\n",
       "      <td>33</td>\n",
       "      <td>128</td>\n",
       "      <td>161</td>\n",
       "      <td>148</td>\n",
       "      <td>53</td>\n",
       "      <td>60</td>\n",
       "      <td>5</td>\n",
       "      <td>34</td>\n",
       "      <td>243</td>\n",
       "    </tr>\n",
       "    <tr>\n",
       "      <th>2</th>\n",
       "      <td>Gina Marxen</td>\n",
       "      <td>Montana (Big Sky)</td>\n",
       "      <td>Sr.</td>\n",
       "      <td>5-8</td>\n",
       "      <td>G</td>\n",
       "      <td>ncaaw.p.57909</td>\n",
       "      <td>Montana</td>\n",
       "      <td>29</td>\n",
       "      <td>778</td>\n",
       "      <td>88</td>\n",
       "      <td>...</td>\n",
       "      <td>72.4</td>\n",
       "      <td>6</td>\n",
       "      <td>54</td>\n",
       "      <td>60</td>\n",
       "      <td>111</td>\n",
       "      <td>38</td>\n",
       "      <td>16</td>\n",
       "      <td>2</td>\n",
       "      <td>26</td>\n",
       "      <td>297</td>\n",
       "    </tr>\n",
       "    <tr>\n",
       "      <th>3</th>\n",
       "      <td>McKenna Hofschild</td>\n",
       "      <td>Colorado St. (Mountain West)</td>\n",
       "      <td>Sr.</td>\n",
       "      <td>5-2</td>\n",
       "      <td>G</td>\n",
       "      <td>ncaaw.p.60402</td>\n",
       "      <td>Colorado St.</td>\n",
       "      <td>29</td>\n",
       "      <td>1046</td>\n",
       "      <td>231</td>\n",
       "      <td>...</td>\n",
       "      <td>83.5</td>\n",
       "      <td>6</td>\n",
       "      <td>109</td>\n",
       "      <td>115</td>\n",
       "      <td>211</td>\n",
       "      <td>71</td>\n",
       "      <td>36</td>\n",
       "      <td>4</td>\n",
       "      <td>34</td>\n",
       "      <td>654</td>\n",
       "    </tr>\n",
       "    <tr>\n",
       "      <th>4</th>\n",
       "      <td>Kaylah Ivey</td>\n",
       "      <td>Boston College (ACC)</td>\n",
       "      <td>Jr.</td>\n",
       "      <td>5-8</td>\n",
       "      <td>G</td>\n",
       "      <td>ncaaw.p.64531</td>\n",
       "      <td>Boston Coll.</td>\n",
       "      <td>33</td>\n",
       "      <td>995</td>\n",
       "      <td>47</td>\n",
       "      <td>...</td>\n",
       "      <td>60.7</td>\n",
       "      <td>12</td>\n",
       "      <td>45</td>\n",
       "      <td>57</td>\n",
       "      <td>186</td>\n",
       "      <td>64</td>\n",
       "      <td>36</td>\n",
       "      <td>1</td>\n",
       "      <td>48</td>\n",
       "      <td>143</td>\n",
       "    </tr>\n",
       "  </tbody>\n",
       "</table>\n",
       "<p>5 rows × 27 columns</p>\n",
       "</div>"
      ],
      "text/plain": [
       "         PLAYER_NAME                           Team Class Height Position  \\\n",
       "0      Kiara Jackson           UNLV (Mountain West)   Jr.    5-7        G   \n",
       "1      Raven Johnson           South Carolina (SEC)   So.    5-8        G   \n",
       "2        Gina Marxen              Montana (Big Sky)   Sr.    5-8        G   \n",
       "3  McKenna Hofschild   Colorado St. (Mountain West)   Sr.    5-2        G   \n",
       "4        Kaylah Ivey           Boston College (ACC)   Jr.    5-8        G   \n",
       "\n",
       "       PLAYER_ID       TEAM_NAME GAMES MINUTES_PLAYED FIELD_GOALS_MADE  ...  \\\n",
       "0  ncaaw.p.67149            UNLV    29            895              128  ...   \n",
       "1  ncaaw.p.67515  South Carolina    30            823               98  ...   \n",
       "2  ncaaw.p.57909         Montana    29            778               88  ...   \n",
       "3  ncaaw.p.60402    Colorado St.    29           1046              231  ...   \n",
       "4  ncaaw.p.64531    Boston Coll.    33            995               47  ...   \n",
       "\n",
       "  FREE_THROW_PERCENTAGE OFFENSIVE_REBOUNDS DEFENSIVE_REBOUNDS TOTAL_REBOUNDS  \\\n",
       "0                  75.0                 27                102            129   \n",
       "1                  64.3                 33                128            161   \n",
       "2                  72.4                  6                 54             60   \n",
       "3                  83.5                  6                109            115   \n",
       "4                  60.7                 12                 45             57   \n",
       "\n",
       "  ASSISTS TURNOVERS STEALS BLOCKS FOULS POINTS  \n",
       "0     135        42     31      5    47    323  \n",
       "1     148        53     60      5    34    243  \n",
       "2     111        38     16      2    26    297  \n",
       "3     211        71     36      4    34    654  \n",
       "4     186        64     36      1    48    143  \n",
       "\n",
       "[5 rows x 27 columns]"
      ]
     },
     "execution_count": 23,
     "metadata": {},
     "output_type": "execute_result"
    }
   ],
   "source": [
    "player_data = pd.merge(player_info, player_stats, on=['PLAYER_NAME'], how='inner')\n",
    "player_data.head()"
   ]
  },
  {
   "cell_type": "code",
   "execution_count": 24,
   "id": "c9051feb-fc41-4d37-85cd-8423da75585b",
   "metadata": {
    "execution": {
     "iopub.execute_input": "2024-06-05T06:11:17.717326Z",
     "iopub.status.busy": "2024-06-05T06:11:17.716893Z",
     "iopub.status.idle": "2024-06-05T06:11:17.720556Z",
     "shell.execute_reply": "2024-06-05T06:11:17.720098Z",
     "shell.execute_reply.started": "2024-06-05T06:11:17.717307Z"
    },
    "tags": []
   },
   "outputs": [
    {
     "data": {
      "text/plain": [
       "(900, 27)"
      ]
     },
     "execution_count": 24,
     "metadata": {},
     "output_type": "execute_result"
    }
   ],
   "source": [
    "player_data.shape"
   ]
  },
  {
   "cell_type": "code",
   "execution_count": 25,
   "id": "9a573e90-07ef-429a-844e-b78da2c4bbd2",
   "metadata": {
    "execution": {
     "iopub.execute_input": "2024-06-05T06:11:24.934458Z",
     "iopub.status.busy": "2024-06-05T06:11:24.934067Z",
     "iopub.status.idle": "2024-06-05T06:11:25.315875Z",
     "shell.execute_reply": "2024-06-05T06:11:25.315461Z",
     "shell.execute_reply.started": "2024-06-05T06:11:24.934445Z"
    },
    "tags": []
   },
   "outputs": [],
   "source": [
    "player_data.to_excel('player_data_raw.xlsx', index=False)"
   ]
  },
  {
   "cell_type": "code",
   "execution_count": null,
   "id": "b8e878cd-8443-4727-9b3a-6d38ca0d6327",
   "metadata": {},
   "outputs": [],
   "source": []
  }
 ],
 "metadata": {
  "kernelspec": {
   "display_name": "Python 3 (ipykernel)",
   "language": "python",
   "name": "python3"
  },
  "language_info": {
   "codemirror_mode": {
    "name": "ipython",
    "version": 3
   },
   "file_extension": ".py",
   "mimetype": "text/x-python",
   "name": "python",
   "nbconvert_exporter": "python",
   "pygments_lexer": "ipython3",
   "version": "3.10.12"
  }
 },
 "nbformat": 4,
 "nbformat_minor": 5
}
